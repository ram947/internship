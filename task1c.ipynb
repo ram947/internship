{
 "cells": [
  {
   "cell_type": "code",
   "execution_count": 1,
   "id": "1f795b38-1094-4f72-8816-b313e98804c7",
   "metadata": {},
   "outputs": [],
   "source": [
    "import pandas as pd\n",
    "import plotly.express as px\n"
   ]
  },
  {
   "cell_type": "code",
   "execution_count": 2,
   "id": "1ccc2551-18ed-4c98-98f4-c5aa0d61e63d",
   "metadata": {},
   "outputs": [],
   "source": [
    "df = pd.read_csv(\"Play Store Data.csv\")"
   ]
  },
  {
   "cell_type": "code",
   "execution_count": 3,
   "id": "89480e89-b67a-475d-9d6b-31eb143e5c42",
   "metadata": {},
   "outputs": [],
   "source": [
    "paid_apps = df[df[\"Price\"].str.contains(r\"\\$\", na=False)].copy()"
   ]
  },
  {
   "cell_type": "code",
   "execution_count": 4,
   "id": "0f3fd35c-05d4-4483-92a3-e3d37c81a8c3",
   "metadata": {},
   "outputs": [],
   "source": [
    "paid_apps[\"Price\"] = paid_apps[\"Price\"].str.replace(\"$\", \"\").astype(float)"
   ]
  },
  {
   "cell_type": "code",
   "execution_count": 5,
   "id": "05b5af51-8894-47c3-9802-7c35f9da59c9",
   "metadata": {},
   "outputs": [],
   "source": [
    "paid_apps[\"Min Installs\"] = paid_apps[\"Installs\"].str.replace(\"[+,]\", \"\", regex=True).astype(float)\n"
   ]
  },
  {
   "cell_type": "code",
   "execution_count": 6,
   "id": "486d398f-089f-476f-93f5-e309c4007ed0",
   "metadata": {},
   "outputs": [],
   "source": [
    "paid_apps[\"Revenue\"] = paid_apps[\"Price\"] * paid_apps[\"Min Installs\"]"
   ]
  },
  {
   "cell_type": "code",
   "execution_count": 7,
   "id": "b184754e-4bde-4657-b2b7-27127ca5844c",
   "metadata": {},
   "outputs": [],
   "source": [
    "fig = px.scatter(\n",
    "    paid_apps, \n",
    "    x=\"Min Installs\", \n",
    "    y=\"Revenue\", \n",
    "    color=\"Category\",\n",
    "    title=\"Revenue vs. Installs for Paid Apps\",\n",
    "    labels={\"Min Installs\": \"Number of Installs\", \"Revenue\": \"Estimated Revenue\"},\n",
    "    trendline=\"ols\",\n",
    "    hover_data=[\"App\"]\n",
    ")"
   ]
  },
  {
   "cell_type": "code",
   "execution_count": 9,
   "id": "88630169-24f3-432a-8fbd-9c83c4a79c32",
   "metadata": {},
   "outputs": [
    {
     "data": {
      "application/vnd.plotly.v1+json": {
       "config": {
        "plotlyServerURL": "https://plot.ly"
       },
       "data": [
        {
         "customdata": [
          [
           "TurboScan: scan documents and receipts in PDF"
          ],
          [
           "Tiny Scanner Pro: PDF Doc Scan"
          ],
          [
           "TurboScan: scan documents and receipts in PDF"
          ],
          [
           "Tiny Scanner Pro: PDF Doc Scan"
          ],
          [
           "AW Toolbox"
          ],
          [
           "Bk Bee Sales Manager"
          ],
          [
           "SkyTest BU/GU Lite"
          ],
          [
           "BZ Reminder PRO"
          ],
          [
           "CM FILE MANAGER Pro"
          ],
          [
           "Super Resume Builder Pro, CV"
          ],
          [
           "DG Surveyor"
          ],
          [
           "The DG Buddy"
          ],
          [
           "DS Helpdesk Plus"
          ],
          [
           "Lean EQ"
          ]
         ],
         "hovertemplate": "Category=BUSINESS<br>Number of Installs=%{x}<br>Estimated Revenue=%{y}<br>App=%{customdata[0]}<extra></extra>",
         "legendgroup": "BUSINESS",
         "marker": {
          "color": "#636efa",
          "symbol": "circle"
         },
         "mode": "markers",
         "name": "BUSINESS",
         "orientation": "v",
         "showlegend": true,
         "type": "scatter",
         "x": [
          100000,
          100000,
          100000,
          100000,
          100,
          5,
          500,
          1000,
          10000,
          1000,
          50,
          10,
          100,
          10
         ],
         "xaxis": "x",
         "y": [
          499000,
          499000,
          499000,
          499000,
          1989.9999999999998,
          4.95,
          8995,
          3990,
          29900.000000000004,
          4990,
          449.5,
          24.900000000000002,
          1299,
          899.9
         ],
         "yaxis": "y"
        },
        {
         "hovertemplate": "<b>OLS trendline</b><br>Revenue = 4.99476 * Min Installs + -940.501<br>R<sup>2</sup>=0.999373<br><br>Category=BUSINESS<br>Number of Installs=%{x}<br>Estimated Revenue=%{y} <b>(trend)</b><extra></extra>",
         "legendgroup": "BUSINESS",
         "marker": {
          "color": "#636efa",
          "symbol": "circle"
         },
         "mode": "lines",
         "name": "BUSINESS",
         "showlegend": false,
         "type": "scatter",
         "x": [
          5,
          10,
          10,
          50,
          100,
          100,
          500,
          1000,
          1000,
          10000,
          100000,
          100000,
          100000,
          100000
         ],
         "xaxis": "x",
         "y": [
          -915.5273499631548,
          -890.5535716844875,
          -890.5535716844875,
          -690.7633454551485,
          -441.02556266847466,
          -441.02556266847466,
          1556.8766996249155,
          4054.2545274916533,
          4054.2545274916533,
          49007.05542909294,
          498535.0644451058,
          498535.0644451058,
          498535.0644451058,
          498535.0644451058
         ],
         "yaxis": "y"
        },
        {
         "customdata": [
          [
           "Puffin Browser Pro"
          ],
          [
           "Deaf - Hearing chat device H"
          ],
          [
           "J Alvarej Moji"
          ],
          [
           "K-@ Mail Pro - Email App"
          ],
          [
           "pretty Easy privacy p≡p"
          ],
          [
           "Z PIVOT"
          ],
          [
           "AG Contacts, Premium edition"
          ],
          [
           "Threema"
          ],
          [
           "FREE CHATS C.L."
          ],
          [
           "10 WPM Amateur ham radio CW Morse code trainer"
          ],
          [
           "CV-RECORD Pro"
          ],
          [
           "2 Amateur ham radio CW Morse code practice keys TX"
          ],
          [
           "CW Beacon for Ham Radio"
          ],
          [
           "Morse Decoder for Ham Radio"
          ],
          [
           "CW Studio ®"
          ],
          [
           "20WPM Amateur ham radio Koch CW Morse code trainer"
          ],
          [
           "Morse Trainer for Ham Radio"
          ],
          [
           "Morse Machine for Ham Radio"
          ],
          [
           "CW Ringtone (Morse Code generator)"
          ],
          [
           "Koch Morse Trainer Pro"
          ],
          [
           "iCluster - The DX-Cluster database"
          ],
          [
           "WiFi Tether Router"
          ],
          [
           "Remote EX for NISSAN"
          ],
          [
           "ExDialer PRO Key"
          ],
          [
           "Smart Wi-Fi Hotspot PRO"
          ],
          [
           "Portable Wi-Fi hotspot Premium"
          ],
          [
           "Talkie Pro - Wi-Fi Calling, Chats, File Sharing"
          ]
         ],
         "hovertemplate": "Category=COMMUNICATION<br>Number of Installs=%{x}<br>Estimated Revenue=%{y}<br>App=%{customdata[0]}<extra></extra>",
         "legendgroup": "COMMUNICATION",
         "marker": {
          "color": "#EF553B",
          "symbol": "circle"
         },
         "mode": "markers",
         "name": "COMMUNICATION",
         "orientation": "v",
         "showlegend": true,
         "type": "scatter",
         "x": [
          100000,
          500,
          10,
          10000,
          500,
          10,
          500,
          1000000,
          10,
          100,
          1000,
          100,
          100,
          5000,
          100,
          100,
          10000,
          5000,
          10,
          1000,
          10,
          100000,
          5000,
          100000,
          10000,
          10000,
          1000
         ],
         "xaxis": "x",
         "y": [
          399000,
          1995,
          19.9,
          49900,
          495,
          199.89999999999998,
          2495,
          2990000,
          9.9,
          149,
          990,
          149,
          149,
          24950,
          99,
          149,
          29900.000000000004,
          4950,
          24.900000000000002,
          2490,
          9.9,
          290000,
          7450,
          399000,
          29900.000000000004,
          9900,
          2990
         ],
         "yaxis": "y"
        },
        {
         "hovertemplate": "<b>OLS trendline</b><br>Revenue = 3.00035 * Min Installs + 6175.72<br>R<sup>2</sup>=0.997715<br><br>Category=COMMUNICATION<br>Number of Installs=%{x}<br>Estimated Revenue=%{y} <b>(trend)</b><extra></extra>",
         "legendgroup": "COMMUNICATION",
         "marker": {
          "color": "#EF553B",
          "symbol": "circle"
         },
         "mode": "lines",
         "name": "COMMUNICATION",
         "showlegend": false,
         "type": "scatter",
         "x": [
          10,
          10,
          10,
          10,
          10,
          100,
          100,
          100,
          100,
          100,
          500,
          500,
          500,
          1000,
          1000,
          1000,
          5000,
          5000,
          5000,
          10000,
          10000,
          10000,
          10000,
          100000,
          100000,
          100000,
          1000000
         ],
         "xaxis": "x",
         "y": [
          6205.726521978906,
          6205.726521978906,
          6205.726521978906,
          6205.726521978906,
          6205.726521978906,
          6475.757622268357,
          6475.757622268357,
          6475.757622268357,
          6475.757622268357,
          6475.757622268357,
          7675.895845777033,
          7675.895845777033,
          7675.895845777033,
          9176.06862516288,
          9176.06862516288,
          9176.06862516288,
          21177.45086024964,
          21177.45086024964,
          21177.45086024964,
          36179.17865410809,
          36179.17865410809,
          36179.17865410809,
          36179.17865410809,
          306210.2789435602,
          306210.2789435602,
          306210.2789435602,
          3006521.281838081
         ],
         "yaxis": "y"
        },
        {
         "customdata": [
          [
           "Moco+ - Chat, Meet People"
          ],
          [
           "Calculator"
          ],
          [
           "Truth or Dare Pro"
          ],
          [
           "Private Dating, Hide App- Blue for PrivacyHider"
          ],
          [
           "Ad Blocker for SayHi"
          ],
          [
           "AMBW Dating App: Asian Men Black Women Interracial"
          ],
          [
           "Moco+ - Chat, Meet People"
          ]
         ],
         "hovertemplate": "Category=DATING<br>Number of Installs=%{x}<br>Estimated Revenue=%{y}<br>App=%{customdata[0]}<extra></extra>",
         "legendgroup": "DATING",
         "marker": {
          "color": "#00cc96",
          "symbol": "circle"
         },
         "mode": "markers",
         "name": "DATING",
         "orientation": "v",
         "showlegend": true,
         "type": "scatter",
         "x": [
          10000,
          1000,
          50,
          100,
          100,
          100,
          10000
         ],
         "xaxis": "x",
         "y": [
          39900,
          6990,
          74.5,
          299,
          399,
          799,
          39900
         ],
         "yaxis": "y"
        },
        {
         "hovertemplate": "<b>OLS trendline</b><br>Revenue = 3.941 * Min Installs + 603.025<br>R<sup>2</sup>=0.996498<br><br>Category=DATING<br>Number of Installs=%{x}<br>Estimated Revenue=%{y} <b>(trend)</b><extra></extra>",
         "legendgroup": "DATING",
         "marker": {
          "color": "#00cc96",
          "symbol": "circle"
         },
         "mode": "lines",
         "name": "DATING",
         "showlegend": false,
         "type": "scatter",
         "x": [
          50,
          100,
          100,
          100,
          1000,
          10000,
          10000
         ],
         "xaxis": "x",
         "y": [
          800.0750705535484,
          997.1250098538464,
          997.1250098538464,
          997.1250098538464,
          4544.023917259213,
          40013.01299131287,
          40013.01299131287
         ],
         "yaxis": "y"
        },
        {
         "customdata": [
          [
           "Sago Mini Hat Maker"
          ],
          [
           "Fuzzy Numbers: Pre-K Number Foundation"
          ],
          [
           "Toca Life: City"
          ],
          [
           "Toca Life: Hospital"
          ]
         ],
         "hovertemplate": "Category=EDUCATION<br>Number of Installs=%{x}<br>Estimated Revenue=%{y}<br>App=%{customdata[0]}<extra></extra>",
         "legendgroup": "EDUCATION",
         "marker": {
          "color": "#ab63fa",
          "symbol": "circle"
         },
         "mode": "markers",
         "name": "EDUCATION",
         "orientation": "v",
         "showlegend": true,
         "type": "scatter",
         "x": [
          1000,
          1000,
          500000,
          100000
         ],
         "xaxis": "x",
         "y": [
          3990,
          5990,
          1995000,
          399000
         ],
         "yaxis": "y"
        },
        {
         "hovertemplate": "<b>OLS trendline</b><br>Revenue = 3.98823 * Min Installs + 765.639<br>R<sup>2</sup>=0.999999<br><br>Category=EDUCATION<br>Number of Installs=%{x}<br>Estimated Revenue=%{y} <b>(trend)</b><extra></extra>",
         "legendgroup": "EDUCATION",
         "marker": {
          "color": "#ab63fa",
          "symbol": "circle"
         },
         "mode": "lines",
         "name": "EDUCATION",
         "showlegend": false,
         "type": "scatter",
         "x": [
          1000,
          1000,
          100000,
          500000
         ],
         "xaxis": "x",
         "y": [
          4753.873885041996,
          4753.873885041996,
          399589.1346568201,
          1994883.1175730955
         ],
         "yaxis": "y"
        },
        {
         "customdata": [
          [
           "My Talking Pet"
          ],
          [
           "Meme Generator"
          ]
         ],
         "hovertemplate": "Category=ENTERTAINMENT<br>Number of Installs=%{x}<br>Estimated Revenue=%{y}<br>App=%{customdata[0]}<extra></extra>",
         "legendgroup": "ENTERTAINMENT",
         "marker": {
          "color": "#FFA15A",
          "symbol": "circle"
         },
         "mode": "markers",
         "name": "ENTERTAINMENT",
         "orientation": "v",
         "showlegend": true,
         "type": "scatter",
         "x": [
          100000,
          100000
         ],
         "xaxis": "x",
         "y": [
          499000,
          299000
         ],
         "yaxis": "y"
        },
        {
         "hovertemplate": "<b>OLS trendline</b><br>Revenue = 3.99<br>R<sup>2</sup>=0.000000<br><br>Category=ENTERTAINMENT<br>Number of Installs=%{x}<br>Estimated Revenue=%{y} <b>(trend)</b><extra></extra>",
         "legendgroup": "ENTERTAINMENT",
         "marker": {
          "color": "#FFA15A",
          "symbol": "circle"
         },
         "mode": "lines",
         "name": "ENTERTAINMENT",
         "showlegend": false,
         "type": "scatter",
         "x": [
          100000,
          100000
         ],
         "xaxis": "x",
         "y": [
          398999.99999999994,
          398999.99999999994
         ],
         "yaxis": "y"
        },
        {
         "customdata": [
          [
           "My CookBook Pro (Ad Free)"
          ],
          [
           "Paprika Recipe Manager"
          ]
         ],
         "hovertemplate": "Category=FOOD_AND_DRINK<br>Number of Installs=%{x}<br>Estimated Revenue=%{y}<br>App=%{customdata[0]}<extra></extra>",
         "legendgroup": "FOOD_AND_DRINK",
         "marker": {
          "color": "#19d3f3",
          "symbol": "circle"
         },
         "mode": "markers",
         "name": "FOOD_AND_DRINK",
         "orientation": "v",
         "showlegend": true,
         "type": "scatter",
         "x": [
          10000,
          50000
         ],
         "xaxis": "x",
         "y": [
          34900,
          249500
         ],
         "yaxis": "y"
        },
        {
         "hovertemplate": "<b>OLS trendline</b><br>Revenue = 5.365 * Min Installs + -18750<br>R<sup>2</sup>=1.000000<br><br>Category=FOOD_AND_DRINK<br>Number of Installs=%{x}<br>Estimated Revenue=%{y} <b>(trend)</b><extra></extra>",
         "legendgroup": "FOOD_AND_DRINK",
         "marker": {
          "color": "#19d3f3",
          "symbol": "circle"
         },
         "mode": "lines",
         "name": "FOOD_AND_DRINK",
         "showlegend": false,
         "type": "scatter",
         "x": [
          10000,
          50000
         ],
         "xaxis": "x",
         "y": [
          34900.000000000015,
          249500
         ],
         "yaxis": "y"
        },
        {
         "customdata": [
          [
           "Pocket Yoga"
          ],
          [
           "Meditation Studio"
          ],
          [
           "Relax Melodies P: Sleep Sounds"
          ],
          [
           "Pocket Yoga"
          ],
          [
           "Daily Ab Workout"
          ],
          [
           "cronometer (ad free)"
          ],
          [
           "Lullaby Add-on for Sleep as Android"
          ],
          [
           "Be Stronger"
          ],
          [
           "Monitor My BP"
          ],
          [
           "All-night drugstore CI & Price"
          ],
          [
           "Tools & Mi Band"
          ],
          [
           "Dr. McDougall Mobile Cookbook"
          ],
          [
           "Vital Tones EI Pro"
          ],
          [
           "The EO Bar"
          ],
          [
           "EO Guide"
          ],
          [
           "Fast Tract Diet"
          ]
         ],
         "hovertemplate": "Category=HEALTH_AND_FITNESS<br>Number of Installs=%{x}<br>Estimated Revenue=%{y}<br>App=%{customdata[0]}<extra></extra>",
         "legendgroup": "HEALTH_AND_FITNESS",
         "marker": {
          "color": "#FF6692",
          "symbol": "circle"
         },
         "mode": "markers",
         "name": "HEALTH_AND_FITNESS",
         "orientation": "v",
         "showlegend": true,
         "type": "scatter",
         "x": [
          100000,
          10000,
          100000,
          100000,
          50000,
          50000,
          50000,
          1000,
          50,
          10,
          100000,
          1000,
          50,
          10000,
          1000,
          1000
         ],
         "xaxis": "x",
         "y": [
          299000,
          39900,
          299000,
          299000,
          99500,
          149500,
          99500,
          1990,
          299.5,
          9.9,
          349000,
          4990,
          499.5,
          69900,
          4990,
          7990
         ],
         "yaxis": "y"
        },
        {
         "hovertemplate": "<b>OLS trendline</b><br>Revenue = 2.99752 * Min Installs + 260.267<br>R<sup>2</sup>=0.963490<br><br>Category=HEALTH_AND_FITNESS<br>Number of Installs=%{x}<br>Estimated Revenue=%{y} <b>(trend)</b><extra></extra>",
         "legendgroup": "HEALTH_AND_FITNESS",
         "marker": {
          "color": "#FF6692",
          "symbol": "circle"
         },
         "mode": "lines",
         "name": "HEALTH_AND_FITNESS",
         "showlegend": false,
         "type": "scatter",
         "x": [
          10,
          50,
          50,
          1000,
          1000,
          1000,
          1000,
          10000,
          10000,
          50000,
          50000,
          50000,
          100000,
          100000,
          100000,
          100000
         ],
         "xaxis": "x",
         "y": [
          290.24215486262216,
          410.14284485458654,
          410.14284485458654,
          3257.7842321637404,
          3257.7842321637404,
          3257.7842321637404,
          3257.7842321637404,
          30235.439480355722,
          30235.439480355722,
          150136.1294723201,
          150136.1294723201,
          150136.1294723201,
          300011.9919622756,
          300011.9919622756,
          300011.9919622756,
          300011.9919622756
         ],
         "yaxis": "y"
        },
        {
         "customdata": [
          [
           "The Game of Life"
          ],
          [
           "Clue"
          ],
          [
           "The Room: Old Sins"
          ],
          [
           "The Escapists"
          ],
          [
           "Farming Simulator 18"
          ],
          [
           "RollerCoaster Tycoon® Classic"
          ],
          [
           "Call of Duty:Black Ops Zombies"
          ],
          [
           "Star Wars ™: DIRTY"
          ],
          [
           "Monument Valley 2"
          ],
          [
           "B-52 Spirits of Glory Deluxe"
          ],
          [
           "B-Grade Renegade"
          ],
          [
           "CURSUM B"
          ],
          [
           "Hitman Sniper"
          ],
          [
           "The World Ends With You"
          ],
          [
           "D+H Reaction Wall"
          ],
          [
           "Traps n' Gemstones"
          ],
          [
           "Ghosts'n Goblins MOBILE"
          ],
          [
           "Lock 'n' Roll Pro - Ad Free"
          ],
          [
           "Jump'N'Shoot Attack"
          ],
          [
           "Ghouls'n Ghosts MOBILE"
          ],
          [
           "Oddworld: New 'n' Tasty"
          ],
          [
           "Obbligo o Verità? PRO"
          ],
          [
           "R-TYPE II"
          ],
          [
           "R-TYPE"
          ],
          [
           "Don't Starve: Pocket Edition"
          ],
          [
           "Don't Starve: Shipwrecked"
          ],
          [
           "Ludo - Don't get angry"
          ],
          [
           "Mental Hospital V"
          ],
          [
           "Zombie Avengers:(Dreamsky)Stickman War Z"
          ],
          [
           "Assassin's Creed Identity"
          ],
          [
           "ONScripter Plus (Ad Free)"
          ],
          [
           "Mupen64Plus AE (N64 Emulator)"
          ],
          [
           "AJ Jump: Animal Jam Kangaroos!"
          ],
          [
           "I am Bread"
          ],
          [
           "Nightenfell: Shared AR"
          ],
          [
           "Five Nights at Freddy's"
          ],
          [
           "Five Nights at Freddy's: SL"
          ],
          [
           "Five Nights at Freddy's 4"
          ],
          [
           "Five Nights at Freddy's 3"
          ],
          [
           "YAKALA AY"
          ],
          [
           "Ra Ga Ba"
          ],
          [
           "Wolf of the BF:Commando MOBILE"
          ],
          [
           "Shadow Fight 2 Special Edition"
          ],
          [
           "Backgammon NJ for Android"
          ],
          [
           "Bi-Tank Ads Free"
          ],
          [
           "BJ Bridge Pro 2018"
          ],
          [
           "Blackjack Verite Drills"
          ],
          [
           "MEGA MAN MOBILE"
          ],
          [
           "New York Mysteries (Full)"
          ],
          [
           "The Legacy (Full)"
          ],
          [
           "Skip-Bo™"
          ],
          [
           "Sic Bo"
          ],
          [
           "BW-Go"
          ],
          [
           "PAC-MAN CE DX"
          ],
          [
           "Grand Theft Auto: San Andreas"
          ],
          [
           "F*ck This Game"
          ],
          [
           "211:CK"
          ],
          [
           "Adventure Time Game Wizard"
          ],
          [
           "Best Park in the Universe"
          ],
          [
           "Chinese Chess 3D Online (Xiangqi, 象棋, co tuong)"
          ],
          [
           "CT-REMOTE"
          ],
          [
           "Cytus II"
          ],
          [
           "Dr. Splorchy Presents Space Heroes"
          ],
          [
           "DraStic DS Emulator"
          ],
          [
           "Riptide GP: Renegade"
          ],
          [
           "Dirt Trackin Sprint Cars"
          ],
          [
           "Retro City Rampage DX"
          ],
          [
           "Santa's Monster Shootout DX"
          ],
          [
           "Lost Journey (Dreamsky)"
          ],
          [
           "League of Stickman 2018- Ninja Arena PVP(Dreamsky)"
          ],
          [
           "Stickman Legends: Shadow Wars"
          ],
          [
           "E.G. Chess"
          ],
          [
           "WIZARD Card Game"
          ],
          [
           "The Game of Life"
          ],
          [
           "Poker Equity Calculator Pro for No Limit Hold'em"
          ],
          [
           "Superbrothers Sword & Sworcery"
          ],
          [
           "Sonic 4™ Episode I"
          ],
          [
           "An Elite Warrior Ex"
          ],
          [
           "Galaxian(FC)"
          ],
          [
           "Solitaire+"
          ],
          [
           "Fruit Ninja Classic"
          ],
          [
           "Mu.F.O."
          ],
          [
           "Trine 2: Complete Story"
          ]
         ],
         "hovertemplate": "Category=GAME<br>Number of Installs=%{x}<br>Estimated Revenue=%{y}<br>App=%{customdata[0]}<extra></extra>",
         "legendgroup": "GAME",
         "marker": {
          "color": "#B6E880",
          "symbol": "circle"
         },
         "mode": "markers",
         "name": "GAME",
         "orientation": "v",
         "showlegend": true,
         "type": "scatter",
         "x": [
          100000,
          100000,
          100000,
          100000,
          100000,
          100000,
          100000,
          100000,
          100000,
          100,
          1000,
          500,
          10000000,
          10000,
          1,
          1000,
          10000,
          1000,
          1000,
          5000,
          10000,
          100,
          50000,
          100000,
          100000,
          10000,
          1000,
          50000,
          1000000,
          500000,
          1000,
          100000,
          50000,
          10000,
          1000,
          1000000,
          100000,
          100000,
          100000,
          1,
          1,
          1000,
          50000,
          10000,
          1,
          500,
          100,
          10000,
          5000,
          1000,
          100000,
          100,
          1000,
          10000,
          1000000,
          100,
          10,
          50000,
          10000,
          1000,
          100,
          100000,
          100,
          1000000,
          100000,
          10000,
          10000,
          50,
          1000000,
          1000000,
          1000000,
          1000,
          1000,
          100000,
          5000,
          100000,
          100000,
          100,
          100,
          100000,
          1000000,
          1,
          10000
         ],
         "xaxis": "x",
         "y": [
          299000,
          199000,
          499000,
          499000,
          499000,
          599000,
          699000,
          999000,
          499000,
          99,
          1990,
          495,
          9900000,
          179899.99999999997,
          0.99,
          4990,
          9900,
          990,
          2490,
          9950,
          49900,
          99,
          99500,
          199000,
          499000,
          49900,
          1610,
          49500,
          990000,
          995000,
          3990,
          99000,
          99500,
          49900,
          990,
          2990000,
          299000,
          299000,
          299000,
          0.99,
          1.49,
          990,
          249500,
          79900,
          0.99,
          2245,
          1400,
          19900,
          34950,
          6990,
          299000,
          199,
          3490,
          49900,
          6990000,
          99,
          9.9,
          249500,
          29900.000000000004,
          990,
          449,
          199000,
          499,
          4990000,
          299000,
          39900,
          29900.000000000004,
          99.5,
          990000,
          990000,
          990000,
          990,
          1990,
          299000,
          4950,
          399000,
          299000,
          99,
          199,
          299000,
          990000,
          0.99,
          169899.99999999997
         ],
         "yaxis": "y"
        },
        {
         "hovertemplate": "<b>OLS trendline</b><br>Revenue = 1.06576 * Min Installs + 222894<br>R<sup>2</sup>=0.685870<br><br>Category=GAME<br>Number of Installs=%{x}<br>Estimated Revenue=%{y} <b>(trend)</b><extra></extra>",
         "legendgroup": "GAME",
         "marker": {
          "color": "#B6E880",
          "symbol": "circle"
         },
         "mode": "lines",
         "name": "GAME",
         "showlegend": false,
         "type": "scatter",
         "x": [
          1,
          1,
          1,
          1,
          1,
          10,
          50,
          100,
          100,
          100,
          100,
          100,
          100,
          100,
          100,
          100,
          500,
          500,
          1000,
          1000,
          1000,
          1000,
          1000,
          1000,
          1000,
          1000,
          1000,
          1000,
          1000,
          1000,
          1000,
          5000,
          5000,
          5000,
          10000,
          10000,
          10000,
          10000,
          10000,
          10000,
          10000,
          10000,
          10000,
          10000,
          10000,
          10000,
          50000,
          50000,
          50000,
          50000,
          50000,
          100000,
          100000,
          100000,
          100000,
          100000,
          100000,
          100000,
          100000,
          100000,
          100000,
          100000,
          100000,
          100000,
          100000,
          100000,
          100000,
          100000,
          100000,
          100000,
          100000,
          100000,
          100000,
          500000,
          1000000,
          1000000,
          1000000,
          1000000,
          1000000,
          1000000,
          1000000,
          1000000,
          10000000
         ],
         "xaxis": "x",
         "y": [
          222894.72907484687,
          222894.72907484687,
          222894.72907484687,
          222894.72907484687,
          222894.72907484687,
          222904.32089953247,
          222946.95123146853,
          223000.23914638857,
          223000.23914638857,
          223000.23914638857,
          223000.23914638857,
          223000.23914638857,
          223000.23914638857,
          223000.23914638857,
          223000.23914638857,
          223000.23914638857,
          223426.54246574908,
          223426.54246574908,
          223959.42161494974,
          223959.42161494974,
          223959.42161494974,
          223959.42161494974,
          223959.42161494974,
          223959.42161494974,
          223959.42161494974,
          223959.42161494974,
          223959.42161494974,
          223959.42161494974,
          223959.42161494974,
          223959.42161494974,
          223959.42161494974,
          228222.45480855484,
          228222.45480855484,
          228222.45480855484,
          233551.2463005612,
          233551.2463005612,
          233551.2463005612,
          233551.2463005612,
          233551.2463005612,
          233551.2463005612,
          233551.2463005612,
          233551.2463005612,
          233551.2463005612,
          233551.2463005612,
          233551.2463005612,
          233551.2463005612,
          276181.57823661226,
          276181.57823661226,
          276181.57823661226,
          276181.57823661226,
          276181.57823661226,
          329469.49315667606,
          329469.49315667606,
          329469.49315667606,
          329469.49315667606,
          329469.49315667606,
          329469.49315667606,
          329469.49315667606,
          329469.49315667606,
          329469.49315667606,
          329469.49315667606,
          329469.49315667606,
          329469.49315667606,
          329469.49315667606,
          329469.49315667606,
          329469.49315667606,
          329469.49315667606,
          329469.49315667606,
          329469.49315667606,
          329469.49315667606,
          329469.49315667606,
          329469.49315667606,
          329469.49315667606,
          755772.8125171866,
          1288651.961717825,
          1288651.961717825,
          1288651.961717825,
          1288651.961717825,
          1288651.961717825,
          1288651.961717825,
          1288651.961717825,
          1288651.961717825,
          10880476.647329312
         ],
         "yaxis": "y"
        },
        {
         "customdata": [
          [
           "Toca Mystery House"
          ],
          [
           "My Little Princess : Stores"
          ],
          [
           "Sago Mini Big City"
          ],
          [
           "Pinkalicious Party"
          ],
          [
           "Toca Builders"
          ],
          [
           "Toca Life: City"
          ],
          [
           "LEGO® Friends"
          ],
          [
           "My Little Work – Garage"
          ],
          [
           "Alizay, pirate girl"
          ],
          [
           "Children Educational Game Full"
          ],
          [
           "Hactar Go"
          ],
          [
           "All-in-One Mahjong 3"
          ],
          [
           "World Racers family board game"
          ],
          [
           "SweetLand — Family Board Game"
          ],
          [
           "Steam: Rails to Riches"
          ],
          [
           "Whoowasit? - Best kids game!"
          ],
          [
           "Lanterns: The Harvest Festival"
          ],
          [
           "Tsuro - The Game of the Path"
          ],
          [
           "THE aMAZEing Labyrinth"
          ],
          [
           "Chess and Mate"
          ],
          [
           "Avokiddo Emotions"
          ],
          [
           "Nighty Night Circus"
          ],
          [
           "Sago Mini Babies"
          ],
          [
           "Dr. Panda & Toto's Treehouse"
          ],
          [
           "Avokiddo Emotions"
          ],
          [
           "Nighty Night Circus"
          ],
          [
           "Sago Mini Babies"
          ],
          [
           "Dr. Panda & Toto's Treehouse"
          ],
          [
           "Minecraft"
          ],
          [
           "Card Wars - Adventure Time"
          ],
          [
           "C4droid - C/C++ compiler & IDE"
          ],
          [
           "Mind Games Pro"
          ],
          [
           "Speech Therapy: F"
          ],
          [
           "F-Sim Space Shuttle"
          ],
          [
           "Norwegian For Kids & Babies F"
          ],
          [
           "most expensive app (H)"
          ],
          [
           "Cut the Rope GOLD"
          ],
          [
           "K.MOJI"
          ],
          [
           "Math Games for Pre-K - Grade 4"
          ],
          [
           "Fuzzy Numbers: Pre-K Number Foundation"
          ],
          [
           "Anna.K Tarot"
          ],
          [
           "Minecraft"
          ],
          [
           "Guns'n'Glory Zombies Premium"
          ],
          [
           "Guns'n'Glory Premium"
          ],
          [
           "Guns'n'Glory Heroes Premium"
          ],
          [
           "Age of Conquest: N. America"
          ],
          [
           "Guns'n'Glory WW2 Premium"
          ],
          [
           "Stand O’Food® (Full)"
          ],
          [
           "Detect-O-Gromit (D.O.G 2)"
          ],
          [
           "P Icon Pack"
          ],
          [
           "Q Avatar Pro"
          ],
          [
           "R Instructor"
          ],
          [
           "Day R Premium"
          ],
          [
           "Elemental Knights R Platinum"
          ],
          [
           "Please, Don't Touch Anything"
          ],
          [
           "Please Don't Touch Anything 3D"
          ],
          [
           "Jurassic Life: T Rex Simulator"
          ],
          [
           "FINAL FANTASY V"
          ],
          [
           "DRAGON QUEST V"
          ],
          [
           "X Construction"
          ],
          [
           "Z Origins - (Z The Game)"
          ],
          [
           "Math games for kids : times tables training"
          ],
          [
           "My baby firework (Remove ad)"
          ],
          [
           "Gunship III Vietnam People AF"
          ],
          [
           "AG Subway Simulator Mobile"
          ],
          [
           "Michael's AG Sound Board"
          ],
          [
           "The Artificial Intelligence Project (A.I. Chat)"
          ],
          [
           "Age of AI: War Strategy"
          ],
          [
           "Hey AJ! It's Bedtime!"
          ],
          [
           "I am Rich Plus"
          ],
          [
           "I Am Rich Pro"
          ],
          [
           "I Am Rich"
          ],
          [
           "The Hunt for the Lost Treasure"
          ],
          [
           "Attack the Light"
          ],
          [
           "AP Government Review"
          ],
          [
           "500 AP World History Questions"
          ],
          [
           "iScore5 AP Psych"
          ],
          [
           "meStudying: AP English Lit"
          ],
          [
           "AP Series Solution Pro"
          ],
          [
           "AP Art History Flashcards"
          ],
          [
           "AQ Math Facts"
          ],
          [
           "Five Nights at Freddy's 2"
          ],
          [
           "INTERACTIVE CALCULUS PRO"
          ],
          [
           "¡Ay Caramba!"
          ],
          [
           "Alif Ba Ta Bullseye"
          ],
          [
           "Learn Quran with Elif Ba"
          ],
          [
           "Ain Arabic Kids Alif Ba ta"
          ],
          [
           "Ice Crush 10.000 B.C."
          ],
          [
           "Car Driving Theory Test BC"
          ],
          [
           "Truck Driving Test Class 3 BC"
          ],
          [
           "My Virtual Boyfriend"
          ],
          [
           "Baldur's Gate: Enhanced Edition"
          ],
          [
           "CSCS BG (в български)"
          ],
          [
           "LEGO ® Batman: Beyond Gotham"
          ],
          [
           "Baldur's Gate II"
          ],
          [
           "Battleheart Legacy"
          ],
          [
           "Phonics Puzzles"
          ],
          [
           "Chess of Blades (BL/Yaoi Game) (No VA)"
          ],
          [
           "Beck & Bo: Toddler First Words"
          ],
          [
           "Bo's Bedtime Story"
          ],
          [
           "Dr.Dice - Sic bo analyzer"
          ],
          [
           "Bo's Matching Game"
          ],
          [
           "Bo's Dinnertime Story"
          ],
          [
           "Bo's School Day"
          ],
          [
           "Infinity Dungeon VIP"
          ],
          [
           "TV Guide BR Gold"
          ],
          [
           "BS Detector - Diss 'n' Gauges"
          ],
          [
           "Hitman GO"
          ],
          [
           "Theatre of the Absurd CE(Full)"
          ],
          [
           "TI-84 CE Graphing Calculator Manual TI 84"
          ],
          [
           "AC CE BJT Actorial"
          ],
          [
           "Depths of Betrayal CE (Full)"
          ],
          [
           "Führerschein Klasse CE, LKW 2018"
          ],
          [
           "Dots puzzle"
          ],
          [
           "Reading Race 1b: sh, ch words"
          ],
          [
           "Speech Therapy: CH"
          ],
          [
           "boattheory.ch Full 2018"
          ],
          [
           "DRAGON QUEST IV"
          ],
          [
           "USMLE Step 2 CK Flashcards"
          ],
          [
           "Teen Titans GO Figure!"
          ],
          [
           "CN Superstar Soccer: Goal!!!"
          ],
          [
           "Teeny Titans - Teen Titans Go!"
          ],
          [
           "Ski Safari: Adventure Time"
          ],
          [
           "Rockstars of Ooo"
          ],
          [
           "Flipped Out! - Powerpuff Girls"
          ],
          [
           "Formula Cartoon All Stars"
          ],
          [
           "Tetrobot and Co."
          ],
          [
           "Wuwu & Co."
          ],
          [
           "CS go bomb simulator"
          ],
          [
           "Morse Player"
          ],
          [
           "30WPM Amateur ham radio Koch CW Morse code trainer"
          ],
          [
           "Learn CW"
          ],
          [
           "TI-Nspire CX Calculator Manual"
          ],
          [
           "go41cx"
          ],
          [
           "The House of Da Vinci"
          ],
          [
           "King of Math"
          ],
          [
           "Peppa Pig: Party Time"
          ],
          [
           "LEGO Batman: DC Super Heroes"
          ],
          [
           "Myth Defense 2: DF Platinum"
          ],
          [
           "ZombieVital DG"
          ],
          [
           "Interactive NPC DM Tool"
          ],
          [
           "Writing Wizard Premium - Handwriting"
          ],
          [
           "DRAGON QUEST VIII"
          ],
          [
           "DRAGON QUEST III"
          ],
          [
           "DRAGON QUEST"
          ],
          [
           "DRAGON QUEST II"
          ],
          [
           "DRAGON QUEST VI"
          ],
          [
           "CHRONO TRIGGER (Upgrade Ver.)"
          ],
          [
           "FINAL FANTASY DIMENSIONS"
          ],
          [
           "Dr. Panda Farm"
          ],
          [
           "DR.MEEP"
          ],
          [
           "Dr. Panda Art Class"
          ],
          [
           "Dr. Panda's Swimming Pool"
          ],
          [
           "Dr. Panda & Toto's Treehouse"
          ],
          [
           "Dr. Seuss's ABC"
          ],
          [
           "Dr. Panda Hospital"
          ],
          [
           "Dr. Panda Restaurant 2"
          ],
          [
           "Dr. Panda Supermarket"
          ],
          [
           "Real Sheet ∞: Pathfinder + DT"
          ],
          [
           "Bloons TD 5"
          ],
          [
           "ZOOKEEPER DX TouchEdition"
          ],
          [
           "Chronolink DX"
          ],
          [
           "Bubble Shooter DX AdFree"
          ],
          [
           "Dress Up RagazzA13 DX"
          ],
          [
           "Unstoppaball DX"
          ],
          [
           "Sokoban Land DX"
          ],
          [
           "Train Sim Pro"
          ],
          [
           "DZ Puzzle"
          ],
          [
           "NBA JAM by EA SPORTS™"
          ],
          [
           "RPG ブレイジング ソウルズ アクセレイト"
          ],
          [
           "Carrier Landings Pro"
          ],
          [
           "EG Classroom Decimals™"
          ],
          [
           "Learn Music Notes"
          ],
          [
           "Farming Simulator 16"
          ],
          [
           "El Chavo"
          ],
          [
           "Masha and the Bear- House Cleaning Games for Girls"
          ],
          [
           "Masha and the Bear - Hair Salon and MakeUp Games"
          ],
          [
           "Where's My Water?"
          ],
          [
           "Out There Chronicles - Ep. 1"
          ],
          [
           "Out There Chronicles - Ep. 2"
          ],
          [
           "EP McGuffey Primer"
          ],
          [
           "The Great Wobo Escape Ep.1"
          ],
          [
           "Learn Italian with MosaLingua"
          ],
          [
           "IF YOU TO EU PEGO"
          ],
          [
           "European War 6: 1804"
          ],
          [
           "XCOM®: Enemy Within"
          ],
          [
           "Deus Ex GO"
          ],
          [
           "SCI-FI UI"
          ],
          [
           "FP VoiceBot"
          ],
          [
           "sugar, sugar"
          ],
          [
           "Word Search Tab 1 FR"
          ]
         ],
         "hovertemplate": "Category=FAMILY<br>Number of Installs=%{x}<br>Estimated Revenue=%{y}<br>App=%{customdata[0]}<extra></extra>",
         "legendgroup": "FAMILY",
         "marker": {
          "color": "#FF97FF",
          "symbol": "circle"
         },
         "mode": "markers",
         "name": "FAMILY",
         "orientation": "v",
         "showlegend": true,
         "type": "scatter",
         "x": [
          5000,
          5000,
          1000,
          500,
          100000,
          500000,
          10000,
          10000,
          1000,
          1000,
          1000,
          100,
          100,
          1000,
          5000,
          5000,
          1000,
          10000,
          10000,
          5000,
          1000,
          10000,
          10000,
          50000,
          1000,
          10000,
          10000,
          50000,
          10000000,
          1000000,
          50000,
          100000,
          10,
          100000,
          5,
          100,
          1000000,
          500,
          1000,
          1000,
          100,
          10000000,
          5000,
          100000,
          10000,
          10000,
          100000,
          10000,
          10000,
          10,
          100,
          1000,
          100000,
          50000,
          10000,
          5000,
          10000,
          100000,
          10000,
          100000,
          50000,
          10000,
          1000,
          5000,
          5000,
          1,
          5000,
          500,
          10,
          10000,
          5000,
          10000,
          100000,
          100000,
          1000,
          100,
          100,
          10,
          0,
          10,
          1,
          500000,
          10,
          1,
          5,
          100,
          0,
          100,
          10,
          50,
          1000,
          100000,
          100,
          100000,
          50000,
          50000,
          100,
          10,
          1000,
          1000,
          10,
          1000,
          1000,
          1000,
          1000000,
          5000,
          50,
          500000,
          10000,
          100,
          50,
          1000,
          1000,
          50000,
          50,
          10,
          1000,
          10000,
          10,
          10000,
          100000,
          100000,
          100000,
          10000,
          10000,
          10000,
          5000,
          100,
          10,
          100,
          10,
          1,
          500,
          1000,
          100000,
          10000,
          10000,
          50000,
          10000,
          100,
          50,
          5000,
          50000,
          10000,
          100000,
          10000,
          100000,
          100000,
          100000,
          10000,
          500,
          50000,
          100000,
          50000,
          10000,
          50000,
          100000,
          50000,
          50,
          1000000,
          100000,
          10,
          50,
          100,
          50,
          10000,
          10000,
          10,
          500000,
          1000,
          10000,
          50,
          1000,
          500000,
          10000,
          100,
          100,
          1000000,
          50000,
          1000,
          50,
          500,
          50000,
          100,
          10000,
          100000,
          100000,
          100,
          100,
          10000,
          50
         ],
         "xaxis": "x",
         "y": [
          19950,
          14950.000000000002,
          3990,
          1495,
          399000,
          1995000,
          49900,
          39900,
          2990,
          7490,
          2990,
          99,
          99,
          990,
          24950,
          14950.000000000002,
          4990,
          29900.000000000004,
          49900,
          24950,
          2990,
          29900.000000000004,
          39900,
          199500,
          2990,
          29900.000000000004,
          39900,
          199500,
          69900000,
          2990000,
          149500,
          299000,
          29.900000000000002,
          499000,
          199.95000000000002,
          39999,
          990000,
          995,
          1990,
          5990,
          399,
          69900000,
          14950.000000000002,
          299000,
          29900.000000000004,
          39900,
          299000,
          19900,
          24900.000000000004,
          9.9,
          149,
          4840,
          499000,
          238499.99999999997,
          49900,
          29950,
          9900,
          799000,
          149900,
          149000,
          149500,
          15900,
          990,
          24950,
          4950,
          0.99,
          9950,
          1245,
          49.900000000000006,
          3999900,
          1999950,
          3899900,
          299000,
          299000,
          2990,
          999,
          499,
          49.900000000000006,
          0,
          299.9,
          2.99,
          1495000,
          9.9,
          1.99,
          9.95,
          149,
          0,
          99,
          14.9,
          74.5,
          990,
          999000,
          399,
          499000,
          499500,
          249500,
          299,
          149.9,
          2990,
          2490,
          469.90000000000003,
          990,
          2490,
          2990,
          990000,
          7450,
          74.5,
          495000,
          29900.000000000004,
          499,
          100,
          2990,
          2490,
          49500,
          199.5,
          19.9,
          19400,
          149900,
          199.89999999999998,
          39900,
          299000,
          399000,
          99000,
          19900,
          29900.000000000004,
          29900.000000000004,
          14950.000000000002,
          299,
          9.9,
          199,
          14.9,
          2.49,
          2495,
          10000,
          499000,
          29900.000000000004,
          29900.000000000004,
          249500,
          39900,
          1299,
          49.5,
          22450,
          999499.9999999999,
          99900,
          299000,
          49900,
          1499000,
          999000,
          1399000,
          29900.000000000004,
          1495,
          149500,
          199000,
          199500,
          39900,
          149500,
          299000,
          149500,
          149.5,
          2990000,
          99000,
          9.9,
          149.5,
          99,
          74.5,
          29900.000000000004,
          14900,
          9.9,
          2495000,
          10990,
          129900,
          149.5,
          1990,
          1495000,
          9900,
          199,
          249.00000000000003,
          1990000,
          149500,
          2990,
          99.5,
          995,
          249500,
          126,
          9900,
          999000,
          99000,
          199,
          99,
          12000,
          52
         ],
         "yaxis": "y"
        },
        {
         "hovertemplate": "<b>OLS trendline</b><br>Revenue = 6.86628 * Min Installs + -150097<br>R<sup>2</sup>=0.981375<br><br>Category=FAMILY<br>Number of Installs=%{x}<br>Estimated Revenue=%{y} <b>(trend)</b><extra></extra>",
         "legendgroup": "FAMILY",
         "marker": {
          "color": "#FF97FF",
          "symbol": "circle"
         },
         "mode": "lines",
         "name": "FAMILY",
         "showlegend": false,
         "type": "scatter",
         "x": [
          0,
          0,
          1,
          1,
          1,
          1,
          5,
          5,
          10,
          10,
          10,
          10,
          10,
          10,
          10,
          10,
          10,
          10,
          10,
          10,
          10,
          10,
          10,
          50,
          50,
          50,
          50,
          50,
          50,
          50,
          50,
          50,
          50,
          50,
          100,
          100,
          100,
          100,
          100,
          100,
          100,
          100,
          100,
          100,
          100,
          100,
          100,
          100,
          100,
          100,
          100,
          100,
          100,
          100,
          100,
          500,
          500,
          500,
          500,
          500,
          500,
          1000,
          1000,
          1000,
          1000,
          1000,
          1000,
          1000,
          1000,
          1000,
          1000,
          1000,
          1000,
          1000,
          1000,
          1000,
          1000,
          1000,
          1000,
          1000,
          1000,
          1000,
          1000,
          1000,
          1000,
          1000,
          1000,
          5000,
          5000,
          5000,
          5000,
          5000,
          5000,
          5000,
          5000,
          5000,
          5000,
          5000,
          5000,
          5000,
          5000,
          10000,
          10000,
          10000,
          10000,
          10000,
          10000,
          10000,
          10000,
          10000,
          10000,
          10000,
          10000,
          10000,
          10000,
          10000,
          10000,
          10000,
          10000,
          10000,
          10000,
          10000,
          10000,
          10000,
          10000,
          10000,
          10000,
          10000,
          10000,
          10000,
          10000,
          10000,
          10000,
          10000,
          10000,
          10000,
          10000,
          10000,
          50000,
          50000,
          50000,
          50000,
          50000,
          50000,
          50000,
          50000,
          50000,
          50000,
          50000,
          50000,
          50000,
          50000,
          50000,
          50000,
          100000,
          100000,
          100000,
          100000,
          100000,
          100000,
          100000,
          100000,
          100000,
          100000,
          100000,
          100000,
          100000,
          100000,
          100000,
          100000,
          100000,
          100000,
          100000,
          100000,
          100000,
          100000,
          100000,
          100000,
          100000,
          500000,
          500000,
          500000,
          500000,
          500000,
          1000000,
          1000000,
          1000000,
          1000000,
          1000000,
          10000000,
          10000000
         ],
         "xaxis": "x",
         "y": [
          -150097.07608964812,
          -150097.07608964812,
          -150090.2098053036,
          -150090.2098053036,
          -150090.2098053036,
          -150090.2098053036,
          -150062.7446679255,
          -150062.7446679255,
          -150028.41324620286,
          -150028.41324620286,
          -150028.41324620286,
          -150028.41324620286,
          -150028.41324620286,
          -150028.41324620286,
          -150028.41324620286,
          -150028.41324620286,
          -150028.41324620286,
          -150028.41324620286,
          -150028.41324620286,
          -150028.41324620286,
          -150028.41324620286,
          -150028.41324620286,
          -150028.41324620286,
          -149753.76187242183,
          -149753.76187242183,
          -149753.76187242183,
          -149753.76187242183,
          -149753.76187242183,
          -149753.76187242183,
          -149753.76187242183,
          -149753.76187242183,
          -149753.76187242183,
          -149753.76187242183,
          -149753.76187242183,
          -149410.44765519554,
          -149410.44765519554,
          -149410.44765519554,
          -149410.44765519554,
          -149410.44765519554,
          -149410.44765519554,
          -149410.44765519554,
          -149410.44765519554,
          -149410.44765519554,
          -149410.44765519554,
          -149410.44765519554,
          -149410.44765519554,
          -149410.44765519554,
          -149410.44765519554,
          -149410.44765519554,
          -149410.44765519554,
          -149410.44765519554,
          -149410.44765519554,
          -149410.44765519554,
          -149410.44765519554,
          -149410.44765519554,
          -146663.93391738523,
          -146663.93391738523,
          -146663.93391738523,
          -146663.93391738523,
          -146663.93391738523,
          -146663.93391738523,
          -143230.79174512232,
          -143230.79174512232,
          -143230.79174512232,
          -143230.79174512232,
          -143230.79174512232,
          -143230.79174512232,
          -143230.79174512232,
          -143230.79174512232,
          -143230.79174512232,
          -143230.79174512232,
          -143230.79174512232,
          -143230.79174512232,
          -143230.79174512232,
          -143230.79174512232,
          -143230.79174512232,
          -143230.79174512232,
          -143230.79174512232,
          -143230.79174512232,
          -143230.79174512232,
          -143230.79174512232,
          -143230.79174512232,
          -143230.79174512232,
          -143230.79174512232,
          -143230.79174512232,
          -143230.79174512232,
          -143230.79174512232,
          -115765.6543670191,
          -115765.6543670191,
          -115765.6543670191,
          -115765.6543670191,
          -115765.6543670191,
          -115765.6543670191,
          -115765.6543670191,
          -115765.6543670191,
          -115765.6543670191,
          -115765.6543670191,
          -115765.6543670191,
          -115765.6543670191,
          -115765.6543670191,
          -115765.6543670191,
          -81434.23264439008,
          -81434.23264439008,
          -81434.23264439008,
          -81434.23264439008,
          -81434.23264439008,
          -81434.23264439008,
          -81434.23264439008,
          -81434.23264439008,
          -81434.23264439008,
          -81434.23264439008,
          -81434.23264439008,
          -81434.23264439008,
          -81434.23264439008,
          -81434.23264439008,
          -81434.23264439008,
          -81434.23264439008,
          -81434.23264439008,
          -81434.23264439008,
          -81434.23264439008,
          -81434.23264439008,
          -81434.23264439008,
          -81434.23264439008,
          -81434.23264439008,
          -81434.23264439008,
          -81434.23264439008,
          -81434.23264439008,
          -81434.23264439008,
          -81434.23264439008,
          -81434.23264439008,
          -81434.23264439008,
          -81434.23264439008,
          -81434.23264439008,
          -81434.23264439008,
          -81434.23264439008,
          -81434.23264439008,
          -81434.23264439008,
          -81434.23264439008,
          193217.14113664208,
          193217.14113664208,
          193217.14113664208,
          193217.14113664208,
          193217.14113664208,
          193217.14113664208,
          193217.14113664208,
          193217.14113664208,
          193217.14113664208,
          193217.14113664208,
          193217.14113664208,
          193217.14113664208,
          193217.14113664208,
          193217.14113664208,
          193217.14113664208,
          193217.14113664208,
          536531.3583629322,
          536531.3583629322,
          536531.3583629322,
          536531.3583629322,
          536531.3583629322,
          536531.3583629322,
          536531.3583629322,
          536531.3583629322,
          536531.3583629322,
          536531.3583629322,
          536531.3583629322,
          536531.3583629322,
          536531.3583629322,
          536531.3583629322,
          536531.3583629322,
          536531.3583629322,
          536531.3583629322,
          536531.3583629322,
          536531.3583629322,
          536531.3583629322,
          536531.3583629322,
          536531.3583629322,
          536531.3583629322,
          536531.3583629322,
          536531.3583629322,
          3283045.096173254,
          3283045.096173254,
          3283045.096173254,
          3283045.096173254,
          3283045.096173254,
          6716187.268436155,
          6716187.268436155,
          6716187.268436155,
          6716187.268436155,
          6716187.268436155,
          68512746.36916839,
          68512746.36916839
         ],
         "yaxis": "y"
        },
        {
         "customdata": [
          [
           "Monash Uni Low FODMAP Diet"
          ],
          [
           "iBP Blood Pressure"
          ],
          [
           "Pedi STAT"
          ],
          [
           "ASCCP Mobile"
          ],
          [
           "Journal Club: Medicine"
          ],
          [
           "Paramedic Protocol Provider"
          ],
          [
           "MommyMeds"
          ],
          [
           "Medical ID - In Case of Emergency (ICE)"
          ],
          [
           "Human Anatomy Atlas 2018: Complete 3D Human Body"
          ],
          [
           "Essential Anatomy 3"
          ],
          [
           "Vargo Anesthesia Mega App"
          ],
          [
           "EMT Review Plus"
          ],
          [
           "Muscle Trigger Point Anatomy"
          ],
          [
           "2017 EMRA Antibiotic Guide"
          ],
          [
           "ASRA Coags"
          ],
          [
           "IBM Micromedex Drug Info"
          ],
          [
           "Diabetes & Diet Tracker"
          ],
          [
           "VeinSeek"
          ],
          [
           "Block Buddy"
          ],
          [
           "Super Hearing Secret Voices Recorder PRO"
          ],
          [
           "EMT Study - NREMT Test Prep"
          ],
          [
           "Calcium Pro"
          ],
          [
           "Arrhythmias and Dysrhythmias"
          ],
          [
           "EMT PASS"
          ],
          [
           "Pocket Lab Values"
          ],
          [
           "Medical terms (OFFLINE)"
          ],
          [
           "Cardiac diagnosis (heart rate, arrhythmia)"
          ],
          [
           "ERres- Emergency Medicine"
          ],
          [
           "FHR 5-Tier 2.0"
          ],
          [
           "AnatomyMapp"
          ],
          [
           "OptoDrum"
          ],
          [
           "Migraine, Headache Diary HeadApp Pro"
          ],
          [
           "Blood Pressure Companion"
          ],
          [
           "Visual Anatomy 2"
          ],
          [
           "Muscle Premium - Human Anatomy, Kinesiology, Bones"
          ],
          [
           "CCHT PREP"
          ],
          [
           "Paramedic Meds"
          ],
          [
           "Advanced Comprehension Therapy"
          ],
          [
           "OmniMedix Medical Calculator"
          ],
          [
           "Breathing Zone"
          ],
          [
           "Lab Values + Medical Reference"
          ],
          [
           "Recognise Foot"
          ],
          [
           "Anti Mosquito simulation"
          ],
          [
           "Pain Tracker & Diary"
          ],
          [
           "Menstrual Calendar Premium"
          ],
          [
           "Whist - Tinnitus Relief"
          ],
          [
           "Critical Care Paramedic Review"
          ],
          [
           "With Helper Pro Pill Reminder"
          ],
          [
           "Manage My Pain Pro"
          ],
          [
           "End Anxiety Pro - Stress, Panic Attack Help"
          ],
          [
           "Acupuncture Assistant"
          ],
          [
           "Number Therapy"
          ],
          [
           "InfantRisk Center HCP"
          ],
          [
           "EMT Tutor NREMT-B Study Guide"
          ],
          [
           "Hospitalist Handbook"
          ],
          [
           "PTA Content Master"
          ],
          [
           "Navi Radiography Pro"
          ],
          [
           "Nursing Care Plan NANDA Tables"
          ],
          [
           "A Manual of Acupuncture"
          ],
          [
           "palmPEDi: Pediatric Tape"
          ],
          [
           "Vargo Anesthesia Mega App"
          ],
          [
           "Monash Uni Low FODMAP Diet"
          ],
          [
           "Human Anatomy Atlas 2018: Complete 3D Human Body"
          ],
          [
           "ASCCP Mobile"
          ],
          [
           "Paramedic Protocol Provider"
          ],
          [
           "2017 EMRA Antibiotic Guide"
          ],
          [
           "Essential Anatomy 3"
          ],
          [
           "EMT PASS"
          ],
          [
           "Block Buddy"
          ],
          [
           "Language Therapy: Aphasia"
          ],
          [
           "EMT Review Plus"
          ],
          [
           "Journal Club: Medicine"
          ],
          [
           "Pedi STAT"
          ],
          [
           "AnatomyMapp"
          ],
          [
           "Diabetes & Diet Tracker"
          ],
          [
           "A Manual of Acupuncture"
          ],
          [
           "PTA Content Master"
          ],
          [
           "Muscle Premium - Human Anatomy, Kinesiology, Bones"
          ],
          [
           "Cardiac diagnosis (heart rate, arrhythmia)"
          ],
          [
           "LTC AS Legal"
          ],
          [
           "Medical ID - In Case of Emergency (ICE)"
          ],
          [
           "IBM Micromedex Drug Info"
          ],
          [
           "Advanced Comprehension Therapy"
          ],
          [
           "Hospitalist Handbook"
          ],
          [
           "Visualmed"
          ],
          [
           "ABG Master"
          ],
          [
           "OrthoFlow"
          ],
          [
           "Be the Expert in Phlebotomy - Professional Nursing"
          ],
          [
           "EMT Tutor NREMT-B Study Guide"
          ],
          [
           "Cardio Z"
          ],
          [
           "AF-STROKE"
          ],
          [
           "Gravidez ao Vivo"
          ],
          [
           "BG Monitor Diabetes Pro"
          ],
          [
           "iBP Blood Pressure"
          ],
          [
           "Blood Pressure Companion"
          ],
          [
           "bpresso PRO"
          ],
          [
           "CE Genius Nurses Edition"
          ],
          [
           "Squeezy CF"
          ],
          [
           "Emergency Brain CT"
          ],
          [
           "Abdominal CT Sectional Walker"
          ],
          [
           "Interactive CT and MRI Anatomy"
          ],
          [
           "CT and XR Dose Calculator"
          ],
          [
           "Chest CT Sectional Walker"
          ],
          [
           "Radiological Anatomy For FRCR1"
          ],
          [
           "Differential Dx"
          ],
          [
           "Human Anatomy Atlas 2018: Complete 3D Human Body"
          ],
          [
           "EP Calipers"
          ],
          [
           "EP Coding"
          ],
          [
           "EP Cook Book"
          ]
         ],
         "hovertemplate": "Category=MEDICAL<br>Number of Installs=%{x}<br>Estimated Revenue=%{y}<br>App=%{customdata[0]}<extra></extra>",
         "legendgroup": "MEDICAL",
         "marker": {
          "color": "#FECB52",
          "symbol": "circle"
         },
         "mode": "markers",
         "name": "MEDICAL",
         "orientation": "v",
         "showlegend": true,
         "type": "scatter",
         "x": [
          100000,
          10000,
          10000,
          10000,
          10000,
          10000,
          5000,
          5000,
          100000,
          50000,
          1000,
          10000,
          50000,
          1000,
          1000,
          10000,
          1000,
          1000,
          1000,
          100,
          5000,
          5000,
          500,
          1000,
          10000,
          1000,
          100,
          1000,
          500,
          5000,
          1000,
          500,
          1000,
          5000,
          10000,
          1000,
          10000,
          100,
          1000,
          5000,
          10000,
          1000,
          1000,
          100,
          50000,
          1000,
          1000,
          5000,
          5000,
          1000,
          10000,
          50,
          1000,
          10000,
          1000,
          1000,
          500,
          500,
          1000,
          5000,
          1000,
          100000,
          100000,
          10000,
          10000,
          1000,
          50000,
          1000,
          1000,
          1000,
          10000,
          10000,
          10000,
          5000,
          1000,
          1000,
          1000,
          10000,
          100,
          100,
          5000,
          10000,
          100,
          1000,
          1,
          50,
          10,
          1,
          10000,
          100,
          100,
          1000,
          500,
          10000,
          1000,
          1000,
          1,
          10,
          10,
          100,
          1000,
          50,
          100,
          100,
          500,
          100000,
          100,
          50,
          0
         ],
         "xaxis": "x",
         "y": [
          900000,
          9900,
          54900,
          99900,
          69900,
          100000,
          19950,
          29950,
          2499000,
          599500,
          79990,
          119900,
          149500,
          16990,
          3990,
          29900.000000000004,
          9990,
          3990,
          14990,
          299,
          19950,
          14950.000000000002,
          500,
          29990,
          29900.000000000004,
          2990,
          1299,
          4990,
          1495,
          74950,
          5990,
          1745,
          990,
          12450.000000000002,
          249899.99999999997,
          10990,
          19900,
          2499,
          4990,
          19950,
          29900.000000000004,
          7490,
          1500,
          299,
          199500,
          1990,
          9990,
          19950,
          19950,
          3990,
          79900,
          749.5,
          9990,
          39900,
          19990,
          29990,
          7995,
          495,
          33990,
          4950,
          79990,
          900000,
          2499000,
          99900,
          100000,
          16990,
          599500,
          29990,
          14990,
          74990,
          119900,
          69900,
          54900,
          74950,
          9990,
          33990,
          29990,
          249899.99999999997,
          1299,
          3999,
          29950,
          29900.000000000004,
          2499,
          19990,
          2.99,
          49.5,
          59.900000000000006,
          0.99,
          39900,
          599,
          500,
          2990,
          2995,
          9900,
          990,
          5490,
          3.99,
          29.900000000000002,
          9.9,
          999,
          15460,
          49.5,
          999,
          699,
          1995,
          2499000,
          99,
          49.5,
          0
         ],
         "yaxis": "y"
        },
        {
         "hovertemplate": "<b>OLS trendline</b><br>Revenue = 16.9747 * Min Installs + -34310.9<br>R<sup>2</sup>=0.774631<br><br>Category=MEDICAL<br>Number of Installs=%{x}<br>Estimated Revenue=%{y} <b>(trend)</b><extra></extra>",
         "legendgroup": "MEDICAL",
         "marker": {
          "color": "#FECB52",
          "symbol": "circle"
         },
         "mode": "lines",
         "name": "MEDICAL",
         "showlegend": false,
         "type": "scatter",
         "x": [
          0,
          1,
          1,
          1,
          10,
          10,
          10,
          50,
          50,
          50,
          50,
          100,
          100,
          100,
          100,
          100,
          100,
          100,
          100,
          100,
          100,
          100,
          100,
          100,
          500,
          500,
          500,
          500,
          500,
          500,
          500,
          1000,
          1000,
          1000,
          1000,
          1000,
          1000,
          1000,
          1000,
          1000,
          1000,
          1000,
          1000,
          1000,
          1000,
          1000,
          1000,
          1000,
          1000,
          1000,
          1000,
          1000,
          1000,
          1000,
          1000,
          1000,
          1000,
          1000,
          1000,
          1000,
          1000,
          1000,
          1000,
          1000,
          1000,
          1000,
          5000,
          5000,
          5000,
          5000,
          5000,
          5000,
          5000,
          5000,
          5000,
          5000,
          5000,
          5000,
          10000,
          10000,
          10000,
          10000,
          10000,
          10000,
          10000,
          10000,
          10000,
          10000,
          10000,
          10000,
          10000,
          10000,
          10000,
          10000,
          10000,
          10000,
          10000,
          10000,
          10000,
          10000,
          50000,
          50000,
          50000,
          50000,
          100000,
          100000,
          100000,
          100000,
          100000
         ],
         "xaxis": "x",
         "y": [
          -34310.9116823512,
          -34293.937003058105,
          -34293.937003058105,
          -34293.937003058105,
          -34141.16488942022,
          -34141.16488942022,
          -34141.16488942022,
          -33462.177717696315,
          -33462.177717696315,
          -33462.177717696315,
          -33462.177717696315,
          -32613.443753041436,
          -32613.443753041436,
          -32613.443753041436,
          -32613.443753041436,
          -32613.443753041436,
          -32613.443753041436,
          -32613.443753041436,
          -32613.443753041436,
          -32613.443753041436,
          -32613.443753041436,
          -32613.443753041436,
          -32613.443753041436,
          -32613.443753041436,
          -25823.572035802372,
          -25823.572035802372,
          -25823.572035802372,
          -25823.572035802372,
          -25823.572035802372,
          -25823.572035802372,
          -25823.572035802372,
          -17336.232389253542,
          -17336.232389253542,
          -17336.232389253542,
          -17336.232389253542,
          -17336.232389253542,
          -17336.232389253542,
          -17336.232389253542,
          -17336.232389253542,
          -17336.232389253542,
          -17336.232389253542,
          -17336.232389253542,
          -17336.232389253542,
          -17336.232389253542,
          -17336.232389253542,
          -17336.232389253542,
          -17336.232389253542,
          -17336.232389253542,
          -17336.232389253542,
          -17336.232389253542,
          -17336.232389253542,
          -17336.232389253542,
          -17336.232389253542,
          -17336.232389253542,
          -17336.232389253542,
          -17336.232389253542,
          -17336.232389253542,
          -17336.232389253542,
          -17336.232389253542,
          -17336.232389253542,
          -17336.232389253542,
          -17336.232389253542,
          -17336.232389253542,
          -17336.232389253542,
          -17336.232389253542,
          -17336.232389253542,
          50562.484783137086,
          50562.484783137086,
          50562.484783137086,
          50562.484783137086,
          50562.484783137086,
          50562.484783137086,
          50562.484783137086,
          50562.484783137086,
          50562.484783137086,
          50562.484783137086,
          50562.484783137086,
          50562.484783137086,
          135435.88124862537,
          135435.88124862537,
          135435.88124862537,
          135435.88124862537,
          135435.88124862537,
          135435.88124862537,
          135435.88124862537,
          135435.88124862537,
          135435.88124862537,
          135435.88124862537,
          135435.88124862537,
          135435.88124862537,
          135435.88124862537,
          135435.88124862537,
          135435.88124862537,
          135435.88124862537,
          135435.88124862537,
          135435.88124862537,
          135435.88124862537,
          135435.88124862537,
          135435.88124862537,
          135435.88124862537,
          814423.0529725316,
          814423.0529725316,
          814423.0529725316,
          814423.0529725316,
          1663157.0176274145,
          1663157.0176274145,
          1663157.0176274145,
          1663157.0176274145,
          1663157.0176274145
         ],
         "yaxis": "y"
        },
        {
         "customdata": [
          [
           "Facetune - For Free"
          ],
          [
           "Lapse It • Time Lapse • Pro"
          ],
          [
           "Facetune - For Free"
          ],
          [
           "Camera FV-5"
          ],
          [
           "Facetune - For Free"
          ],
          [
           "F-Stop Gallery Pro"
          ],
          [
           "F Length Sim (no Ads)"
          ],
          [
           "Arto: f.infrared photo"
          ],
          [
           "Pocket AC"
          ],
          [
           "NewTek NDI"
          ],
          [
           "AI Draw | Art Filter for Selfie"
          ],
          [
           "Ai-Ball AV Recorder"
          ],
          [
           "BeFunky Photo Editor Pro"
          ],
          [
           "BL 1-Click Camera"
          ],
          [
           "Camera FV-5"
          ],
          [
           "BlackCam Pro - B&W Camera"
          ],
          [
           "LC-DB"
          ],
          [
           "Guide to Nikon Df"
          ],
          [
           "Cameringo+ Filters Camera"
          ],
          [
           "LightMeter (noAds)"
          ],
          [
           "PhotoFrame for Synology DS"
          ],
          [
           "EF Lens Simulator"
          ]
         ],
         "hovertemplate": "Category=PHOTOGRAPHY<br>Number of Installs=%{x}<br>Estimated Revenue=%{y}<br>App=%{customdata[0]}<extra></extra>",
         "legendgroup": "PHOTOGRAPHY",
         "marker": {
          "color": "#636efa",
          "symbol": "circle"
         },
         "mode": "markers",
         "name": "PHOTOGRAPHY",
         "orientation": "v",
         "showlegend": true,
         "type": "scatter",
         "x": [
          1000000,
          100000,
          1000000,
          100000,
          1000000,
          10000,
          10,
          500,
          1000,
          1000,
          1000,
          5000,
          50000,
          100,
          100000,
          100000,
          10,
          10,
          500000,
          10000,
          10,
          100
         ],
         "xaxis": "x",
         "y": [
          5990000,
          299000,
          5990000,
          395000,
          5990000,
          49900,
          20,
          745,
          9990,
          19990,
          2990,
          14950.000000000002,
          99500,
          399,
          395000,
          149000,
          34.900000000000006,
          299.9,
          1495000,
          19900,
          49.900000000000006,
          999
         ],
         "yaxis": "y"
        },
        {
         "hovertemplate": "<b>OLS trendline</b><br>Revenue = 5.85394 * Min Installs + -107661<br>R<sup>2</sup>=0.975276<br><br>Category=PHOTOGRAPHY<br>Number of Installs=%{x}<br>Estimated Revenue=%{y} <b>(trend)</b><extra></extra>",
         "legendgroup": "PHOTOGRAPHY",
         "marker": {
          "color": "#636efa",
          "symbol": "circle"
         },
         "mode": "lines",
         "name": "PHOTOGRAPHY",
         "showlegend": false,
         "type": "scatter",
         "x": [
          10,
          10,
          10,
          10,
          100,
          100,
          500,
          1000,
          1000,
          1000,
          5000,
          10000,
          10000,
          50000,
          100000,
          100000,
          100000,
          100000,
          500000,
          1000000,
          1000000,
          1000000
         ],
         "xaxis": "x",
         "y": [
          -107602.38592416406,
          -107602.38592416406,
          -107602.38592416406,
          -107602.38592416406,
          -107075.53126033685,
          -107075.53126033685,
          -104733.95497666034,
          -101806.98462206472,
          -101806.98462206472,
          -101806.98462206472,
          -78391.22178529968,
          -49121.5182393434,
          -49121.5182393434,
          185036.11012830687,
          477733.1455878697,
          477733.1455878697,
          477733.1455878697,
          477733.1455878697,
          2819309.4292643727,
          5746279.783860001,
          5746279.783860001,
          5746279.783860001
         ],
         "yaxis": "y"
        },
        {
         "customdata": [
          [
           "Golfshot Plus: Golf GPS"
          ],
          [
           "G-Force Driving Assistant"
          ],
          [
           "O'Route Orienteering"
          ],
          [
           "Mike V: Skateboard Party PRO"
          ],
          [
           "True Skate"
          ],
          [
           "Hunt Buddy BC"
          ],
          [
           "iHunter BC"
          ],
          [
           "iFish BC"
          ],
          [
           "Basket Manager 2018 Pro"
          ],
          [
           "Basket Manager 2016 Pro"
          ],
          [
           "Basket Manager 2017 Pro"
          ],
          [
           "BT Speed"
          ],
          [
           "Dive-Store.ch"
          ],
          [
           "Jetting for Honda CR dirt bike"
          ],
          [
           "Absolute RC Heli Simulator"
          ],
          [
           "Fodbold DK Pro"
          ],
          [
           "Basketball Dynasty Manager 16"
          ],
          [
           "PORTABLE SOCCER DX"
          ],
          [
           "Active Soccer 2 DX"
          ],
          [
           "LocaToWeb - Live GPS tracking"
          ],
          [
           "FL SW Fishing Regulations"
          ],
          [
           "FL Racing Manager 2015 Pro"
          ],
          [
           "FL Racing Manager 2018 Pro"
          ],
          [
           "Football Manager Mobile 2018"
          ]
         ],
         "hovertemplate": "Category=SPORTS<br>Number of Installs=%{x}<br>Estimated Revenue=%{y}<br>App=%{customdata[0]}<extra></extra>",
         "legendgroup": "SPORTS",
         "marker": {
          "color": "#EF553B",
          "symbol": "circle"
         },
         "mode": "markers",
         "name": "SPORTS",
         "orientation": "v",
         "showlegend": true,
         "type": "scatter",
         "x": [
          50000,
          100,
          100,
          50000,
          1000000,
          5000,
          1000,
          1000,
          1000,
          1000,
          1000,
          10,
          5,
          100,
          10000,
          1000,
          5000,
          5000,
          500,
          1000,
          1000,
          5000,
          5000,
          100000
         ],
         "xaxis": "x",
         "y": [
          1499500,
          388,
          302,
          199500,
          1990000,
          14950.000000000002,
          4490,
          3990,
          2990,
          990,
          990,
          48,
          9.95,
          349,
          49900,
          2990,
          9950,
          5000,
          1495,
          2490,
          1990,
          4950,
          9950,
          899000
         ],
         "yaxis": "y"
        },
        {
         "hovertemplate": "<b>OLS trendline</b><br>Revenue = 2.02119 * Min Installs + 91342.6<br>R<sup>2</sup>=0.632923<br><br>Category=SPORTS<br>Number of Installs=%{x}<br>Estimated Revenue=%{y} <b>(trend)</b><extra></extra>",
         "legendgroup": "SPORTS",
         "marker": {
          "color": "#EF553B",
          "symbol": "circle"
         },
         "mode": "lines",
         "name": "SPORTS",
         "showlegend": false,
         "type": "scatter",
         "x": [
          5,
          10,
          100,
          100,
          100,
          500,
          1000,
          1000,
          1000,
          1000,
          1000,
          1000,
          1000,
          1000,
          5000,
          5000,
          5000,
          5000,
          5000,
          10000,
          50000,
          50000,
          100000,
          1000000
         ],
         "xaxis": "x",
         "y": [
          91352.72864305058,
          91362.83460336467,
          91544.74188901832,
          91544.74188901832,
          91544.74188901832,
          92353.21871414562,
          93363.81474555477,
          93363.81474555477,
          93363.81474555477,
          93363.81474555477,
          93363.81474555477,
          93363.81474555477,
          93363.81474555477,
          93363.81474555477,
          101448.58299682791,
          101448.58299682791,
          101448.58299682791,
          101448.58299682791,
          101448.58299682791,
          111554.54331091933,
          192402.2258236507,
          192402.2258236507,
          293461.8289645649,
          2112534.6855010204
         ],
         "yaxis": "y"
        },
        {
         "customdata": [
          [
           "Beautiful Widgets Pro"
          ],
          [
           "HD Widgets"
          ],
          [
           "Kairo XP (for HD Widgets)"
          ],
          [
           "BIG Launcher"
          ],
          [
           "Smart Launcher Pro 3"
          ],
          [
           "B-17 Flying Fortress WWII LWP"
          ],
          [
           "Smart Launcher theme b. gold"
          ],
          [
           "Next Launcher 3D Theme Hit-B"
          ],
          [
           "C Locker Pro"
          ],
          [
           "Neon Glow C - Icon Pack"
          ],
          [
           "Koi Live Wallpaper"
          ],
          [
           "F-1 watchface by Delta"
          ],
          [
           "Next Launcher 3D Theme Hit-G"
          ],
          [
           "Go"
          ],
          [
           "G Theme 2 for LG V30, LG G6"
          ],
          [
           "Dialer theme G Black Gold"
          ],
          [
           "N Launcher Pro - Nougat 7.0"
          ],
          [
           "Dark Infusion Substratum Theme for Android N & O"
          ],
          [
           "Planet O - Icon Pack"
          ],
          [
           "Prime Key for Nougat Launcher& O Launcher &KitKat"
          ],
          [
           "Android P | Xperia™ Theme 4800+ icons"
          ],
          [
           "Android P Home KLWP"
          ],
          [
           "P-Home for KLWP"
          ],
          [
           "[substratum] Vacuum: P"
          ],
          [
           "[Sub/EMUI] P Pro - EMUI 8.1/8.0/5.X Theme"
          ],
          [
           "Pacify Exceed (Android P) - Theme for Xperia™"
          ],
          [
           "Theme Android P Design for LG V30"
          ],
          [
           "Pistachio Launcher for Android P 9.0"
          ],
          [
           "Theme Android P for LG G7 & V35"
          ],
          [
           "Pacify (Android P theme) - Theme for Xperia™"
          ],
          [
           "Popsicle Launcher for Android P 9.0 launcher"
          ],
          [
           "Theme Android P Black design for LG V30"
          ],
          [
           "Theme Android P Black for LG G7 & V35"
          ],
          [
           "Pureness Pacify (Android P) - Theme for Xperia™"
          ],
          [
           "Android P Style Icon Pack"
          ],
          [
           "Pixel Oreo/P Dark White AMOLED UI - Icon Pack"
          ],
          [
           "Neon-R (Red)"
          ],
          [
           "S Launcher Pro for Galaxy"
          ],
          [
           "PitchBlack S - Samsung Substratum Theme “For Oreo”"
          ],
          [
           "weather HD"
          ],
          [
           "Light X - Icon Pack"
          ],
          [
           "iLauncher OS 12 Pro - Phone X"
          ],
          [
           "X Back - Icon Pack"
          ],
          [
           "Space Z 🌏 🚀Icon Pack Theme"
          ],
          [
           "Watch Face Swiss AJ-6"
          ],
          [
           "AJ Gray Icon Pack"
          ],
          [
           "AJ Gray Dark Icon Pack"
          ],
          [
           "AJ Blue Icon Pack"
          ],
          [
           "AJ Turquoise Dark Icon Pack"
          ],
          [
           "AJ Orange Icon Pack"
          ],
          [
           "AP Themes for Kustom/KLWP"
          ],
          [
           "Glanceable Ap Watch Face"
          ],
          [
           "Ultimate Watch 2 watch face"
          ],
          [
           "Pujie Black Watch Face for Android Wear OS"
          ],
          [
           "AX Watch for WatchMaker"
          ],
          [
           "Ay Yıldız - Xperia Live Theme"
          ],
          [
           "SLANGY-Perfect BK World Theme"
          ],
          [
           "BL Holo Theme"
          ],
          [
           "Watch Face BW Inter"
          ],
          [
           "Beautiful Widgets Pro"
          ],
          [
           "HD Widgets"
          ],
          [
           "Color Changer Pro [root]"
          ],
          [
           "Lollipop Launcher Plus"
          ],
          [
           "Next Launcher 3D Bold-CF Theme"
          ],
          [
           "FAV KWGT"
          ],
          [
           "Pixxy KWGT"
          ],
          [
           "CI 174 Gray Icon Pack"
          ],
          [
           "CM Launcher 3D Pro💎"
          ],
          [
           "Swift Dark CM / CM13 Theme"
          ],
          [
           "OMEGA Black UI Theme - CM 12+"
          ],
          [
           "Asiimov Skin - CS GO Icon Pack"
          ],
          [
           "DK Primrose for KLWP"
          ],
          [
           "MultiPicture Live Wallpaper dn"
          ],
          [
           "Day Night Live Wallpaper (All)"
          ],
          [
           "RETRO Shocked DW-6000"
          ],
          [
           "DX Glow - Clock Widget"
          ],
          [
           "EM Launcher Pro"
          ],
          [
           "EU Flags Live Wallpaper"
          ],
          [
           "ADWLauncher 1 EX"
          ],
          [
           "Device Info Ex Live Wallpaper"
          ],
          [
           "GO Contacts EX Black & Grey"
          ],
          [
           "Circle Colors Pack-FN Theme"
          ],
          [
           "FO Bixby"
          ]
         ],
         "hovertemplate": "Category=PERSONALIZATION<br>Number of Installs=%{x}<br>Estimated Revenue=%{y}<br>App=%{customdata[0]}<extra></extra>",
         "legendgroup": "PERSONALIZATION",
         "marker": {
          "color": "#00cc96",
          "symbol": "circle"
         },
         "mode": "markers",
         "name": "PERSONALIZATION",
         "orientation": "v",
         "showlegend": true,
         "type": "scatter",
         "x": [
          1000000,
          1000000,
          10000,
          10000,
          100000,
          100,
          5000,
          1000,
          10000,
          10000,
          100000,
          10,
          1000,
          5000,
          500,
          500,
          100000,
          1000,
          10000,
          5000,
          100,
          5,
          100,
          1000,
          100,
          10,
          500,
          1,
          100,
          10,
          0,
          100,
          100,
          1,
          100,
          5000,
          100,
          1000,
          1000,
          10000,
          10000,
          50,
          10000,
          1000,
          100,
          50,
          10,
          50,
          10,
          10,
          500,
          5,
          10000,
          100000,
          1,
          10,
          50,
          500,
          1000,
          1000000,
          1000000,
          1000,
          1000,
          1000,
          1000,
          1000,
          10,
          100000,
          10000,
          100,
          100,
          1,
          10000,
          50000,
          100,
          50,
          1000,
          10000,
          500000,
          50000,
          500,
          50,
          100
         ],
         "xaxis": "x",
         "y": [
          2490000,
          990000,
          9900,
          99900,
          449000,
          149,
          9950,
          1700,
          29900.000000000004,
          9900,
          99000,
          24.900000000000002,
          1700,
          4950,
          745,
          745,
          299000,
          2490,
          9900,
          34950,
          199,
          7.45,
          99,
          1490,
          99,
          14.9,
          745,
          1.49,
          149,
          9.9,
          0,
          149,
          149,
          1.49,
          99,
          7450,
          99,
          4990,
          1990,
          19900,
          9900,
          149.5,
          9900,
          1490,
          99,
          49.5,
          9.9,
          49.5,
          9.9,
          9.9,
          745,
          4.95,
          9900,
          199000,
          0.99,
          9.9,
          242.49999999999997,
          1000,
          990,
          2490000,
          990000,
          990,
          4990,
          990,
          990,
          990,
          9.9,
          499000,
          19900,
          99,
          249.00000000000003,
          0.99,
          19900,
          124500.00000000001,
          149,
          49.5,
          3990,
          9900,
          1245000,
          49500,
          495,
          49.5,
          99
         ],
         "yaxis": "y"
        },
        {
         "hovertemplate": "<b>OLS trendline</b><br>Revenue = 1.78637 * Min Installs + 10636.1<br>R<sup>2</sup>=0.830871<br><br>Category=PERSONALIZATION<br>Number of Installs=%{x}<br>Estimated Revenue=%{y} <b>(trend)</b><extra></extra>",
         "legendgroup": "PERSONALIZATION",
         "marker": {
          "color": "#00cc96",
          "symbol": "circle"
         },
         "mode": "lines",
         "name": "PERSONALIZATION",
         "showlegend": false,
         "type": "scatter",
         "x": [
          0,
          1,
          1,
          1,
          1,
          5,
          5,
          10,
          10,
          10,
          10,
          10,
          10,
          10,
          10,
          50,
          50,
          50,
          50,
          50,
          50,
          100,
          100,
          100,
          100,
          100,
          100,
          100,
          100,
          100,
          100,
          100,
          100,
          100,
          100,
          500,
          500,
          500,
          500,
          500,
          500,
          1000,
          1000,
          1000,
          1000,
          1000,
          1000,
          1000,
          1000,
          1000,
          1000,
          1000,
          1000,
          1000,
          1000,
          5000,
          5000,
          5000,
          5000,
          10000,
          10000,
          10000,
          10000,
          10000,
          10000,
          10000,
          10000,
          10000,
          10000,
          10000,
          10000,
          50000,
          50000,
          100000,
          100000,
          100000,
          100000,
          100000,
          500000,
          1000000,
          1000000,
          1000000,
          1000000
         ],
         "xaxis": "x",
         "y": [
          10636.083211442372,
          10637.869581597479,
          10637.869581597479,
          10637.869581597479,
          10637.869581597479,
          10645.015062217903,
          10645.015062217903,
          10653.946912993431,
          10653.946912993431,
          10653.946912993431,
          10653.946912993431,
          10653.946912993431,
          10653.946912993431,
          10653.946912993431,
          10653.946912993431,
          10725.401719197669,
          10725.401719197669,
          10725.401719197669,
          10725.401719197669,
          10725.401719197669,
          10725.401719197669,
          10814.720226952968,
          10814.720226952968,
          10814.720226952968,
          10814.720226952968,
          10814.720226952968,
          10814.720226952968,
          10814.720226952968,
          10814.720226952968,
          10814.720226952968,
          10814.720226952968,
          10814.720226952968,
          10814.720226952968,
          10814.720226952968,
          10814.720226952968,
          11529.268288995352,
          11529.268288995352,
          11529.268288995352,
          11529.268288995352,
          11529.268288995352,
          11529.268288995352,
          12422.453366548332,
          12422.453366548332,
          12422.453366548332,
          12422.453366548332,
          12422.453366548332,
          12422.453366548332,
          12422.453366548332,
          12422.453366548332,
          12422.453366548332,
          12422.453366548332,
          12422.453366548332,
          12422.453366548332,
          12422.453366548332,
          12422.453366548332,
          19567.93398697217,
          19567.93398697217,
          19567.93398697217,
          19567.93398697217,
          28499.784762501968,
          28499.784762501968,
          28499.784762501968,
          28499.784762501968,
          28499.784762501968,
          28499.784762501968,
          28499.784762501968,
          28499.784762501968,
          28499.784762501968,
          28499.784762501968,
          28499.784762501968,
          28499.784762501968,
          99954.59096674035,
          99954.59096674035,
          189273.09872203832,
          189273.09872203832,
          189273.09872203832,
          189273.09872203832,
          189273.09872203832,
          903821.160764422,
          1797006.2383174018,
          1797006.2383174018,
          1797006.2383174018,
          1797006.2383174018
         ],
         "yaxis": "y"
        },
        {
         "customdata": [
          [
           "aCalendar+ Calendar & Tasks"
          ],
          [
           "Ramfer - CNC Lathe G-code Tool"
          ],
          [
           "m>notes notepad"
          ],
          [
           "Ad Removal: thereisonlywe"
          ],
          [
           "Ad Remove Plugin for App2SD"
          ],
          [
           "F05WatchFace for Android Wear"
          ],
          [
           "PROFESSOR SEE-BA LINGUAGENS E SUAS TECNOLOGIAS"
          ],
          [
           "Business Calendar Pro"
          ],
          [
           "BI Barcode Scanner"
          ],
          [
           "QR Code Pro"
          ],
          [
           "cronometra-br"
          ],
          [
           "California Cop Assist CA Cop"
          ],
          [
           "CI Attendance"
          ],
          [
           "CamScanner (License)"
          ],
          [
           "Pocket RxTx Pro"
          ],
          [
           "ACCDB MDB DB Manager Pro - Editor for MS Access"
          ],
          [
           "Técnico Legislativo Câmara Legislativa DF"
          ],
          [
           "Cargo de Praça PM DF"
          ],
          [
           "Diseño de columnas NTC - RSEE 2017"
          ],
          [
           "DL Image Manager"
          ],
          [
           "MC.Fitting"
          ],
          [
           "myGrow"
          ],
          [
           "Ability DS UNO"
          ],
          [
           "Inventory & Barcode scanner & WIFI scanner"
          ],
          [
           "ES File Explorer/Manager PRO"
          ],
          [
           "EX File Explorer File Manage Pro"
          ],
          [
           "Organizer"
          ],
          [
           "Police Field Interview FI Card"
          ]
         ],
         "hovertemplate": "Category=PRODUCTIVITY<br>Number of Installs=%{x}<br>Estimated Revenue=%{y}<br>App=%{customdata[0]}<extra></extra>",
         "legendgroup": "PRODUCTIVITY",
         "marker": {
          "color": "#ab63fa",
          "symbol": "circle"
         },
         "mode": "markers",
         "name": "PRODUCTIVITY",
         "orientation": "v",
         "showlegend": true,
         "type": "scatter",
         "x": [
          100000,
          100,
          1000,
          100,
          1000,
          1000,
          10,
          100000,
          10,
          100000,
          0,
          100,
          5,
          500000,
          5000,
          500,
          10,
          10,
          100,
          10,
          1000,
          1000,
          50,
          50000,
          500000,
          50,
          50000,
          1000
         ],
         "xaxis": "x",
         "y": [
          599000,
          299,
          2990,
          649,
          1290,
          990,
          29.900000000000002,
          499000,
          9.9,
          449000,
          0,
          499,
          4.95,
          995000,
          19950,
          4495,
          29.900000000000002,
          29.900000000000002,
          99,
          9.9,
          8490,
          4290,
          130,
          74500,
          1495000,
          99.5,
          149500,
          7990
         ],
         "yaxis": "y"
        },
        {
         "hovertemplate": "<b>OLS trendline</b><br>Revenue = 2.5732 * Min Installs + 24281.3<br>R<sup>2</sup>=0.903678<br><br>Category=PRODUCTIVITY<br>Number of Installs=%{x}<br>Estimated Revenue=%{y} <b>(trend)</b><extra></extra>",
         "legendgroup": "PRODUCTIVITY",
         "marker": {
          "color": "#ab63fa",
          "symbol": "circle"
         },
         "mode": "lines",
         "name": "PRODUCTIVITY",
         "showlegend": false,
         "type": "scatter",
         "x": [
          0,
          5,
          10,
          10,
          10,
          10,
          10,
          50,
          50,
          100,
          100,
          100,
          100,
          500,
          1000,
          1000,
          1000,
          1000,
          1000,
          1000,
          5000,
          50000,
          50000,
          100000,
          100000,
          100000,
          500000,
          500000
         ],
         "xaxis": "x",
         "y": [
          24281.336386191557,
          24294.20237771167,
          24307.068369231783,
          24307.068369231783,
          24307.068369231783,
          24307.068369231783,
          24307.068369231783,
          24409.996301392686,
          24409.996301392686,
          24538.656216593816,
          24538.656216593816,
          24538.656216593816,
          24538.656216593816,
          25567.93553820286,
          26854.53469021416,
          26854.53469021416,
          26854.53469021416,
          26854.53469021416,
          26854.53469021416,
          26854.53469021416,
          37147.32790630457,
          152941.25158732172,
          152941.25158732172,
          281601.1667884519,
          281601.1667884519,
          281601.1667884519,
          1310880.4883974933,
          1310880.4883974933
         ],
         "yaxis": "y"
        },
        {
         "customdata": [
          [
           "Weather Live Pro"
          ],
          [
           "Weather Live"
          ],
          [
           "W Pro - Weather Forecast & Animated Weather Maps"
          ],
          [
           "MyRadar NOAA Weather Radar Ad Free"
          ],
          [
           "Weather & Radar Pro - Ad-Free"
          ],
          [
           "Weather Data CH"
          ],
          [
           "Weather Forecast Pro"
          ],
          [
           "Florida Tides & Weather"
          ]
         ],
         "hovertemplate": "Category=WEATHER<br>Number of Installs=%{x}<br>Estimated Revenue=%{y}<br>App=%{customdata[0]}<extra></extra>",
         "legendgroup": "WEATHER",
         "marker": {
          "color": "#FFA15A",
          "symbol": "circle"
         },
         "mode": "markers",
         "name": "WEATHER",
         "orientation": "v",
         "showlegend": true,
         "type": "scatter",
         "x": [
          100000,
          500000,
          500,
          10000,
          100000,
          500,
          100000,
          1000
         ],
         "xaxis": "x",
         "y": [
          449000,
          2995000,
          995,
          29900.000000000004,
          299000,
          1495,
          399000,
          6990
         ],
         "yaxis": "y"
        },
        {
         "hovertemplate": "<b>OLS trendline</b><br>Revenue = 6.0101 * Min Installs + -87352.4<br>R<sup>2</sup>=0.986857<br><br>Category=WEATHER<br>Number of Installs=%{x}<br>Estimated Revenue=%{y} <b>(trend)</b><extra></extra>",
         "legendgroup": "WEATHER",
         "marker": {
          "color": "#FFA15A",
          "symbol": "circle"
         },
         "mode": "lines",
         "name": "WEATHER",
         "showlegend": false,
         "type": "scatter",
         "x": [
          500,
          500,
          1000,
          10000,
          100000,
          100000,
          100000,
          500000
         ],
         "xaxis": "x",
         "y": [
          -84347.37603922431,
          -84347.37603922431,
          -81342.32714794102,
          -27251.44710484184,
          513657.3533261499,
          513657.3533261499,
          513657.3533261499,
          2917696.46635278
         ],
         "yaxis": "y"
        },
        {
         "customdata": [
          [
           "ADS-B Driver"
          ],
          [
           "G Cloud Apps Backup Key * root"
          ],
          [
           "G-Playlists"
          ],
          [
           "G-NetTrack Pro"
          ],
          [
           "G-NetReport Pro"
          ],
          [
           "G-NetWiFi Pro"
          ],
          [
           "Volume Slider Like Android P Volume Control"
          ],
          [
           "Q-slope"
          ],
          [
           "I Can't Wake Up!"
          ],
          [
           "X-Plane to GPS"
          ],
          [
           "Decibel X PRO - Sound Meter dBA, Noise Detector"
          ],
          [
           "X Home Bar - Home Bar Gesture Pro"
          ],
          [
           "ZArchiver Donate"
          ],
          [
           "FVD Ad-Free"
          ],
          [
           "Vpn Hosts (ad blocker & no root & support ipv6 )"
          ],
          [
           "RAM Cleanup Ad-Free Option"
          ],
          [
           "Easy Hotspot Ad Free"
          ],
          [
           "AH Alarm Panel"
          ],
          [
           "Message AI - Write Better Messages"
          ],
          [
           "ap,wifi testing,iperf,ping,android,Bluetooth,tcp"
          ],
          [
           "AV Tools Pro"
          ],
          [
           "Analog Clock AW-7 PRO"
          ],
          [
           "Analog and Digital Clock AW-7PRO"
          ],
          [
           "Droid PRoCon BF3"
          ],
          [
           "BusyBox Pro"
          ],
          [
           "Power Widget"
          ],
          [
           "BL File Explorer"
          ],
          [
           "BL IP-Camera"
          ],
          [
           "BL PowerPoint Remote"
          ],
          [
           "BatControl Pro"
          ],
          [
           "Sam.BN Pro"
          ],
          [
           "BS Match Maker Premium"
          ],
          [
           "Little Magnet BT Pro"
          ],
          [
           "Battery Notifier Pro BT"
          ],
          [
           "USB BT Wi-Fi Color Terminal Modem"
          ],
          [
           "Bixby Button Remapper - bxActions Pro / Coffee"
          ],
          [
           "Trinomial Factoring Wizard"
          ],
          [
           "CB Frequencies"
          ],
          [
           "Antenna Tool Premium"
          ],
          [
           "Frequencies"
          ],
          [
           "CF-Bench Pro"
          ],
          [
           "Battery HD Pro"
          ],
          [
           "Automagic * Automation"
          ],
          [
           "FlashLight HD LED Pro"
          ],
          [
           "UFO-CQ"
          ],
          [
           "25WPM Amateur ham radio Koch CW Morse code trainer"
          ],
          [
           "DCUO|CR Calculator Pro"
          ],
          [
           "Servidor Privado CR y CoC - Royale Servers PRO"
          ],
          [
           "CZ-Cyberon Voice Commander"
          ],
          [
           "Scale Models DB"
          ],
          [
           "ReDNAKET DB Normalization Tool"
          ],
          [
           "db Meter - sound level meter with data logging"
          ],
          [
           "Droidbug BusyBox Advance PRO"
          ],
          [
           "Penny Puss"
          ],
          [
           "Advanced Download Manager Pro"
          ],
          [
           "DM Die Roller 9000"
          ],
          [
           "Deep Sleep Battery Saver Pro"
          ],
          [
           "iCam - Webcam Video Streaming"
          ],
          [
           "DW Contacts widget"
          ],
          [
           "KeePass DX Pro"
          ],
          [
           "Electrician Calculator Pro"
          ],
          [
           "EC music dictionary"
          ],
          [
           "Silence Premium Do Not Disturb"
          ],
          [
           "Trazado de tuberia El Tubero"
          ],
          [
           "ai.type keyboard Plus + Emoji"
          ],
          [
           "Tasker"
          ],
          [
           "Advanced EX for HYUNDAI"
          ],
          [
           "Advanced EX for MITSUBISHI"
          ],
          [
           "Advanced EX for KIA"
          ],
          [
           "Advanced EX for NISSAN"
          ],
          [
           "Advanced EX for FIAT"
          ],
          [
           "Advanced EX for RENAULT"
          ],
          [
           "Volume Control Ex"
          ],
          [
           "FiSwitch"
          ],
          [
           "WiFi Monitor Pro - analyzer of Wi-Fi networks"
          ],
          [
           "Wi-Fi Rabbit Unlock Key"
          ],
          [
           "FJ Toolkit"
          ],
          [
           "Kernel Manager for Franco Kernel ✨"
          ]
         ],
         "hovertemplate": "Category=TOOLS<br>Number of Installs=%{x}<br>Estimated Revenue=%{y}<br>App=%{customdata[0]}<extra></extra>",
         "legendgroup": "TOOLS",
         "marker": {
          "color": "#19d3f3",
          "symbol": "circle"
         },
         "mode": "markers",
         "name": "TOOLS",
         "orientation": "v",
         "showlegend": true,
         "type": "scatter",
         "x": [
          100,
          5000,
          1000,
          5000,
          10,
          100,
          10000,
          50,
          10000,
          5000,
          1000,
          10000,
          10000,
          10000,
          10000,
          10000,
          10,
          100,
          100,
          10,
          1000,
          1000,
          100,
          5000,
          100000,
          10000,
          50,
          100,
          500,
          500,
          10,
          10,
          1000,
          10000,
          5,
          10000,
          1000,
          100,
          500,
          500,
          1000,
          100000,
          10000,
          50000,
          10,
          10,
          500,
          100,
          1000,
          50,
          10,
          1,
          100,
          1000,
          50000,
          5,
          10000,
          10000,
          1000,
          100,
          1000,
          500,
          10000,
          10000,
          100000,
          1000000,
          5000,
          1000,
          5000,
          5000,
          5000,
          5000,
          100,
          10000,
          1000,
          5000,
          100,
          100000
         ],
         "xaxis": "x",
         "y": [
          199,
          24950,
          1490,
          74950,
          259.9,
          599,
          9900,
          88,
          29900.000000000004,
          4950,
          3990,
          19900,
          25000,
          19900,
          29900.000000000004,
          29900.000000000004,
          9.9,
          499,
          299,
          29.900000000000002,
          2490,
          1990,
          199,
          4950,
          249000.00000000003,
          19900,
          99.5,
          399,
          1995,
          1995,
          9.9,
          9.9,
          990,
          25900,
          44.95,
          29900.000000000004,
          990,
          99,
          495,
          495,
          1490,
          399000,
          39000,
          149500,
          9.9,
          14.9,
          495,
          199,
          5990,
          149.5,
          9.9,
          1.49,
          399,
          4990,
          149500,
          4.95,
          32800,
          49900,
          990,
          599,
          14990,
          995,
          29500,
          19700,
          449000,
          2990000,
          24950,
          4990,
          24950,
          24950,
          24950,
          24950,
          149,
          19900,
          2990,
          5000,
          149,
          349000
         ],
         "yaxis": "y"
        },
        {
         "hovertemplate": "<b>OLS trendline</b><br>Revenue = 3.00819 * Min Installs + 3440.43<br>R<sup>2</sup>=0.995405<br><br>Category=TOOLS<br>Number of Installs=%{x}<br>Estimated Revenue=%{y} <b>(trend)</b><extra></extra>",
         "legendgroup": "TOOLS",
         "marker": {
          "color": "#19d3f3",
          "symbol": "circle"
         },
         "mode": "lines",
         "name": "TOOLS",
         "showlegend": false,
         "type": "scatter",
         "x": [
          1,
          5,
          5,
          10,
          10,
          10,
          10,
          10,
          10,
          10,
          10,
          50,
          50,
          50,
          100,
          100,
          100,
          100,
          100,
          100,
          100,
          100,
          100,
          100,
          100,
          100,
          500,
          500,
          500,
          500,
          500,
          500,
          1000,
          1000,
          1000,
          1000,
          1000,
          1000,
          1000,
          1000,
          1000,
          1000,
          1000,
          1000,
          1000,
          5000,
          5000,
          5000,
          5000,
          5000,
          5000,
          5000,
          5000,
          5000,
          5000,
          10000,
          10000,
          10000,
          10000,
          10000,
          10000,
          10000,
          10000,
          10000,
          10000,
          10000,
          10000,
          10000,
          10000,
          10000,
          10000,
          50000,
          50000,
          100000,
          100000,
          100000,
          100000,
          1000000
         ],
         "xaxis": "x",
         "y": [
          3443.4349921874445,
          3455.4677442160787,
          3455.4677442160787,
          3470.5086842518713,
          3470.5086842518713,
          3470.5086842518713,
          3470.5086842518713,
          3470.5086842518713,
          3470.5086842518713,
          3470.5086842518713,
          3470.5086842518713,
          3590.8362045382128,
          3590.8362045382128,
          3590.8362045382128,
          3741.245604896139,
          3741.245604896139,
          3741.245604896139,
          3741.245604896139,
          3741.245604896139,
          3741.245604896139,
          3741.245604896139,
          3741.245604896139,
          3741.245604896139,
          3741.245604896139,
          3741.245604896139,
          3741.245604896139,
          4944.520807759551,
          4944.520807759551,
          4944.520807759551,
          4944.520807759551,
          4944.520807759551,
          4944.520807759551,
          6448.614811338814,
          6448.614811338814,
          6448.614811338814,
          6448.614811338814,
          6448.614811338814,
          6448.614811338814,
          6448.614811338814,
          6448.614811338814,
          6448.614811338814,
          6448.614811338814,
          6448.614811338814,
          6448.614811338814,
          6448.614811338814,
          18481.36683997293,
          18481.36683997293,
          18481.36683997293,
          18481.36683997293,
          18481.36683997293,
          18481.36683997293,
          18481.36683997293,
          18481.36683997293,
          18481.36683997293,
          18481.36683997293,
          33522.30687576557,
          33522.30687576557,
          33522.30687576557,
          33522.30687576557,
          33522.30687576557,
          33522.30687576557,
          33522.30687576557,
          33522.30687576557,
          33522.30687576557,
          33522.30687576557,
          33522.30687576557,
          33522.30687576557,
          33522.30687576557,
          33522.30687576557,
          33522.30687576557,
          33522.30687576557,
          153849.82716210673,
          153849.82716210673,
          304259.22752003314,
          304259.22752003314,
          304259.22752003314,
          304259.22752003314,
          3011628.433962709
         ],
         "yaxis": "y"
        },
        {
         "customdata": [
          [
           "Maps & GPS Navigation OsmAnd+"
          ],
          [
           "Greater London A-Z 2016"
          ],
          [
           "Es-Bg Offline Voice Translator"
          ],
          [
           "Ultimate Public Campgrounds (Over 37,100 in US&CA)"
          ],
          [
           "Navigator PRO - GPS Navigation with Offline Maps"
          ],
          [
           "D.C. Driving/Walking Tours"
          ],
          [
           "DC Metro Transit"
          ],
          [
           "EG | Explore Folegandros"
          ],
          [
           "Monastery of El Escorial"
          ],
          [
           "YouCamp EU"
          ],
          [
           "Campervan.Guide Pro"
          ],
          [
           "XE Currency Pro"
          ]
         ],
         "hovertemplate": "Category=TRAVEL_AND_LOCAL<br>Number of Installs=%{x}<br>Estimated Revenue=%{y}<br>App=%{customdata[0]}<extra></extra>",
         "legendgroup": "TRAVEL_AND_LOCAL",
         "marker": {
          "color": "#FF6692",
          "symbol": "circle"
         },
         "mode": "markers",
         "name": "TRAVEL_AND_LOCAL",
         "orientation": "v",
         "showlegend": true,
         "type": "scatter",
         "x": [
          100000,
          1000,
          10,
          5000,
          50000,
          50,
          5000,
          0,
          1000,
          1000,
          10000,
          10000
         ],
         "xaxis": "x",
         "y": [
          899000,
          8490,
          14.9,
          19950,
          124500.00000000001,
          249.5,
          14950.000000000002,
          0,
          1990,
          2560,
          59900,
          19900
         ],
         "yaxis": "y"
        },
        {
         "hovertemplate": "<b>OLS trendline</b><br>Revenue = 7.98604 * Min Installs + -25868.4<br>R<sup>2</sup>=0.884874<br><br>Category=TRAVEL_AND_LOCAL<br>Number of Installs=%{x}<br>Estimated Revenue=%{y} <b>(trend)</b><extra></extra>",
         "legendgroup": "TRAVEL_AND_LOCAL",
         "marker": {
          "color": "#FF6692",
          "symbol": "circle"
         },
         "mode": "lines",
         "name": "TRAVEL_AND_LOCAL",
         "showlegend": false,
         "type": "scatter",
         "x": [
          0,
          10,
          50,
          1000,
          1000,
          1000,
          5000,
          5000,
          10000,
          10000,
          50000,
          100000
         ],
         "xaxis": "x",
         "y": [
          -25868.374043387717,
          -25788.513621202605,
          -25469.07193246216,
          -17882.331824876557,
          -17882.331824876557,
          -17882.331824876557,
          14061.837049168076,
          14061.837049168076,
          53992.04814172387,
          53992.04814172387,
          373433.73688217025,
          772735.8478077282
         ],
         "yaxis": "y"
        },
        {
         "customdata": [
          [
           "A41 WatchFace for Android Wear Smart Watch"
          ],
          [
           "H*nest Meditation"
          ],
          [
           "💎 I'm rich"
          ],
          [
           "I'm Rich - Trump Edition"
          ],
          [
           "Kicker U"
          ],
          [
           "Alarmy (Sleep If U Can) - Pro"
          ],
          [
           "I am rich"
          ],
          [
           "I am rich VIP"
          ],
          [
           "I am extremely Rich"
          ],
          [
           "I am Rich Person"
          ],
          [
           "I am Millionaire - Richest guy in the town"
          ],
          [
           "Sleep as Android Unlock"
          ],
          [
           "Lunar Calendar"
          ],
          [
           "Board Game Stats: Play tracking for tabletop games"
          ],
          [
           "CA Speakers"
          ],
          [
           "My Movies Pro - Movie & TV Collection Library"
          ],
          [
           "AC DC Power Monitor"
          ],
          [
           "The Secret Daily Teachings"
          ],
          [
           "I'm Rich/Eu sou Rico/أنا غني/我很有錢"
          ]
         ],
         "hovertemplate": "Category=LIFESTYLE<br>Number of Installs=%{x}<br>Estimated Revenue=%{y}<br>App=%{customdata[0]}<extra></extra>",
         "legendgroup": "LIFESTYLE",
         "marker": {
          "color": "#B6E880",
          "symbol": "circle"
         },
         "mode": "markers",
         "name": "LIFESTYLE",
         "orientation": "v",
         "showlegend": true,
         "type": "scatter",
         "x": [
          5000,
          5000,
          10000,
          10000,
          5000,
          10000,
          100000,
          10000,
          1000,
          1000,
          5000,
          1000000,
          1000,
          5000,
          100,
          10000,
          10,
          1000,
          0
         ],
         "xaxis": "x",
         "y": [
          4950,
          9950,
          3999900,
          4000000,
          19950,
          24900.000000000004,
          39999000,
          2999900,
          379990,
          37990,
          12450.000000000002,
          5990000,
          4990,
          14950.000000000002,
          99,
          79900,
          30.4,
          4990,
          0
         ],
         "yaxis": "y"
        },
        {
         "hovertemplate": "<b>OLS trendline</b><br>Revenue = 6.96366 * Min Installs + 2.59858e+06<br>R<sup>2</sup>=0.030257<br><br>Category=LIFESTYLE<br>Number of Installs=%{x}<br>Estimated Revenue=%{y} <b>(trend)</b><extra></extra>",
         "legendgroup": "LIFESTYLE",
         "marker": {
          "color": "#B6E880",
          "symbol": "circle"
         },
         "mode": "lines",
         "name": "LIFESTYLE",
         "showlegend": false,
         "type": "scatter",
         "x": [
          0,
          10,
          100,
          1000,
          1000,
          1000,
          1000,
          5000,
          5000,
          5000,
          5000,
          5000,
          10000,
          10000,
          10000,
          10000,
          10000,
          100000,
          1000000
         ],
         "xaxis": "x",
         "y": [
          2598580.1166731482,
          2598649.753239569,
          2599276.4823373533,
          2605543.7733152006,
          2605543.7733152006,
          2605543.7733152006,
          2605543.7733152006,
          2633398.3998834095,
          2633398.3998834095,
          2633398.3998834095,
          2633398.3998834095,
          2633398.3998834095,
          2668216.6830936703,
          2668216.6830936703,
          2668216.6830936703,
          2668216.6830936703,
          2668216.6830936703,
          3294945.78087837,
          9562236.758725367
         ],
         "yaxis": "y"
        },
        {
         "customdata": [
          [
           "Ulysse Speedometer Pro"
          ],
          [
           "FORD V SERIES CALC - NO LIMIT"
          ],
          [
           "Билеты ПДД CD 2019 PRO"
          ]
         ],
         "hovertemplate": "Category=AUTO_AND_VEHICLES<br>Number of Installs=%{x}<br>Estimated Revenue=%{y}<br>App=%{customdata[0]}<extra></extra>",
         "legendgroup": "AUTO_AND_VEHICLES",
         "marker": {
          "color": "#FF97FF",
          "symbol": "circle"
         },
         "mode": "markers",
         "name": "AUTO_AND_VEHICLES",
         "orientation": "v",
         "showlegend": true,
         "type": "scatter",
         "x": [
          50000,
          50,
          100
         ],
         "xaxis": "x",
         "y": [
          99500,
          499.5,
          149
         ],
         "yaxis": "y"
        },
        {
         "hovertemplate": "<b>OLS trendline</b><br>Revenue = 1.98649 * Min Installs + 175.376<br>R<sup>2</sup>=0.999985<br><br>Category=AUTO_AND_VEHICLES<br>Number of Installs=%{x}<br>Estimated Revenue=%{y} <b>(trend)</b><extra></extra>",
         "legendgroup": "AUTO_AND_VEHICLES",
         "marker": {
          "color": "#FF97FF",
          "symbol": "circle"
         },
         "mode": "lines",
         "name": "AUTO_AND_VEHICLES",
         "showlegend": false,
         "type": "scatter",
         "x": [
          50,
          100,
          50000
         ],
         "xaxis": "x",
         "y": [
          274.7004256757332,
          374.02482439870596,
          99499.77474992549
         ],
         "yaxis": "y"
        },
        {
         "customdata": [
          [
           "Q Alerts: QAnon Drop Notifications, Research +++"
          ],
          [
           "Égalité et Réconciliation"
          ]
         ],
         "hovertemplate": "Category=NEWS_AND_MAGAZINES<br>Number of Installs=%{x}<br>Estimated Revenue=%{y}<br>App=%{customdata[0]}<extra></extra>",
         "legendgroup": "NEWS_AND_MAGAZINES",
         "marker": {
          "color": "#FECB52",
          "symbol": "circle"
         },
         "mode": "markers",
         "name": "NEWS_AND_MAGAZINES",
         "orientation": "v",
         "showlegend": true,
         "type": "scatter",
         "x": [
          5000,
          500
         ],
         "xaxis": "x",
         "y": [
          4950,
          1495
         ],
         "yaxis": "y"
        },
        {
         "hovertemplate": "<b>OLS trendline</b><br>Revenue = 0.767778 * Min Installs + 1111.11<br>R<sup>2</sup>=1.000000<br><br>Category=NEWS_AND_MAGAZINES<br>Number of Installs=%{x}<br>Estimated Revenue=%{y} <b>(trend)</b><extra></extra>",
         "legendgroup": "NEWS_AND_MAGAZINES",
         "marker": {
          "color": "#FECB52",
          "symbol": "circle"
         },
         "mode": "lines",
         "name": "NEWS_AND_MAGAZINES",
         "showlegend": false,
         "type": "scatter",
         "x": [
          500,
          5000
         ],
         "xaxis": "x",
         "y": [
          1494.9999999999995,
          4949.999999999999
         ],
         "yaxis": "y"
        },
        {
         "customdata": [
          [
           "Shopping List S PRO"
          ],
          [
           "Penny Finder"
          ]
         ],
         "hovertemplate": "Category=SHOPPING<br>Number of Installs=%{x}<br>Estimated Revenue=%{y}<br>App=%{customdata[0]}<extra></extra>",
         "legendgroup": "SHOPPING",
         "marker": {
          "color": "#636efa",
          "symbol": "circle"
         },
         "mode": "markers",
         "name": "SHOPPING",
         "orientation": "v",
         "showlegend": true,
         "type": "scatter",
         "x": [
          100,
          10000
         ],
         "xaxis": "x",
         "y": [
          249.00000000000003,
          29900.000000000004
         ],
         "yaxis": "y"
        },
        {
         "hovertemplate": "<b>OLS trendline</b><br>Revenue = 2.99505 * Min Installs + -50.5051<br>R<sup>2</sup>=1.000000<br><br>Category=SHOPPING<br>Number of Installs=%{x}<br>Estimated Revenue=%{y} <b>(trend)</b><extra></extra>",
         "legendgroup": "SHOPPING",
         "marker": {
          "color": "#636efa",
          "symbol": "circle"
         },
         "mode": "lines",
         "name": "SHOPPING",
         "showlegend": false,
         "type": "scatter",
         "x": [
          100,
          10000
         ],
         "xaxis": "x",
         "y": [
          248.99999999999915,
          29900.000000000004
         ],
         "yaxis": "y"
        },
        {
         "customdata": [
          [
           "Don't Panic with Andrew J."
          ],
          [
           "Hey AJ! It's Saturday!"
          ],
          [
           "Al'Quran Bahasa Indonesia PRO"
          ],
          [
           "BC MVA Fines"
          ],
          [
           "17th Edition Cable Sizer"
          ],
          [
           "ch-mm Dict"
          ],
          [
           "CZ-70 (CZ-50) pistol explained"
          ],
          [
           "CZ-52 pistol explained"
          ],
          [
           "CZ-27 pistol explained"
          ],
          [
           "CZ-45 pistol explained"
          ],
          [
           "Pistolet CZ-70 CZ-50 expliqué"
          ],
          [
           "CZ-38 (vz 38) pistol explained"
          ],
          [
           "Reksio cz. 1"
          ],
          [
           "10,000 Quotes DB (Premium)"
          ],
          [
           "Dungeons and Dragons DM Tools"
          ],
          [
           "Cossack Dictionary (DN)"
          ],
          [
           "Officiel du SCRABBLE LAROUSSE"
          ],
          [
           "Schlaumeier"
          ],
          [
           "O Céu e o Inferno"
          ],
          [
           "EU RCD Guide"
          ],
          [
           "FN pistol Model 1906 explained"
          ],
          [
           "FN pistol model 1903 explained"
          ],
          [
           "The FN \"Baby\" pistol explained"
          ],
          [
           "FN FAL rifle explained"
          ],
          [
           "The FN HP pistol explained"
          ],
          [
           "FN model 1900 pistol explained"
          ],
          [
           "Pistolet FN GP35 expliqué"
          ],
          [
           "Pistolet FN 1906 expliqué"
          ]
         ],
         "hovertemplate": "Category=BOOKS_AND_REFERENCE<br>Number of Installs=%{x}<br>Estimated Revenue=%{y}<br>App=%{customdata[0]}<extra></extra>",
         "legendgroup": "BOOKS_AND_REFERENCE",
         "marker": {
          "color": "#EF553B",
          "symbol": "circle"
         },
         "mode": "markers",
         "name": "BOOKS_AND_REFERENCE",
         "orientation": "v",
         "showlegend": true,
         "type": "scatter",
         "x": [
          5000,
          100,
          10000,
          50,
          1000,
          10,
          10,
          10,
          10,
          10,
          1,
          5,
          10,
          500,
          1000,
          10,
          5000,
          5,
          500,
          10,
          10,
          10,
          10,
          10,
          10,
          10,
          5,
          10
         ],
         "xaxis": "x",
         "y": [
          14950.000000000002,
          399,
          44900,
          87.5,
          3080,
          19.6,
          59.900000000000006,
          59.900000000000006,
          59.900000000000006,
          54.900000000000006,
          5.99,
          29.950000000000003,
          9.9,
          495,
          1990,
          29.900000000000002,
          23000,
          4.95,
          495,
          36.1,
          54.900000000000006,
          64.9,
          59.900000000000006,
          64.9,
          64.9,
          64.9,
          29.950000000000003,
          54.900000000000006
         ],
         "yaxis": "y"
        },
        {
         "hovertemplate": "<b>OLS trendline</b><br>Revenue = 4.27679 * Min Installs + -338.959<br>R<sup>2</sup>=0.976957<br><br>Category=BOOKS_AND_REFERENCE<br>Number of Installs=%{x}<br>Estimated Revenue=%{y} <b>(trend)</b><extra></extra>",
         "legendgroup": "BOOKS_AND_REFERENCE",
         "marker": {
          "color": "#EF553B",
          "symbol": "circle"
         },
         "mode": "lines",
         "name": "BOOKS_AND_REFERENCE",
         "showlegend": false,
         "type": "scatter",
         "x": [
          1,
          5,
          5,
          5,
          10,
          10,
          10,
          10,
          10,
          10,
          10,
          10,
          10,
          10,
          10,
          10,
          10,
          10,
          10,
          50,
          100,
          500,
          500,
          1000,
          1000,
          5000,
          5000,
          10000
         ],
         "xaxis": "x",
         "y": [
          -334.68207217779917,
          -317.57492033633946,
          -317.57492033633946,
          -317.57492033633946,
          -296.19098053451484,
          -296.19098053451484,
          -296.19098053451484,
          -296.19098053451484,
          -296.19098053451484,
          -296.19098053451484,
          -296.19098053451484,
          -296.19098053451484,
          -296.19098053451484,
          -296.19098053451484,
          -296.19098053451484,
          -296.19098053451484,
          -296.19098053451484,
          -296.19098053451484,
          -296.19098053451484,
          -125.11946211991778,
          88.71993589832852,
          1799.435120044299,
          1799.435120044299,
          3937.829100226762,
          3937.829100226762,
          21044.980941686463,
          21044.980941686463,
          42428.920743511095
         ],
         "yaxis": "y"
        },
        {
         "customdata": [
          [
           "W-History Standalone"
          ],
          [
           "WhatsFake Pro (Ad free)"
          ],
          [
           "Ak Parti Yardım Toplama"
          ]
         ],
         "hovertemplate": "Category=SOCIAL<br>Number of Installs=%{x}<br>Estimated Revenue=%{y}<br>App=%{customdata[0]}<extra></extra>",
         "legendgroup": "SOCIAL",
         "marker": {
          "color": "#00cc96",
          "symbol": "circle"
         },
         "mode": "markers",
         "name": "SOCIAL",
         "orientation": "v",
         "showlegend": true,
         "type": "scatter",
         "x": [
          1000,
          5000,
          0
         ],
         "xaxis": "x",
         "y": [
          990,
          4950,
          0
         ],
         "yaxis": "y"
        },
        {
         "hovertemplate": "<b>OLS trendline</b><br>Revenue = 0.99 * Min Installs + -1.87378e-13<br>R<sup>2</sup>=1.000000<br><br>Category=SOCIAL<br>Number of Installs=%{x}<br>Estimated Revenue=%{y} <b>(trend)</b><extra></extra>",
         "legendgroup": "SOCIAL",
         "marker": {
          "color": "#00cc96",
          "symbol": "circle"
         },
         "mode": "lines",
         "name": "SOCIAL",
         "showlegend": false,
         "type": "scatter",
         "x": [
          0,
          1000,
          5000
         ],
         "xaxis": "x",
         "y": [
          -1.873778909811108e-13,
          990,
          4950.000000000001
         ],
         "yaxis": "y"
        },
        {
         "customdata": [
          [
           "X Launcher Pro: PhoneX Theme, OS11 Control Center"
          ],
          [
           "X Launcher Pro - IOS Style Theme & Control Center"
          ],
          [
           "X Launcher Prime: With OS Style Theme & No Ads"
          ]
         ],
         "hovertemplate": "Category=ART_AND_DESIGN<br>Number of Installs=%{x}<br>Estimated Revenue=%{y}<br>App=%{customdata[0]}<extra></extra>",
         "legendgroup": "ART_AND_DESIGN",
         "marker": {
          "color": "#ab63fa",
          "symbol": "circle"
         },
         "mode": "markers",
         "name": "ART_AND_DESIGN",
         "orientation": "v",
         "showlegend": true,
         "type": "scatter",
         "x": [
          5000,
          10000,
          1000
         ],
         "xaxis": "x",
         "y": [
          9950,
          19900,
          1990
         ],
         "yaxis": "y"
        },
        {
         "hovertemplate": "<b>OLS trendline</b><br>Revenue = 1.99 * Min Installs + -1.85185e-13<br>R<sup>2</sup>=1.000000<br><br>Category=ART_AND_DESIGN<br>Number of Installs=%{x}<br>Estimated Revenue=%{y} <b>(trend)</b><extra></extra>",
         "legendgroup": "ART_AND_DESIGN",
         "marker": {
          "color": "#ab63fa",
          "symbol": "circle"
         },
         "mode": "lines",
         "name": "ART_AND_DESIGN",
         "showlegend": false,
         "type": "scatter",
         "x": [
          1000,
          5000,
          10000
         ],
         "xaxis": "x",
         "y": [
          1990,
          9950.000000000002,
          19900.000000000004
         ],
         "yaxis": "y"
        },
        {
         "customdata": [
          [
           "Flud (Ad free)"
          ],
          [
           "tTorrent - ad free"
          ],
          [
           "BSPlayer"
          ],
          [
           "Online TV CZ/SK PRO"
          ]
         ],
         "hovertemplate": "Category=VIDEO_PLAYERS<br>Number of Installs=%{x}<br>Estimated Revenue=%{y}<br>App=%{customdata[0]}<extra></extra>",
         "legendgroup": "VIDEO_PLAYERS",
         "marker": {
          "color": "#FFA15A",
          "symbol": "circle"
         },
         "mode": "markers",
         "name": "VIDEO_PLAYERS",
         "orientation": "v",
         "showlegend": true,
         "type": "scatter",
         "x": [
          10000,
          10000,
          50000,
          1000
         ],
         "xaxis": "x",
         "y": [
          14900,
          19900,
          299500,
          990
         ],
         "yaxis": "y"
        },
        {
         "hovertemplate": "<b>OLS trendline</b><br>Revenue = 6.50536 * Min Installs + -31647.6<br>R<sup>2</sup>=0.980031<br><br>Category=VIDEO_PLAYERS<br>Number of Installs=%{x}<br>Estimated Revenue=%{y} <b>(trend)</b><extra></extra>",
         "legendgroup": "VIDEO_PLAYERS",
         "marker": {
          "color": "#FFA15A",
          "symbol": "circle"
         },
         "mode": "lines",
         "name": "VIDEO_PLAYERS",
         "showlegend": false,
         "type": "scatter",
         "x": [
          1000,
          10000,
          10000,
          50000
         ],
         "xaxis": "x",
         "y": [
          -25142.22280062465,
          33405.98646538265,
          33405.98646538265,
          293620.24986985954
         ],
         "yaxis": "y"
        },
        {
         "customdata": [
          [
           "I Am Rich Premium"
          ],
          [
           "I am Rich!"
          ],
          [
           "I am rich(premium)"
          ],
          [
           "I am Rich Premium Plus"
          ],
          [
           "I am rich (Most expensive app)"
          ],
          [
           "I am Rich"
          ],
          [
           "I AM RICH PRO PLUS"
          ],
          [
           "Ba Financial Calculator plus"
          ],
          [
           "Financial Calculator BA Chien."
          ],
          [
           "BA Pro Financial Calculator"
          ],
          [
           "My Budget Book"
          ],
          [
           "Bitcoin BX Thailand PRO"
          ],
          [
           "amm dz"
          ],
          [
           "Dz kayas"
          ],
          [
           "Eu sou Rico"
          ],
          [
           "Eu Sou Rico"
          ],
          [
           "Ray Financial Calculator Pro"
          ]
         ],
         "hovertemplate": "Category=FINANCE<br>Number of Installs=%{x}<br>Estimated Revenue=%{y}<br>App=%{customdata[0]}<extra></extra>",
         "legendgroup": "FINANCE",
         "marker": {
          "color": "#19d3f3",
          "symbol": "circle"
         },
         "mode": "markers",
         "name": "FINANCE",
         "orientation": "v",
         "showlegend": true,
         "type": "scatter",
         "x": [
          50000,
          1000,
          5000,
          10000,
          1000,
          5000,
          1000,
          1000,
          500,
          1000,
          100000,
          100,
          1,
          1,
          0,
          0,
          10000
         ],
         "xaxis": "x",
         "y": [
          19999500,
          399990,
          1999950,
          189899.99999999997,
          399990,
          1999950,
          399990,
          3990,
          1995,
          1990,
          299000,
          499,
          5.99,
          28.99,
          0,
          0,
          29900.000000000004
         ],
         "yaxis": "y"
        },
        {
         "hovertemplate": "<b>OLS trendline</b><br>Revenue = 71.9926 * Min Installs + 727336<br>R<sup>2</sup>=0.150431<br><br>Category=FINANCE<br>Number of Installs=%{x}<br>Estimated Revenue=%{y} <b>(trend)</b><extra></extra>",
         "legendgroup": "FINANCE",
         "marker": {
          "color": "#19d3f3",
          "symbol": "circle"
         },
         "mode": "lines",
         "name": "FINANCE",
         "showlegend": false,
         "type": "scatter",
         "x": [
          0,
          0,
          1,
          1,
          100,
          500,
          1000,
          1000,
          1000,
          1000,
          1000,
          5000,
          5000,
          10000,
          10000,
          50000,
          100000
         ],
         "xaxis": "x",
         "y": [
          727335.5980906676,
          727335.5980906676,
          727407.5907082713,
          727407.5907082713,
          734534.859851025,
          763331.906892455,
          799328.2156942423,
          799328.2156942423,
          799328.2156942423,
          799328.2156942423,
          799328.2156942423,
          1087298.6861085407,
          1087298.6861085407,
          1447261.7741264137,
          1447261.7741264137,
          4326966.478269398,
          7926597.358448129
         ],
         "yaxis": "y"
        },
        {
         "customdata": [
          [
           "BringGo AU & NZ"
          ],
          [
           "BackCountry Navigator TOPO GPS PRO"
          ],
          [
           "CE Map - Interactive Conan Exiles Map"
          ],
          [
           "Paris ci la Sortie du Métro"
          ],
          [
           "Jeppesen CR Flight Computer"
          ]
         ],
         "hovertemplate": "Category=MAPS_AND_NAVIGATION<br>Number of Installs=%{x}<br>Estimated Revenue=%{y}<br>App=%{customdata[0]}<extra></extra>",
         "legendgroup": "MAPS_AND_NAVIGATION",
         "marker": {
          "color": "#FF6692",
          "symbol": "circle"
         },
         "mode": "markers",
         "name": "MAPS_AND_NAVIGATION",
         "orientation": "v",
         "showlegend": true,
         "type": "scatter",
         "x": [
          10000,
          100000,
          1000,
          10000,
          100
         ],
         "xaxis": "x",
         "y": [
          9900,
          1199000,
          990,
          29900.000000000004,
          999
         ],
         "yaxis": "y"
        },
        {
         "hovertemplate": "<b>OLS trendline</b><br>Revenue = 12.4171 * Min Installs + -52584.7<br>R<sup>2</sup>=0.991090<br><br>Category=MAPS_AND_NAVIGATION<br>Number of Installs=%{x}<br>Estimated Revenue=%{y} <b>(trend)</b><extra></extra>",
         "legendgroup": "MAPS_AND_NAVIGATION",
         "marker": {
          "color": "#FF6692",
          "symbol": "circle"
         },
         "mode": "lines",
         "name": "MAPS_AND_NAVIGATION",
         "showlegend": false,
         "type": "scatter",
         "x": [
          100,
          1000,
          10000,
          10000,
          100000
         ],
         "xaxis": "x",
         "y": [
          -51342.96683309561,
          -40167.56508559204,
          71586.45238944366,
          71586.45238944366,
          1189126.6271398005
         ],
         "yaxis": "y"
        },
        {
         "customdata": [
          [
           "Baby Connect (activity log)"
          ],
          [
           "SharedCare™ Co-parenting"
          ]
         ],
         "hovertemplate": "Category=PARENTING<br>Number of Installs=%{x}<br>Estimated Revenue=%{y}<br>App=%{customdata[0]}<extra></extra>",
         "legendgroup": "PARENTING",
         "marker": {
          "color": "#B6E880",
          "symbol": "circle"
         },
         "mode": "markers",
         "name": "PARENTING",
         "orientation": "v",
         "showlegend": true,
         "type": "scatter",
         "x": [
          50000,
          100
         ],
         "xaxis": "x",
         "y": [
          249500,
          459
         ],
         "yaxis": "y"
        },
        {
         "hovertemplate": "<b>OLS trendline</b><br>Revenue = 4.9908 * Min Installs + -40.0802<br>R<sup>2</sup>=1.000000<br><br>Category=PARENTING<br>Number of Installs=%{x}<br>Estimated Revenue=%{y} <b>(trend)</b><extra></extra>",
         "legendgroup": "PARENTING",
         "marker": {
          "color": "#B6E880",
          "symbol": "circle"
         },
         "mode": "lines",
         "name": "PARENTING",
         "showlegend": false,
         "type": "scatter",
         "x": [
          100,
          50000
         ],
         "xaxis": "x",
         "y": [
          458.99999999998806,
          249500.0000000001
         ],
         "yaxis": "y"
        },
        {
         "customdata": [
          [
           "Socle Commun BO du 23-04-2015"
          ]
         ],
         "hovertemplate": "Category=LIBRARIES_AND_DEMO<br>Number of Installs=%{x}<br>Estimated Revenue=%{y}<br>App=%{customdata[0]}<extra></extra>",
         "legendgroup": "LIBRARIES_AND_DEMO",
         "marker": {
          "color": "#FF97FF",
          "symbol": "circle"
         },
         "mode": "markers",
         "name": "LIBRARIES_AND_DEMO",
         "orientation": "v",
         "showlegend": true,
         "type": "scatter",
         "x": [
          100
         ],
         "xaxis": "x",
         "y": [
          99
         ],
         "yaxis": "y"
        },
        {
         "hovertemplate": "Category=LIBRARIES_AND_DEMO<extra></extra>",
         "legendgroup": "LIBRARIES_AND_DEMO",
         "marker": {
          "color": "#FF97FF",
          "symbol": "circle"
         },
         "mode": "lines",
         "name": "LIBRARIES_AND_DEMO",
         "showlegend": false,
         "type": "scatter",
         "xaxis": "x",
         "yaxis": "y"
        },
        {
         "customdata": [
          [
           "BP Fitness Lead Scanner"
          ]
         ],
         "hovertemplate": "Category=EVENTS<br>Number of Installs=%{x}<br>Estimated Revenue=%{y}<br>App=%{customdata[0]}<extra></extra>",
         "legendgroup": "EVENTS",
         "marker": {
          "color": "#FECB52",
          "symbol": "circle"
         },
         "mode": "markers",
         "name": "EVENTS",
         "orientation": "v",
         "showlegend": true,
         "type": "scatter",
         "x": [
          1
         ],
         "xaxis": "x",
         "y": [
          109.99
         ],
         "yaxis": "y"
        },
        {
         "hovertemplate": "Category=EVENTS<extra></extra>",
         "legendgroup": "EVENTS",
         "marker": {
          "color": "#FECB52",
          "symbol": "circle"
         },
         "mode": "lines",
         "name": "EVENTS",
         "showlegend": false,
         "type": "scatter",
         "xaxis": "x",
         "yaxis": "y"
        }
       ],
       "layout": {
        "legend": {
         "title": {
          "text": "Category"
         },
         "tracegroupgap": 0
        },
        "template": {
         "data": {
          "bar": [
           {
            "error_x": {
             "color": "#2a3f5f"
            },
            "error_y": {
             "color": "#2a3f5f"
            },
            "marker": {
             "line": {
              "color": "#E5ECF6",
              "width": 0.5
             },
             "pattern": {
              "fillmode": "overlay",
              "size": 10,
              "solidity": 0.2
             }
            },
            "type": "bar"
           }
          ],
          "barpolar": [
           {
            "marker": {
             "line": {
              "color": "#E5ECF6",
              "width": 0.5
             },
             "pattern": {
              "fillmode": "overlay",
              "size": 10,
              "solidity": 0.2
             }
            },
            "type": "barpolar"
           }
          ],
          "carpet": [
           {
            "aaxis": {
             "endlinecolor": "#2a3f5f",
             "gridcolor": "white",
             "linecolor": "white",
             "minorgridcolor": "white",
             "startlinecolor": "#2a3f5f"
            },
            "baxis": {
             "endlinecolor": "#2a3f5f",
             "gridcolor": "white",
             "linecolor": "white",
             "minorgridcolor": "white",
             "startlinecolor": "#2a3f5f"
            },
            "type": "carpet"
           }
          ],
          "choropleth": [
           {
            "colorbar": {
             "outlinewidth": 0,
             "ticks": ""
            },
            "type": "choropleth"
           }
          ],
          "contour": [
           {
            "colorbar": {
             "outlinewidth": 0,
             "ticks": ""
            },
            "colorscale": [
             [
              0,
              "#0d0887"
             ],
             [
              0.1111111111111111,
              "#46039f"
             ],
             [
              0.2222222222222222,
              "#7201a8"
             ],
             [
              0.3333333333333333,
              "#9c179e"
             ],
             [
              0.4444444444444444,
              "#bd3786"
             ],
             [
              0.5555555555555556,
              "#d8576b"
             ],
             [
              0.6666666666666666,
              "#ed7953"
             ],
             [
              0.7777777777777778,
              "#fb9f3a"
             ],
             [
              0.8888888888888888,
              "#fdca26"
             ],
             [
              1,
              "#f0f921"
             ]
            ],
            "type": "contour"
           }
          ],
          "contourcarpet": [
           {
            "colorbar": {
             "outlinewidth": 0,
             "ticks": ""
            },
            "type": "contourcarpet"
           }
          ],
          "heatmap": [
           {
            "colorbar": {
             "outlinewidth": 0,
             "ticks": ""
            },
            "colorscale": [
             [
              0,
              "#0d0887"
             ],
             [
              0.1111111111111111,
              "#46039f"
             ],
             [
              0.2222222222222222,
              "#7201a8"
             ],
             [
              0.3333333333333333,
              "#9c179e"
             ],
             [
              0.4444444444444444,
              "#bd3786"
             ],
             [
              0.5555555555555556,
              "#d8576b"
             ],
             [
              0.6666666666666666,
              "#ed7953"
             ],
             [
              0.7777777777777778,
              "#fb9f3a"
             ],
             [
              0.8888888888888888,
              "#fdca26"
             ],
             [
              1,
              "#f0f921"
             ]
            ],
            "type": "heatmap"
           }
          ],
          "heatmapgl": [
           {
            "colorbar": {
             "outlinewidth": 0,
             "ticks": ""
            },
            "colorscale": [
             [
              0,
              "#0d0887"
             ],
             [
              0.1111111111111111,
              "#46039f"
             ],
             [
              0.2222222222222222,
              "#7201a8"
             ],
             [
              0.3333333333333333,
              "#9c179e"
             ],
             [
              0.4444444444444444,
              "#bd3786"
             ],
             [
              0.5555555555555556,
              "#d8576b"
             ],
             [
              0.6666666666666666,
              "#ed7953"
             ],
             [
              0.7777777777777778,
              "#fb9f3a"
             ],
             [
              0.8888888888888888,
              "#fdca26"
             ],
             [
              1,
              "#f0f921"
             ]
            ],
            "type": "heatmapgl"
           }
          ],
          "histogram": [
           {
            "marker": {
             "pattern": {
              "fillmode": "overlay",
              "size": 10,
              "solidity": 0.2
             }
            },
            "type": "histogram"
           }
          ],
          "histogram2d": [
           {
            "colorbar": {
             "outlinewidth": 0,
             "ticks": ""
            },
            "colorscale": [
             [
              0,
              "#0d0887"
             ],
             [
              0.1111111111111111,
              "#46039f"
             ],
             [
              0.2222222222222222,
              "#7201a8"
             ],
             [
              0.3333333333333333,
              "#9c179e"
             ],
             [
              0.4444444444444444,
              "#bd3786"
             ],
             [
              0.5555555555555556,
              "#d8576b"
             ],
             [
              0.6666666666666666,
              "#ed7953"
             ],
             [
              0.7777777777777778,
              "#fb9f3a"
             ],
             [
              0.8888888888888888,
              "#fdca26"
             ],
             [
              1,
              "#f0f921"
             ]
            ],
            "type": "histogram2d"
           }
          ],
          "histogram2dcontour": [
           {
            "colorbar": {
             "outlinewidth": 0,
             "ticks": ""
            },
            "colorscale": [
             [
              0,
              "#0d0887"
             ],
             [
              0.1111111111111111,
              "#46039f"
             ],
             [
              0.2222222222222222,
              "#7201a8"
             ],
             [
              0.3333333333333333,
              "#9c179e"
             ],
             [
              0.4444444444444444,
              "#bd3786"
             ],
             [
              0.5555555555555556,
              "#d8576b"
             ],
             [
              0.6666666666666666,
              "#ed7953"
             ],
             [
              0.7777777777777778,
              "#fb9f3a"
             ],
             [
              0.8888888888888888,
              "#fdca26"
             ],
             [
              1,
              "#f0f921"
             ]
            ],
            "type": "histogram2dcontour"
           }
          ],
          "mesh3d": [
           {
            "colorbar": {
             "outlinewidth": 0,
             "ticks": ""
            },
            "type": "mesh3d"
           }
          ],
          "parcoords": [
           {
            "line": {
             "colorbar": {
              "outlinewidth": 0,
              "ticks": ""
             }
            },
            "type": "parcoords"
           }
          ],
          "pie": [
           {
            "automargin": true,
            "type": "pie"
           }
          ],
          "scatter": [
           {
            "fillpattern": {
             "fillmode": "overlay",
             "size": 10,
             "solidity": 0.2
            },
            "type": "scatter"
           }
          ],
          "scatter3d": [
           {
            "line": {
             "colorbar": {
              "outlinewidth": 0,
              "ticks": ""
             }
            },
            "marker": {
             "colorbar": {
              "outlinewidth": 0,
              "ticks": ""
             }
            },
            "type": "scatter3d"
           }
          ],
          "scattercarpet": [
           {
            "marker": {
             "colorbar": {
              "outlinewidth": 0,
              "ticks": ""
             }
            },
            "type": "scattercarpet"
           }
          ],
          "scattergeo": [
           {
            "marker": {
             "colorbar": {
              "outlinewidth": 0,
              "ticks": ""
             }
            },
            "type": "scattergeo"
           }
          ],
          "scattergl": [
           {
            "marker": {
             "colorbar": {
              "outlinewidth": 0,
              "ticks": ""
             }
            },
            "type": "scattergl"
           }
          ],
          "scattermapbox": [
           {
            "marker": {
             "colorbar": {
              "outlinewidth": 0,
              "ticks": ""
             }
            },
            "type": "scattermapbox"
           }
          ],
          "scatterpolar": [
           {
            "marker": {
             "colorbar": {
              "outlinewidth": 0,
              "ticks": ""
             }
            },
            "type": "scatterpolar"
           }
          ],
          "scatterpolargl": [
           {
            "marker": {
             "colorbar": {
              "outlinewidth": 0,
              "ticks": ""
             }
            },
            "type": "scatterpolargl"
           }
          ],
          "scatterternary": [
           {
            "marker": {
             "colorbar": {
              "outlinewidth": 0,
              "ticks": ""
             }
            },
            "type": "scatterternary"
           }
          ],
          "surface": [
           {
            "colorbar": {
             "outlinewidth": 0,
             "ticks": ""
            },
            "colorscale": [
             [
              0,
              "#0d0887"
             ],
             [
              0.1111111111111111,
              "#46039f"
             ],
             [
              0.2222222222222222,
              "#7201a8"
             ],
             [
              0.3333333333333333,
              "#9c179e"
             ],
             [
              0.4444444444444444,
              "#bd3786"
             ],
             [
              0.5555555555555556,
              "#d8576b"
             ],
             [
              0.6666666666666666,
              "#ed7953"
             ],
             [
              0.7777777777777778,
              "#fb9f3a"
             ],
             [
              0.8888888888888888,
              "#fdca26"
             ],
             [
              1,
              "#f0f921"
             ]
            ],
            "type": "surface"
           }
          ],
          "table": [
           {
            "cells": {
             "fill": {
              "color": "#EBF0F8"
             },
             "line": {
              "color": "white"
             }
            },
            "header": {
             "fill": {
              "color": "#C8D4E3"
             },
             "line": {
              "color": "white"
             }
            },
            "type": "table"
           }
          ]
         },
         "layout": {
          "annotationdefaults": {
           "arrowcolor": "#2a3f5f",
           "arrowhead": 0,
           "arrowwidth": 1
          },
          "autotypenumbers": "strict",
          "coloraxis": {
           "colorbar": {
            "outlinewidth": 0,
            "ticks": ""
           }
          },
          "colorscale": {
           "diverging": [
            [
             0,
             "#8e0152"
            ],
            [
             0.1,
             "#c51b7d"
            ],
            [
             0.2,
             "#de77ae"
            ],
            [
             0.3,
             "#f1b6da"
            ],
            [
             0.4,
             "#fde0ef"
            ],
            [
             0.5,
             "#f7f7f7"
            ],
            [
             0.6,
             "#e6f5d0"
            ],
            [
             0.7,
             "#b8e186"
            ],
            [
             0.8,
             "#7fbc41"
            ],
            [
             0.9,
             "#4d9221"
            ],
            [
             1,
             "#276419"
            ]
           ],
           "sequential": [
            [
             0,
             "#0d0887"
            ],
            [
             0.1111111111111111,
             "#46039f"
            ],
            [
             0.2222222222222222,
             "#7201a8"
            ],
            [
             0.3333333333333333,
             "#9c179e"
            ],
            [
             0.4444444444444444,
             "#bd3786"
            ],
            [
             0.5555555555555556,
             "#d8576b"
            ],
            [
             0.6666666666666666,
             "#ed7953"
            ],
            [
             0.7777777777777778,
             "#fb9f3a"
            ],
            [
             0.8888888888888888,
             "#fdca26"
            ],
            [
             1,
             "#f0f921"
            ]
           ],
           "sequentialminus": [
            [
             0,
             "#0d0887"
            ],
            [
             0.1111111111111111,
             "#46039f"
            ],
            [
             0.2222222222222222,
             "#7201a8"
            ],
            [
             0.3333333333333333,
             "#9c179e"
            ],
            [
             0.4444444444444444,
             "#bd3786"
            ],
            [
             0.5555555555555556,
             "#d8576b"
            ],
            [
             0.6666666666666666,
             "#ed7953"
            ],
            [
             0.7777777777777778,
             "#fb9f3a"
            ],
            [
             0.8888888888888888,
             "#fdca26"
            ],
            [
             1,
             "#f0f921"
            ]
           ]
          },
          "colorway": [
           "#636efa",
           "#EF553B",
           "#00cc96",
           "#ab63fa",
           "#FFA15A",
           "#19d3f3",
           "#FF6692",
           "#B6E880",
           "#FF97FF",
           "#FECB52"
          ],
          "font": {
           "color": "#2a3f5f"
          },
          "geo": {
           "bgcolor": "white",
           "lakecolor": "white",
           "landcolor": "#E5ECF6",
           "showlakes": true,
           "showland": true,
           "subunitcolor": "white"
          },
          "hoverlabel": {
           "align": "left"
          },
          "hovermode": "closest",
          "mapbox": {
           "style": "light"
          },
          "paper_bgcolor": "white",
          "plot_bgcolor": "#E5ECF6",
          "polar": {
           "angularaxis": {
            "gridcolor": "white",
            "linecolor": "white",
            "ticks": ""
           },
           "bgcolor": "#E5ECF6",
           "radialaxis": {
            "gridcolor": "white",
            "linecolor": "white",
            "ticks": ""
           }
          },
          "scene": {
           "xaxis": {
            "backgroundcolor": "#E5ECF6",
            "gridcolor": "white",
            "gridwidth": 2,
            "linecolor": "white",
            "showbackground": true,
            "ticks": "",
            "zerolinecolor": "white"
           },
           "yaxis": {
            "backgroundcolor": "#E5ECF6",
            "gridcolor": "white",
            "gridwidth": 2,
            "linecolor": "white",
            "showbackground": true,
            "ticks": "",
            "zerolinecolor": "white"
           },
           "zaxis": {
            "backgroundcolor": "#E5ECF6",
            "gridcolor": "white",
            "gridwidth": 2,
            "linecolor": "white",
            "showbackground": true,
            "ticks": "",
            "zerolinecolor": "white"
           }
          },
          "shapedefaults": {
           "line": {
            "color": "#2a3f5f"
           }
          },
          "ternary": {
           "aaxis": {
            "gridcolor": "white",
            "linecolor": "white",
            "ticks": ""
           },
           "baxis": {
            "gridcolor": "white",
            "linecolor": "white",
            "ticks": ""
           },
           "bgcolor": "#E5ECF6",
           "caxis": {
            "gridcolor": "white",
            "linecolor": "white",
            "ticks": ""
           }
          },
          "title": {
           "x": 0.05
          },
          "xaxis": {
           "automargin": true,
           "gridcolor": "white",
           "linecolor": "white",
           "ticks": "",
           "title": {
            "standoff": 15
           },
           "zerolinecolor": "white",
           "zerolinewidth": 2
          },
          "yaxis": {
           "automargin": true,
           "gridcolor": "white",
           "linecolor": "white",
           "ticks": "",
           "title": {
            "standoff": 15
           },
           "zerolinecolor": "white",
           "zerolinewidth": 2
          }
         }
        },
        "title": {
         "text": "Revenue vs. Installs for Paid Apps"
        },
        "xaxis": {
         "anchor": "y",
         "domain": [
          0,
          1
         ],
         "title": {
          "text": "Number of Installs"
         }
        },
        "yaxis": {
         "anchor": "x",
         "domain": [
          0,
          1
         ],
         "title": {
          "text": "Estimated Revenue"
         }
        }
       }
      },
      "image/png": "[encoded data removed]",
      "text/html": [
       "<div>                            <div id=\"99ea1279-1137-42b6-8e4f-e50198efba58\" class=\"plotly-graph-div\" style=\"height:525px; width:100%;\"></div>            <script type=\"text/javascript\">                require([\"plotly\"], function(Plotly) {                    window.PLOTLYENV=window.PLOTLYENV || {};                                    if (document.getElementById(\"99ea1279-1137-42b6-8e4f-e50198efba58\")) {                    Plotly.newPlot(                        \"99ea1279-1137-42b6-8e4f-e50198efba58\",                        [{\"customdata\":[[\"TurboScan: scan documents and receipts in PDF\"],[\"Tiny Scanner Pro: PDF Doc Scan\"],[\"TurboScan: scan documents and receipts in PDF\"],[\"Tiny Scanner Pro: PDF Doc Scan\"],[\"AW Toolbox\"],[\"Bk Bee Sales Manager\"],[\"SkyTest BU\\u002fGU Lite\"],[\"BZ Reminder PRO\"],[\"CM FILE MANAGER Pro\"],[\"Super Resume Builder Pro, CV\"],[\"DG Surveyor\"],[\"The DG Buddy\"],[\"DS Helpdesk Plus\"],[\"Lean EQ\"]],\"hovertemplate\":\"Category=BUSINESS\\u003cbr\\u003eNumber of Installs=%{x}\\u003cbr\\u003eEstimated Revenue=%{y}\\u003cbr\\u003eApp=%{customdata[0]}\\u003cextra\\u003e\\u003c\\u002fextra\\u003e\",\"legendgroup\":\"BUSINESS\",\"marker\":{\"color\":\"#636efa\",\"symbol\":\"circle\"},\"mode\":\"markers\",\"name\":\"BUSINESS\",\"orientation\":\"v\",\"showlegend\":true,\"x\":[100000.0,100000.0,100000.0,100000.0,100.0,5.0,500.0,1000.0,10000.0,1000.0,50.0,10.0,100.0,10.0],\"xaxis\":\"x\",\"y\":[499000.0,499000.0,499000.0,499000.0,1989.9999999999998,4.95,8995.0,3990.0,29900.000000000004,4990.0,449.5,24.900000000000002,1299.0,899.9],\"yaxis\":\"y\",\"type\":\"scatter\"},{\"hovertemplate\":\"\\u003cb\\u003eOLS trendline\\u003c\\u002fb\\u003e\\u003cbr\\u003eRevenue = 4.99476 * Min Installs + -940.501\\u003cbr\\u003eR\\u003csup\\u003e2\\u003c\\u002fsup\\u003e=0.999373\\u003cbr\\u003e\\u003cbr\\u003eCategory=BUSINESS\\u003cbr\\u003eNumber of Installs=%{x}\\u003cbr\\u003eEstimated Revenue=%{y} \\u003cb\\u003e(trend)\\u003c\\u002fb\\u003e\\u003cextra\\u003e\\u003c\\u002fextra\\u003e\",\"legendgroup\":\"BUSINESS\",\"marker\":{\"color\":\"#636efa\",\"symbol\":\"circle\"},\"mode\":\"lines\",\"name\":\"BUSINESS\",\"showlegend\":false,\"x\":[5.0,10.0,10.0,50.0,100.0,100.0,500.0,1000.0,1000.0,10000.0,100000.0,100000.0,100000.0,100000.0],\"xaxis\":\"x\",\"y\":[-915.5273499631548,-890.5535716844875,-890.5535716844875,-690.7633454551485,-441.02556266847466,-441.02556266847466,1556.8766996249155,4054.2545274916533,4054.2545274916533,49007.05542909294,498535.0644451058,498535.0644451058,498535.0644451058,498535.0644451058],\"yaxis\":\"y\",\"type\":\"scatter\"},{\"customdata\":[[\"Puffin Browser Pro\"],[\"Deaf - Hearing chat device H\"],[\"J Alvarej Moji\"],[\"K-@ Mail Pro - Email App\"],[\"pretty Easy privacy p\\u2261p\"],[\"Z PIVOT\"],[\"AG Contacts, Premium edition\"],[\"Threema\"],[\"FREE CHATS C.L.\"],[\"10 WPM Amateur ham radio CW Morse code trainer\"],[\"CV-RECORD Pro\"],[\"2 Amateur ham radio CW Morse code practice keys TX\"],[\"CW Beacon for Ham Radio\"],[\"Morse Decoder for Ham Radio\"],[\"CW Studio \\u00ae\"],[\"20WPM Amateur ham radio Koch CW Morse code trainer\"],[\"Morse Trainer for Ham Radio\"],[\"Morse Machine for Ham Radio\"],[\"CW Ringtone (Morse Code generator)\"],[\"Koch Morse Trainer Pro\"],[\"iCluster - The DX-Cluster database\"],[\"WiFi Tether Router\"],[\"Remote EX for NISSAN\"],[\"ExDialer PRO Key\"],[\"Smart Wi-Fi Hotspot PRO\"],[\"Portable Wi-Fi hotspot Premium\"],[\"Talkie Pro - Wi-Fi Calling, Chats, File Sharing\"]],\"hovertemplate\":\"Category=COMMUNICATION\\u003cbr\\u003eNumber of Installs=%{x}\\u003cbr\\u003eEstimated Revenue=%{y}\\u003cbr\\u003eApp=%{customdata[0]}\\u003cextra\\u003e\\u003c\\u002fextra\\u003e\",\"legendgroup\":\"COMMUNICATION\",\"marker\":{\"color\":\"#EF553B\",\"symbol\":\"circle\"},\"mode\":\"markers\",\"name\":\"COMMUNICATION\",\"orientation\":\"v\",\"showlegend\":true,\"x\":[100000.0,500.0,10.0,10000.0,500.0,10.0,500.0,1000000.0,10.0,100.0,1000.0,100.0,100.0,5000.0,100.0,100.0,10000.0,5000.0,10.0,1000.0,10.0,100000.0,5000.0,100000.0,10000.0,10000.0,1000.0],\"xaxis\":\"x\",\"y\":[399000.0,1995.0,19.9,49900.0,495.0,199.89999999999998,2495.0,2990000.0,9.9,149.0,990.0,149.0,149.0,24950.0,99.0,149.0,29900.000000000004,4950.0,24.900000000000002,2490.0,9.9,290000.0,7450.0,399000.0,29900.000000000004,9900.0,2990.0],\"yaxis\":\"y\",\"type\":\"scatter\"},{\"hovertemplate\":\"\\u003cb\\u003eOLS trendline\\u003c\\u002fb\\u003e\\u003cbr\\u003eRevenue = 3.00035 * Min Installs + 6175.72\\u003cbr\\u003eR\\u003csup\\u003e2\\u003c\\u002fsup\\u003e=0.997715\\u003cbr\\u003e\\u003cbr\\u003eCategory=COMMUNICATION\\u003cbr\\u003eNumber of Installs=%{x}\\u003cbr\\u003eEstimated Revenue=%{y} \\u003cb\\u003e(trend)\\u003c\\u002fb\\u003e\\u003cextra\\u003e\\u003c\\u002fextra\\u003e\",\"legendgroup\":\"COMMUNICATION\",\"marker\":{\"color\":\"#EF553B\",\"symbol\":\"circle\"},\"mode\":\"lines\",\"name\":\"COMMUNICATION\",\"showlegend\":false,\"x\":[10.0,10.0,10.0,10.0,10.0,100.0,100.0,100.0,100.0,100.0,500.0,500.0,500.0,1000.0,1000.0,1000.0,5000.0,5000.0,5000.0,10000.0,10000.0,10000.0,10000.0,100000.0,100000.0,100000.0,1000000.0],\"xaxis\":\"x\",\"y\":[6205.726521978906,6205.726521978906,6205.726521978906,6205.726521978906,6205.726521978906,6475.757622268357,6475.757622268357,6475.757622268357,6475.757622268357,6475.757622268357,7675.895845777033,7675.895845777033,7675.895845777033,9176.06862516288,9176.06862516288,9176.06862516288,21177.45086024964,21177.45086024964,21177.45086024964,36179.17865410809,36179.17865410809,36179.17865410809,36179.17865410809,306210.2789435602,306210.2789435602,306210.2789435602,3006521.281838081],\"yaxis\":\"y\",\"type\":\"scatter\"},{\"customdata\":[[\"Moco+ - Chat, Meet People\"],[\"Calculator\"],[\"Truth or Dare Pro\"],[\"Private Dating, Hide App- Blue for PrivacyHider\"],[\"Ad Blocker for SayHi\"],[\"AMBW Dating App: Asian Men Black Women Interracial\"],[\"Moco+ - Chat, Meet People\"]],\"hovertemplate\":\"Category=DATING\\u003cbr\\u003eNumber of Installs=%{x}\\u003cbr\\u003eEstimated Revenue=%{y}\\u003cbr\\u003eApp=%{customdata[0]}\\u003cextra\\u003e\\u003c\\u002fextra\\u003e\",\"legendgroup\":\"DATING\",\"marker\":{\"color\":\"#00cc96\",\"symbol\":\"circle\"},\"mode\":\"markers\",\"name\":\"DATING\",\"orientation\":\"v\",\"showlegend\":true,\"x\":[10000.0,1000.0,50.0,100.0,100.0,100.0,10000.0],\"xaxis\":\"x\",\"y\":[39900.0,6990.0,74.5,299.0,399.0,799.0,39900.0],\"yaxis\":\"y\",\"type\":\"scatter\"},{\"hovertemplate\":\"\\u003cb\\u003eOLS trendline\\u003c\\u002fb\\u003e\\u003cbr\\u003eRevenue = 3.941 * Min Installs + 603.025\\u003cbr\\u003eR\\u003csup\\u003e2\\u003c\\u002fsup\\u003e=0.996498\\u003cbr\\u003e\\u003cbr\\u003eCategory=DATING\\u003cbr\\u003eNumber of Installs=%{x}\\u003cbr\\u003eEstimated Revenue=%{y} \\u003cb\\u003e(trend)\\u003c\\u002fb\\u003e\\u003cextra\\u003e\\u003c\\u002fextra\\u003e\",\"legendgroup\":\"DATING\",\"marker\":{\"color\":\"#00cc96\",\"symbol\":\"circle\"},\"mode\":\"lines\",\"name\":\"DATING\",\"showlegend\":false,\"x\":[50.0,100.0,100.0,100.0,1000.0,10000.0,10000.0],\"xaxis\":\"x\",\"y\":[800.0750705535484,997.1250098538464,997.1250098538464,997.1250098538464,4544.023917259213,40013.01299131287,40013.01299131287],\"yaxis\":\"y\",\"type\":\"scatter\"},{\"customdata\":[[\"Sago Mini Hat Maker\"],[\"Fuzzy Numbers: Pre-K Number Foundation\"],[\"Toca Life: City\"],[\"Toca Life: Hospital\"]],\"hovertemplate\":\"Category=EDUCATION\\u003cbr\\u003eNumber of Installs=%{x}\\u003cbr\\u003eEstimated Revenue=%{y}\\u003cbr\\u003eApp=%{customdata[0]}\\u003cextra\\u003e\\u003c\\u002fextra\\u003e\",\"legendgroup\":\"EDUCATION\",\"marker\":{\"color\":\"#ab63fa\",\"symbol\":\"circle\"},\"mode\":\"markers\",\"name\":\"EDUCATION\",\"orientation\":\"v\",\"showlegend\":true,\"x\":[1000.0,1000.0,500000.0,100000.0],\"xaxis\":\"x\",\"y\":[3990.0,5990.0,1995000.0,399000.0],\"yaxis\":\"y\",\"type\":\"scatter\"},{\"hovertemplate\":\"\\u003cb\\u003eOLS trendline\\u003c\\u002fb\\u003e\\u003cbr\\u003eRevenue = 3.98823 * Min Installs + 765.639\\u003cbr\\u003eR\\u003csup\\u003e2\\u003c\\u002fsup\\u003e=0.999999\\u003cbr\\u003e\\u003cbr\\u003eCategory=EDUCATION\\u003cbr\\u003eNumber of Installs=%{x}\\u003cbr\\u003eEstimated Revenue=%{y} \\u003cb\\u003e(trend)\\u003c\\u002fb\\u003e\\u003cextra\\u003e\\u003c\\u002fextra\\u003e\",\"legendgroup\":\"EDUCATION\",\"marker\":{\"color\":\"#ab63fa\",\"symbol\":\"circle\"},\"mode\":\"lines\",\"name\":\"EDUCATION\",\"showlegend\":false,\"x\":[1000.0,1000.0,100000.0,500000.0],\"xaxis\":\"x\",\"y\":[4753.873885041996,4753.873885041996,399589.1346568201,1994883.1175730955],\"yaxis\":\"y\",\"type\":\"scatter\"},{\"customdata\":[[\"My Talking Pet\"],[\"Meme Generator\"]],\"hovertemplate\":\"Category=ENTERTAINMENT\\u003cbr\\u003eNumber of Installs=%{x}\\u003cbr\\u003eEstimated Revenue=%{y}\\u003cbr\\u003eApp=%{customdata[0]}\\u003cextra\\u003e\\u003c\\u002fextra\\u003e\",\"legendgroup\":\"ENTERTAINMENT\",\"marker\":{\"color\":\"#FFA15A\",\"symbol\":\"circle\"},\"mode\":\"markers\",\"name\":\"ENTERTAINMENT\",\"orientation\":\"v\",\"showlegend\":true,\"x\":[100000.0,100000.0],\"xaxis\":\"x\",\"y\":[499000.0,299000.0],\"yaxis\":\"y\",\"type\":\"scatter\"},{\"hovertemplate\":\"\\u003cb\\u003eOLS trendline\\u003c\\u002fb\\u003e\\u003cbr\\u003eRevenue = 3.99\\u003cbr\\u003eR\\u003csup\\u003e2\\u003c\\u002fsup\\u003e=0.000000\\u003cbr\\u003e\\u003cbr\\u003eCategory=ENTERTAINMENT\\u003cbr\\u003eNumber of Installs=%{x}\\u003cbr\\u003eEstimated Revenue=%{y} \\u003cb\\u003e(trend)\\u003c\\u002fb\\u003e\\u003cextra\\u003e\\u003c\\u002fextra\\u003e\",\"legendgroup\":\"ENTERTAINMENT\",\"marker\":{\"color\":\"#FFA15A\",\"symbol\":\"circle\"},\"mode\":\"lines\",\"name\":\"ENTERTAINMENT\",\"showlegend\":false,\"x\":[100000.0,100000.0],\"xaxis\":\"x\",\"y\":[398999.99999999994,398999.99999999994],\"yaxis\":\"y\",\"type\":\"scatter\"},{\"customdata\":[[\"My CookBook Pro (Ad Free)\"],[\"Paprika Recipe Manager\"]],\"hovertemplate\":\"Category=FOOD_AND_DRINK\\u003cbr\\u003eNumber of Installs=%{x}\\u003cbr\\u003eEstimated Revenue=%{y}\\u003cbr\\u003eApp=%{customdata[0]}\\u003cextra\\u003e\\u003c\\u002fextra\\u003e\",\"legendgroup\":\"FOOD_AND_DRINK\",\"marker\":{\"color\":\"#19d3f3\",\"symbol\":\"circle\"},\"mode\":\"markers\",\"name\":\"FOOD_AND_DRINK\",\"orientation\":\"v\",\"showlegend\":true,\"x\":[10000.0,50000.0],\"xaxis\":\"x\",\"y\":[34900.0,249500.0],\"yaxis\":\"y\",\"type\":\"scatter\"},{\"hovertemplate\":\"\\u003cb\\u003eOLS trendline\\u003c\\u002fb\\u003e\\u003cbr\\u003eRevenue = 5.365 * Min Installs + -18750\\u003cbr\\u003eR\\u003csup\\u003e2\\u003c\\u002fsup\\u003e=1.000000\\u003cbr\\u003e\\u003cbr\\u003eCategory=FOOD_AND_DRINK\\u003cbr\\u003eNumber of Installs=%{x}\\u003cbr\\u003eEstimated Revenue=%{y} \\u003cb\\u003e(trend)\\u003c\\u002fb\\u003e\\u003cextra\\u003e\\u003c\\u002fextra\\u003e\",\"legendgroup\":\"FOOD_AND_DRINK\",\"marker\":{\"color\":\"#19d3f3\",\"symbol\":\"circle\"},\"mode\":\"lines\",\"name\":\"FOOD_AND_DRINK\",\"showlegend\":false,\"x\":[10000.0,50000.0],\"xaxis\":\"x\",\"y\":[34900.000000000015,249500.0],\"yaxis\":\"y\",\"type\":\"scatter\"},{\"customdata\":[[\"Pocket Yoga\"],[\"Meditation Studio\"],[\"Relax Melodies P: Sleep Sounds\"],[\"Pocket Yoga\"],[\"Daily Ab Workout\"],[\"cronometer (ad free)\"],[\"Lullaby Add-on for Sleep as Android\"],[\"Be Stronger\"],[\"Monitor My BP\"],[\"All-night drugstore CI & Price\"],[\"Tools & Mi Band\"],[\"Dr. McDougall Mobile Cookbook\"],[\"Vital Tones EI Pro\"],[\"The EO Bar\"],[\"EO Guide\"],[\"Fast Tract Diet\"]],\"hovertemplate\":\"Category=HEALTH_AND_FITNESS\\u003cbr\\u003eNumber of Installs=%{x}\\u003cbr\\u003eEstimated Revenue=%{y}\\u003cbr\\u003eApp=%{customdata[0]}\\u003cextra\\u003e\\u003c\\u002fextra\\u003e\",\"legendgroup\":\"HEALTH_AND_FITNESS\",\"marker\":{\"color\":\"#FF6692\",\"symbol\":\"circle\"},\"mode\":\"markers\",\"name\":\"HEALTH_AND_FITNESS\",\"orientation\":\"v\",\"showlegend\":true,\"x\":[100000.0,10000.0,100000.0,100000.0,50000.0,50000.0,50000.0,1000.0,50.0,10.0,100000.0,1000.0,50.0,10000.0,1000.0,1000.0],\"xaxis\":\"x\",\"y\":[299000.0,39900.0,299000.0,299000.0,99500.0,149500.0,99500.0,1990.0,299.5,9.9,349000.0,4990.0,499.5,69900.0,4990.0,7990.0],\"yaxis\":\"y\",\"type\":\"scatter\"},{\"hovertemplate\":\"\\u003cb\\u003eOLS trendline\\u003c\\u002fb\\u003e\\u003cbr\\u003eRevenue = 2.99752 * Min Installs + 260.267\\u003cbr\\u003eR\\u003csup\\u003e2\\u003c\\u002fsup\\u003e=0.963490\\u003cbr\\u003e\\u003cbr\\u003eCategory=HEALTH_AND_FITNESS\\u003cbr\\u003eNumber of Installs=%{x}\\u003cbr\\u003eEstimated Revenue=%{y} \\u003cb\\u003e(trend)\\u003c\\u002fb\\u003e\\u003cextra\\u003e\\u003c\\u002fextra\\u003e\",\"legendgroup\":\"HEALTH_AND_FITNESS\",\"marker\":{\"color\":\"#FF6692\",\"symbol\":\"circle\"},\"mode\":\"lines\",\"name\":\"HEALTH_AND_FITNESS\",\"showlegend\":false,\"x\":[10.0,50.0,50.0,1000.0,1000.0,1000.0,1000.0,10000.0,10000.0,50000.0,50000.0,50000.0,100000.0,100000.0,100000.0,100000.0],\"xaxis\":\"x\",\"y\":[290.24215486262216,410.14284485458654,410.14284485458654,3257.7842321637404,3257.7842321637404,3257.7842321637404,3257.7842321637404,30235.439480355722,30235.439480355722,150136.1294723201,150136.1294723201,150136.1294723201,300011.9919622756,300011.9919622756,300011.9919622756,300011.9919622756],\"yaxis\":\"y\",\"type\":\"scatter\"},{\"customdata\":[[\"The Game of Life\"],[\"Clue\"],[\"The Room: Old Sins\"],[\"The Escapists\"],[\"Farming Simulator 18\"],[\"RollerCoaster Tycoon\\u00ae Classic\"],[\"Call of Duty:Black Ops Zombies\"],[\"Star Wars \\u2122: DIRTY\"],[\"Monument Valley 2\"],[\"B-52 Spirits of Glory Deluxe\"],[\"B-Grade Renegade\"],[\"CURSUM B\"],[\"Hitman Sniper\"],[\"The World Ends With You\"],[\"D+H Reaction Wall\"],[\"Traps n' Gemstones\"],[\"Ghosts'n Goblins MOBILE\"],[\"Lock 'n' Roll Pro - Ad Free\"],[\"Jump'N'Shoot Attack\"],[\"Ghouls'n Ghosts MOBILE\"],[\"Oddworld: New 'n' Tasty\"],[\"Obbligo o Verit\\u00e0? PRO\"],[\"R-TYPE II\"],[\"R-TYPE\"],[\"Don't Starve: Pocket Edition\"],[\"Don't Starve: Shipwrecked\"],[\"Ludo - Don't get angry\"],[\"Mental Hospital V\"],[\"Zombie Avengers:(Dreamsky)Stickman War Z\"],[\"Assassin's Creed Identity\"],[\"ONScripter Plus (Ad Free)\"],[\"Mupen64Plus AE (N64 Emulator)\"],[\"AJ Jump: Animal Jam Kangaroos!\"],[\"I am Bread\"],[\"Nightenfell: Shared AR\"],[\"Five Nights at Freddy's\"],[\"Five Nights at Freddy's: SL\"],[\"Five Nights at Freddy's 4\"],[\"Five Nights at Freddy's 3\"],[\"YAKALA AY\"],[\"Ra Ga Ba\"],[\"Wolf of the BF:Commando MOBILE\"],[\"Shadow Fight 2 Special Edition\"],[\"Backgammon NJ for Android\"],[\"Bi-Tank Ads Free\"],[\"BJ Bridge Pro 2018\"],[\"Blackjack Verite Drills\"],[\"MEGA MAN MOBILE\"],[\"New York Mysteries (Full)\"],[\"The Legacy (Full)\"],[\"Skip-Bo\\u2122\"],[\"Sic Bo\"],[\"BW-Go\"],[\"PAC-MAN CE DX\"],[\"Grand Theft Auto: San Andreas\"],[\"F*ck This Game\"],[\"211:CK\"],[\"Adventure Time Game Wizard\"],[\"Best Park in the Universe\"],[\"Chinese Chess 3D Online (Xiangqi, \\u8c61\\u68cb, co tuong)\"],[\"CT-REMOTE\"],[\"Cytus II\"],[\"Dr. Splorchy Presents Space Heroes\"],[\"DraStic DS Emulator\"],[\"Riptide GP: Renegade\"],[\"Dirt Trackin Sprint Cars\"],[\"Retro City Rampage DX\"],[\"Santa's Monster Shootout DX\"],[\"Lost Journey (Dreamsky)\"],[\"League of Stickman 2018- Ninja Arena PVP(Dreamsky)\"],[\"Stickman Legends: Shadow Wars\"],[\"E.G. Chess\"],[\"WIZARD Card Game\"],[\"The Game of Life\"],[\"Poker Equity Calculator Pro for No Limit Hold'em\"],[\"Superbrothers Sword & Sworcery\"],[\"Sonic 4\\u2122 Episode I\"],[\"An Elite Warrior Ex\"],[\"Galaxian(FC)\"],[\"Solitaire+\"],[\"Fruit Ninja Classic\"],[\"Mu.F.O.\"],[\"Trine 2: Complete Story\"]],\"hovertemplate\":\"Category=GAME\\u003cbr\\u003eNumber of Installs=%{x}\\u003cbr\\u003eEstimated Revenue=%{y}\\u003cbr\\u003eApp=%{customdata[0]}\\u003cextra\\u003e\\u003c\\u002fextra\\u003e\",\"legendgroup\":\"GAME\",\"marker\":{\"color\":\"#B6E880\",\"symbol\":\"circle\"},\"mode\":\"markers\",\"name\":\"GAME\",\"orientation\":\"v\",\"showlegend\":true,\"x\":[100000.0,100000.0,100000.0,100000.0,100000.0,100000.0,100000.0,100000.0,100000.0,100.0,1000.0,500.0,10000000.0,10000.0,1.0,1000.0,10000.0,1000.0,1000.0,5000.0,10000.0,100.0,50000.0,100000.0,100000.0,10000.0,1000.0,50000.0,1000000.0,500000.0,1000.0,100000.0,50000.0,10000.0,1000.0,1000000.0,100000.0,100000.0,100000.0,1.0,1.0,1000.0,50000.0,10000.0,1.0,500.0,100.0,10000.0,5000.0,1000.0,100000.0,100.0,1000.0,10000.0,1000000.0,100.0,10.0,50000.0,10000.0,1000.0,100.0,100000.0,100.0,1000000.0,100000.0,10000.0,10000.0,50.0,1000000.0,1000000.0,1000000.0,1000.0,1000.0,100000.0,5000.0,100000.0,100000.0,100.0,100.0,100000.0,1000000.0,1.0,10000.0],\"xaxis\":\"x\",\"y\":[299000.0,199000.0,499000.0,499000.0,499000.0,599000.0,699000.0,999000.0,499000.0,99.0,1990.0,495.0,9900000.0,179899.99999999997,0.99,4990.0,9900.0,990.0,2490.0,9950.0,49900.0,99.0,99500.0,199000.0,499000.0,49900.0,1610.0,49500.0,990000.0,995000.0,3990.0,99000.0,99500.0,49900.0,990.0,2990000.0,299000.0,299000.0,299000.0,0.99,1.49,990.0,249500.0,79900.0,0.99,2245.0,1400.0,19900.0,34950.0,6990.0,299000.0,199.0,3490.0,49900.0,6990000.0,99.0,9.9,249500.0,29900.000000000004,990.0,449.0,199000.0,499.0,4990000.0,299000.0,39900.0,29900.000000000004,99.5,990000.0,990000.0,990000.0,990.0,1990.0,299000.0,4950.0,399000.0,299000.0,99.0,199.0,299000.0,990000.0,0.99,169899.99999999997],\"yaxis\":\"y\",\"type\":\"scatter\"},{\"hovertemplate\":\"\\u003cb\\u003eOLS trendline\\u003c\\u002fb\\u003e\\u003cbr\\u003eRevenue = 1.06576 * Min Installs + 222894\\u003cbr\\u003eR\\u003csup\\u003e2\\u003c\\u002fsup\\u003e=0.685870\\u003cbr\\u003e\\u003cbr\\u003eCategory=GAME\\u003cbr\\u003eNumber of Installs=%{x}\\u003cbr\\u003eEstimated Revenue=%{y} \\u003cb\\u003e(trend)\\u003c\\u002fb\\u003e\\u003cextra\\u003e\\u003c\\u002fextra\\u003e\",\"legendgroup\":\"GAME\",\"marker\":{\"color\":\"#B6E880\",\"symbol\":\"circle\"},\"mode\":\"lines\",\"name\":\"GAME\",\"showlegend\":false,\"x\":[1.0,1.0,1.0,1.0,1.0,10.0,50.0,100.0,100.0,100.0,100.0,100.0,100.0,100.0,100.0,100.0,500.0,500.0,1000.0,1000.0,1000.0,1000.0,1000.0,1000.0,1000.0,1000.0,1000.0,1000.0,1000.0,1000.0,1000.0,5000.0,5000.0,5000.0,10000.0,10000.0,10000.0,10000.0,10000.0,10000.0,10000.0,10000.0,10000.0,10000.0,10000.0,10000.0,50000.0,50000.0,50000.0,50000.0,50000.0,100000.0,100000.0,100000.0,100000.0,100000.0,100000.0,100000.0,100000.0,100000.0,100000.0,100000.0,100000.0,100000.0,100000.0,100000.0,100000.0,100000.0,100000.0,100000.0,100000.0,100000.0,100000.0,500000.0,1000000.0,1000000.0,1000000.0,1000000.0,1000000.0,1000000.0,1000000.0,1000000.0,10000000.0],\"xaxis\":\"x\",\"y\":[222894.72907484687,222894.72907484687,222894.72907484687,222894.72907484687,222894.72907484687,222904.32089953247,222946.95123146853,223000.23914638857,223000.23914638857,223000.23914638857,223000.23914638857,223000.23914638857,223000.23914638857,223000.23914638857,223000.23914638857,223000.23914638857,223426.54246574908,223426.54246574908,223959.42161494974,223959.42161494974,223959.42161494974,223959.42161494974,223959.42161494974,223959.42161494974,223959.42161494974,223959.42161494974,223959.42161494974,223959.42161494974,223959.42161494974,223959.42161494974,223959.42161494974,228222.45480855484,228222.45480855484,228222.45480855484,233551.2463005612,233551.2463005612,233551.2463005612,233551.2463005612,233551.2463005612,233551.2463005612,233551.2463005612,233551.2463005612,233551.2463005612,233551.2463005612,233551.2463005612,233551.2463005612,276181.57823661226,276181.57823661226,276181.57823661226,276181.57823661226,276181.57823661226,329469.49315667606,329469.49315667606,329469.49315667606,329469.49315667606,329469.49315667606,329469.49315667606,329469.49315667606,329469.49315667606,329469.49315667606,329469.49315667606,329469.49315667606,329469.49315667606,329469.49315667606,329469.49315667606,329469.49315667606,329469.49315667606,329469.49315667606,329469.49315667606,329469.49315667606,329469.49315667606,329469.49315667606,329469.49315667606,755772.8125171866,1288651.961717825,1288651.961717825,1288651.961717825,1288651.961717825,1288651.961717825,1288651.961717825,1288651.961717825,1288651.961717825,10880476.647329312],\"yaxis\":\"y\",\"type\":\"scatter\"},{\"customdata\":[[\"Toca Mystery House\"],[\"My Little Princess : Stores\"],[\"Sago Mini Big City\"],[\"Pinkalicious Party\"],[\"Toca Builders\"],[\"Toca Life: City\"],[\"LEGO\\u00ae Friends\"],[\"My Little Work \\u2013 Garage\"],[\"Alizay, pirate girl\"],[\"Children Educational Game Full\"],[\"Hactar Go\"],[\"All-in-One Mahjong 3\"],[\"World Racers family board game\"],[\"SweetLand \\u2014 Family Board Game\"],[\"Steam: Rails to Riches\"],[\"Whoowasit? - Best kids game!\"],[\"Lanterns: The Harvest Festival\"],[\"Tsuro - The Game of the Path\"],[\"THE aMAZEing Labyrinth\"],[\"Chess and Mate\"],[\"Avokiddo Emotions\"],[\"Nighty Night Circus\"],[\"Sago Mini Babies\"],[\"Dr. Panda & Toto's Treehouse\"],[\"Avokiddo Emotions\"],[\"Nighty Night Circus\"],[\"Sago Mini Babies\"],[\"Dr. Panda & Toto's Treehouse\"],[\"Minecraft\"],[\"Card Wars - Adventure Time\"],[\"C4droid - C\\u002fC++ compiler & IDE\"],[\"Mind Games Pro\"],[\"Speech Therapy: F\"],[\"F-Sim Space Shuttle\"],[\"Norwegian For Kids & Babies F\"],[\"most expensive app (H)\"],[\"Cut the Rope GOLD\"],[\"K.MOJI\"],[\"Math Games for Pre-K - Grade 4\"],[\"Fuzzy Numbers: Pre-K Number Foundation\"],[\"Anna.K Tarot\"],[\"Minecraft\"],[\"Guns'n'Glory Zombies Premium\"],[\"Guns'n'Glory Premium\"],[\"Guns'n'Glory Heroes Premium\"],[\"Age of Conquest: N. America\"],[\"Guns'n'Glory WW2 Premium\"],[\"Stand O\\u2019Food\\u00ae (Full)\"],[\"Detect-O-Gromit (D.O.G 2)\"],[\"P Icon Pack\"],[\"Q Avatar Pro\"],[\"R Instructor\"],[\"Day R Premium\"],[\"Elemental Knights R Platinum\"],[\"Please, Don't Touch Anything\"],[\"Please Don't Touch Anything 3D\"],[\"Jurassic Life: T Rex Simulator\"],[\"FINAL FANTASY V\"],[\"DRAGON QUEST V\"],[\"X Construction\"],[\"Z Origins - (Z The Game)\"],[\"Math games for kids : times tables training\"],[\"My baby firework (Remove ad)\"],[\"Gunship III Vietnam People AF\"],[\"AG Subway Simulator Mobile\"],[\"Michael's AG Sound Board\"],[\"The Artificial Intelligence Project (A.I. Chat)\"],[\"Age of AI: War Strategy\"],[\"Hey AJ! It's Bedtime!\"],[\"I am Rich Plus\"],[\"I Am Rich Pro\"],[\"I Am Rich\"],[\"The Hunt for the Lost Treasure\"],[\"Attack the Light\"],[\"AP Government Review\"],[\"500 AP World History Questions\"],[\"iScore5 AP Psych\"],[\"meStudying: AP English Lit\"],[\"AP Series Solution Pro\"],[\"AP Art History Flashcards\"],[\"AQ Math Facts\"],[\"Five Nights at Freddy's 2\"],[\"INTERACTIVE CALCULUS PRO\"],[\"\\u00a1Ay Caramba!\"],[\"Alif Ba Ta Bullseye\"],[\"Learn Quran with Elif Ba\"],[\"Ain Arabic Kids Alif Ba ta\"],[\"Ice Crush 10.000 B.C.\"],[\"Car Driving Theory Test BC\"],[\"Truck Driving Test Class 3 BC\"],[\"My Virtual Boyfriend\"],[\"Baldur's Gate: Enhanced Edition\"],[\"CSCS BG (\\u0432 \\u0431\\u044a\\u043b\\u0433\\u0430\\u0440\\u0441\\u043a\\u0438)\"],[\"LEGO \\u00ae Batman: Beyond Gotham\"],[\"Baldur's Gate II\"],[\"Battleheart Legacy\"],[\"Phonics Puzzles\"],[\"Chess of Blades (BL\\u002fYaoi Game) (No VA)\"],[\"Beck & Bo: Toddler First Words\"],[\"Bo's Bedtime Story\"],[\"Dr.Dice - Sic bo analyzer\"],[\"Bo's Matching Game\"],[\"Bo's Dinnertime Story\"],[\"Bo's School Day\"],[\"Infinity Dungeon VIP\"],[\"TV Guide BR Gold\"],[\"BS Detector - Diss 'n' Gauges\"],[\"Hitman GO\"],[\"Theatre of the Absurd CE(Full)\"],[\"TI-84 CE Graphing Calculator Manual TI 84\"],[\"AC CE BJT Actorial\"],[\"Depths of Betrayal CE (Full)\"],[\"F\\u00fchrerschein Klasse CE, LKW 2018\"],[\"Dots puzzle\"],[\"Reading Race 1b: sh, ch words\"],[\"Speech Therapy: CH\"],[\"boattheory.ch Full 2018\"],[\"DRAGON QUEST IV\"],[\"USMLE Step 2 CK Flashcards\"],[\"Teen Titans GO Figure!\"],[\"CN Superstar Soccer: Goal!!!\"],[\"Teeny Titans - Teen Titans Go!\"],[\"Ski Safari: Adventure Time\"],[\"Rockstars of Ooo\"],[\"Flipped Out! - Powerpuff Girls\"],[\"Formula Cartoon All Stars\"],[\"Tetrobot and Co.\"],[\"Wuwu & Co.\"],[\"CS go bomb simulator\"],[\"Morse Player\"],[\"30WPM Amateur ham radio Koch CW Morse code trainer\"],[\"Learn CW\"],[\"TI-Nspire CX Calculator Manual\"],[\"go41cx\"],[\"The House of Da Vinci\"],[\"King of Math\"],[\"Peppa Pig: Party Time\"],[\"LEGO Batman: DC Super Heroes\"],[\"Myth Defense 2: DF Platinum\"],[\"ZombieVital DG\"],[\"Interactive NPC DM Tool\"],[\"Writing Wizard Premium - Handwriting\"],[\"DRAGON QUEST VIII\"],[\"DRAGON QUEST III\"],[\"DRAGON QUEST\"],[\"DRAGON QUEST II\"],[\"DRAGON QUEST VI\"],[\"CHRONO TRIGGER (Upgrade Ver.)\"],[\"FINAL FANTASY DIMENSIONS\"],[\"Dr. Panda Farm\"],[\"DR.MEEP\"],[\"Dr. Panda Art Class\"],[\"Dr. Panda's Swimming Pool\"],[\"Dr. Panda & Toto's Treehouse\"],[\"Dr. Seuss's ABC\"],[\"Dr. Panda Hospital\"],[\"Dr. Panda Restaurant 2\"],[\"Dr. Panda Supermarket\"],[\"Real Sheet \\u221e: Pathfinder + DT\"],[\"Bloons TD 5\"],[\"ZOOKEEPER DX TouchEdition\"],[\"Chronolink DX\"],[\"Bubble Shooter DX AdFree\"],[\"Dress Up RagazzA13 DX\"],[\"Unstoppaball DX\"],[\"Sokoban Land DX\"],[\"Train Sim Pro\"],[\"DZ Puzzle\"],[\"NBA JAM by EA SPORTS\\u2122\"],[\"RPG \\u30d6\\u30ec\\u30a4\\u30b8\\u30f3\\u30b0 \\u30bd\\u30a6\\u30eb\\u30ba \\u30a2\\u30af\\u30bb\\u30ec\\u30a4\\u30c8\"],[\"Carrier Landings Pro\"],[\"EG Classroom Decimals\\u2122\"],[\"Learn Music Notes\"],[\"Farming Simulator 16\"],[\"El Chavo\"],[\"Masha and the Bear- House Cleaning Games for Girls\"],[\"Masha and the Bear - Hair Salon and MakeUp Games\"],[\"Where's My Water?\"],[\"Out There Chronicles - Ep. 1\"],[\"Out There Chronicles - Ep. 2\"],[\"EP McGuffey Primer\"],[\"The Great Wobo Escape Ep.1\"],[\"Learn Italian with MosaLingua\"],[\"IF YOU TO EU PEGO\"],[\"European War 6: 1804\"],[\"XCOM\\u00ae: Enemy Within\"],[\"Deus Ex GO\"],[\"SCI-FI UI\"],[\"FP VoiceBot\"],[\"sugar, sugar\"],[\"Word Search Tab 1 FR\"]],\"hovertemplate\":\"Category=FAMILY\\u003cbr\\u003eNumber of Installs=%{x}\\u003cbr\\u003eEstimated Revenue=%{y}\\u003cbr\\u003eApp=%{customdata[0]}\\u003cextra\\u003e\\u003c\\u002fextra\\u003e\",\"legendgroup\":\"FAMILY\",\"marker\":{\"color\":\"#FF97FF\",\"symbol\":\"circle\"},\"mode\":\"markers\",\"name\":\"FAMILY\",\"orientation\":\"v\",\"showlegend\":true,\"x\":[5000.0,5000.0,1000.0,500.0,100000.0,500000.0,10000.0,10000.0,1000.0,1000.0,1000.0,100.0,100.0,1000.0,5000.0,5000.0,1000.0,10000.0,10000.0,5000.0,1000.0,10000.0,10000.0,50000.0,1000.0,10000.0,10000.0,50000.0,10000000.0,1000000.0,50000.0,100000.0,10.0,100000.0,5.0,100.0,1000000.0,500.0,1000.0,1000.0,100.0,10000000.0,5000.0,100000.0,10000.0,10000.0,100000.0,10000.0,10000.0,10.0,100.0,1000.0,100000.0,50000.0,10000.0,5000.0,10000.0,100000.0,10000.0,100000.0,50000.0,10000.0,1000.0,5000.0,5000.0,1.0,5000.0,500.0,10.0,10000.0,5000.0,10000.0,100000.0,100000.0,1000.0,100.0,100.0,10.0,0.0,10.0,1.0,500000.0,10.0,1.0,5.0,100.0,0.0,100.0,10.0,50.0,1000.0,100000.0,100.0,100000.0,50000.0,50000.0,100.0,10.0,1000.0,1000.0,10.0,1000.0,1000.0,1000.0,1000000.0,5000.0,50.0,500000.0,10000.0,100.0,50.0,1000.0,1000.0,50000.0,50.0,10.0,1000.0,10000.0,10.0,10000.0,100000.0,100000.0,100000.0,10000.0,10000.0,10000.0,5000.0,100.0,10.0,100.0,10.0,1.0,500.0,1000.0,100000.0,10000.0,10000.0,50000.0,10000.0,100.0,50.0,5000.0,50000.0,10000.0,100000.0,10000.0,100000.0,100000.0,100000.0,10000.0,500.0,50000.0,100000.0,50000.0,10000.0,50000.0,100000.0,50000.0,50.0,1000000.0,100000.0,10.0,50.0,100.0,50.0,10000.0,10000.0,10.0,500000.0,1000.0,10000.0,50.0,1000.0,500000.0,10000.0,100.0,100.0,1000000.0,50000.0,1000.0,50.0,500.0,50000.0,100.0,10000.0,100000.0,100000.0,100.0,100.0,10000.0,50.0],\"xaxis\":\"x\",\"y\":[19950.0,14950.000000000002,3990.0,1495.0,399000.0,1995000.0,49900.0,39900.0,2990.0,7490.0,2990.0,99.0,99.0,990.0,24950.0,14950.000000000002,4990.0,29900.000000000004,49900.0,24950.0,2990.0,29900.000000000004,39900.0,199500.0,2990.0,29900.000000000004,39900.0,199500.0,69900000.0,2990000.0,149500.0,299000.0,29.900000000000002,499000.0,199.95000000000002,39999.0,990000.0,995.0,1990.0,5990.0,399.0,69900000.0,14950.000000000002,299000.0,29900.000000000004,39900.0,299000.0,19900.0,24900.000000000004,9.9,149.0,4840.0,499000.0,238499.99999999997,49900.0,29950.0,9900.0,799000.0,149900.0,149000.0,149500.0,15900.0,990.0,24950.0,4950.0,0.99,9950.0,1245.0,49.900000000000006,3999900.0,1999950.0,3899900.0,299000.0,299000.0,2990.0,999.0,499.0,49.900000000000006,0.0,299.9,2.99,1495000.0,9.9,1.99,9.95,149.0,0.0,99.0,14.9,74.5,990.0,999000.0,399.0,499000.0,499500.0,249500.0,299.0,149.9,2990.0,2490.0,469.90000000000003,990.0,2490.0,2990.0,990000.0,7450.0,74.5,495000.0,29900.000000000004,499.0,100.0,2990.0,2490.0,49500.0,199.5,19.9,19400.0,149900.0,199.89999999999998,39900.0,299000.0,399000.0,99000.0,19900.0,29900.000000000004,29900.000000000004,14950.000000000002,299.0,9.9,199.0,14.9,2.49,2495.0,10000.0,499000.0,29900.000000000004,29900.000000000004,249500.0,39900.0,1299.0,49.5,22450.0,999499.9999999999,99900.0,299000.0,49900.0,1499000.0,999000.0,1399000.0,29900.000000000004,1495.0,149500.0,199000.0,199500.0,39900.0,149500.0,299000.0,149500.0,149.5,2990000.0,99000.0,9.9,149.5,99.0,74.5,29900.000000000004,14900.0,9.9,2495000.0,10990.0,129900.0,149.5,1990.0,1495000.0,9900.0,199.0,249.00000000000003,1990000.0,149500.0,2990.0,99.5,995.0,249500.0,126.0,9900.0,999000.0,99000.0,199.0,99.0,12000.0,52.0],\"yaxis\":\"y\",\"type\":\"scatter\"},{\"hovertemplate\":\"\\u003cb\\u003eOLS trendline\\u003c\\u002fb\\u003e\\u003cbr\\u003eRevenue = 6.86628 * Min Installs + -150097\\u003cbr\\u003eR\\u003csup\\u003e2\\u003c\\u002fsup\\u003e=0.981375\\u003cbr\\u003e\\u003cbr\\u003eCategory=FAMILY\\u003cbr\\u003eNumber of Installs=%{x}\\u003cbr\\u003eEstimated Revenue=%{y} \\u003cb\\u003e(trend)\\u003c\\u002fb\\u003e\\u003cextra\\u003e\\u003c\\u002fextra\\u003e\",\"legendgroup\":\"FAMILY\",\"marker\":{\"color\":\"#FF97FF\",\"symbol\":\"circle\"},\"mode\":\"lines\",\"name\":\"FAMILY\",\"showlegend\":false,\"x\":[0.0,0.0,1.0,1.0,1.0,1.0,5.0,5.0,10.0,10.0,10.0,10.0,10.0,10.0,10.0,10.0,10.0,10.0,10.0,10.0,10.0,10.0,10.0,50.0,50.0,50.0,50.0,50.0,50.0,50.0,50.0,50.0,50.0,50.0,100.0,100.0,100.0,100.0,100.0,100.0,100.0,100.0,100.0,100.0,100.0,100.0,100.0,100.0,100.0,100.0,100.0,100.0,100.0,100.0,100.0,500.0,500.0,500.0,500.0,500.0,500.0,1000.0,1000.0,1000.0,1000.0,1000.0,1000.0,1000.0,1000.0,1000.0,1000.0,1000.0,1000.0,1000.0,1000.0,1000.0,1000.0,1000.0,1000.0,1000.0,1000.0,1000.0,1000.0,1000.0,1000.0,1000.0,1000.0,5000.0,5000.0,5000.0,5000.0,5000.0,5000.0,5000.0,5000.0,5000.0,5000.0,5000.0,5000.0,5000.0,5000.0,10000.0,10000.0,10000.0,10000.0,10000.0,10000.0,10000.0,10000.0,10000.0,10000.0,10000.0,10000.0,10000.0,10000.0,10000.0,10000.0,10000.0,10000.0,10000.0,10000.0,10000.0,10000.0,10000.0,10000.0,10000.0,10000.0,10000.0,10000.0,10000.0,10000.0,10000.0,10000.0,10000.0,10000.0,10000.0,10000.0,10000.0,50000.0,50000.0,50000.0,50000.0,50000.0,50000.0,50000.0,50000.0,50000.0,50000.0,50000.0,50000.0,50000.0,50000.0,50000.0,50000.0,100000.0,100000.0,100000.0,100000.0,100000.0,100000.0,100000.0,100000.0,100000.0,100000.0,100000.0,100000.0,100000.0,100000.0,100000.0,100000.0,100000.0,100000.0,100000.0,100000.0,100000.0,100000.0,100000.0,100000.0,100000.0,500000.0,500000.0,500000.0,500000.0,500000.0,1000000.0,1000000.0,1000000.0,1000000.0,1000000.0,10000000.0,10000000.0],\"xaxis\":\"x\",\"y\":[-150097.07608964812,-150097.07608964812,-150090.2098053036,-150090.2098053036,-150090.2098053036,-150090.2098053036,-150062.7446679255,-150062.7446679255,-150028.41324620286,-150028.41324620286,-150028.41324620286,-150028.41324620286,-150028.41324620286,-150028.41324620286,-150028.41324620286,-150028.41324620286,-150028.41324620286,-150028.41324620286,-150028.41324620286,-150028.41324620286,-150028.41324620286,-150028.41324620286,-150028.41324620286,-149753.76187242183,-149753.76187242183,-149753.76187242183,-149753.76187242183,-149753.76187242183,-149753.76187242183,-149753.76187242183,-149753.76187242183,-149753.76187242183,-149753.76187242183,-149753.76187242183,-149410.44765519554,-149410.44765519554,-149410.44765519554,-149410.44765519554,-149410.44765519554,-149410.44765519554,-149410.44765519554,-149410.44765519554,-149410.44765519554,-149410.44765519554,-149410.44765519554,-149410.44765519554,-149410.44765519554,-149410.44765519554,-149410.44765519554,-149410.44765519554,-149410.44765519554,-149410.44765519554,-149410.44765519554,-149410.44765519554,-149410.44765519554,-146663.93391738523,-146663.93391738523,-146663.93391738523,-146663.93391738523,-146663.93391738523,-146663.93391738523,-143230.79174512232,-143230.79174512232,-143230.79174512232,-143230.79174512232,-143230.79174512232,-143230.79174512232,-143230.79174512232,-143230.79174512232,-143230.79174512232,-143230.79174512232,-143230.79174512232,-143230.79174512232,-143230.79174512232,-143230.79174512232,-143230.79174512232,-143230.79174512232,-143230.79174512232,-143230.79174512232,-143230.79174512232,-143230.79174512232,-143230.79174512232,-143230.79174512232,-143230.79174512232,-143230.79174512232,-143230.79174512232,-143230.79174512232,-115765.6543670191,-115765.6543670191,-115765.6543670191,-115765.6543670191,-115765.6543670191,-115765.6543670191,-115765.6543670191,-115765.6543670191,-115765.6543670191,-115765.6543670191,-115765.6543670191,-115765.6543670191,-115765.6543670191,-115765.6543670191,-81434.23264439008,-81434.23264439008,-81434.23264439008,-81434.23264439008,-81434.23264439008,-81434.23264439008,-81434.23264439008,-81434.23264439008,-81434.23264439008,-81434.23264439008,-81434.23264439008,-81434.23264439008,-81434.23264439008,-81434.23264439008,-81434.23264439008,-81434.23264439008,-81434.23264439008,-81434.23264439008,-81434.23264439008,-81434.23264439008,-81434.23264439008,-81434.23264439008,-81434.23264439008,-81434.23264439008,-81434.23264439008,-81434.23264439008,-81434.23264439008,-81434.23264439008,-81434.23264439008,-81434.23264439008,-81434.23264439008,-81434.23264439008,-81434.23264439008,-81434.23264439008,-81434.23264439008,-81434.23264439008,-81434.23264439008,193217.14113664208,193217.14113664208,193217.14113664208,193217.14113664208,193217.14113664208,193217.14113664208,193217.14113664208,193217.14113664208,193217.14113664208,193217.14113664208,193217.14113664208,193217.14113664208,193217.14113664208,193217.14113664208,193217.14113664208,193217.14113664208,536531.3583629322,536531.3583629322,536531.3583629322,536531.3583629322,536531.3583629322,536531.3583629322,536531.3583629322,536531.3583629322,536531.3583629322,536531.3583629322,536531.3583629322,536531.3583629322,536531.3583629322,536531.3583629322,536531.3583629322,536531.3583629322,536531.3583629322,536531.3583629322,536531.3583629322,536531.3583629322,536531.3583629322,536531.3583629322,536531.3583629322,536531.3583629322,536531.3583629322,3283045.096173254,3283045.096173254,3283045.096173254,3283045.096173254,3283045.096173254,6716187.268436155,6716187.268436155,6716187.268436155,6716187.268436155,6716187.268436155,68512746.36916839,68512746.36916839],\"yaxis\":\"y\",\"type\":\"scatter\"},{\"customdata\":[[\"Monash Uni Low FODMAP Diet\"],[\"iBP Blood Pressure\"],[\"Pedi STAT\"],[\"ASCCP Mobile\"],[\"Journal Club: Medicine\"],[\"Paramedic Protocol Provider\"],[\"MommyMeds\"],[\"Medical ID - In Case of Emergency (ICE)\"],[\"Human Anatomy Atlas 2018: Complete 3D Human Body\"],[\"Essential Anatomy 3\"],[\"Vargo Anesthesia Mega App\"],[\"EMT Review Plus\"],[\"Muscle Trigger Point Anatomy\"],[\"2017 EMRA Antibiotic Guide\"],[\"ASRA Coags\"],[\"IBM Micromedex Drug Info\"],[\"Diabetes & Diet Tracker\"],[\"VeinSeek\"],[\"Block Buddy\"],[\"Super Hearing Secret Voices Recorder PRO\"],[\"EMT Study - NREMT Test Prep\"],[\"Calcium Pro\"],[\"Arrhythmias and Dysrhythmias\"],[\"EMT PASS\"],[\"Pocket Lab Values\"],[\"Medical terms (OFFLINE)\"],[\"Cardiac diagnosis (heart rate, arrhythmia)\"],[\"ERres- Emergency Medicine\"],[\"FHR 5-Tier 2.0\"],[\"AnatomyMapp\"],[\"OptoDrum\"],[\"Migraine, Headache Diary HeadApp Pro\"],[\"Blood Pressure Companion\"],[\"Visual Anatomy 2\"],[\"Muscle Premium - Human Anatomy, Kinesiology, Bones\"],[\"CCHT PREP\"],[\"Paramedic Meds\"],[\"Advanced Comprehension Therapy\"],[\"OmniMedix Medical Calculator\"],[\"Breathing Zone\"],[\"Lab Values + Medical Reference\"],[\"Recognise Foot\"],[\"Anti Mosquito simulation\"],[\"Pain Tracker & Diary\"],[\"Menstrual Calendar Premium\"],[\"Whist - Tinnitus Relief\"],[\"Critical Care Paramedic Review\"],[\"With Helper Pro Pill Reminder\"],[\"Manage My Pain Pro\"],[\"End Anxiety Pro - Stress, Panic Attack Help\"],[\"Acupuncture Assistant\"],[\"Number Therapy\"],[\"InfantRisk Center HCP\"],[\"EMT Tutor NREMT-B Study Guide\"],[\"Hospitalist Handbook\"],[\"PTA Content Master\"],[\"Navi Radiography Pro\"],[\"Nursing Care Plan NANDA Tables\"],[\"A Manual of Acupuncture\"],[\"palmPEDi: Pediatric Tape\"],[\"Vargo Anesthesia Mega App\"],[\"Monash Uni Low FODMAP Diet\"],[\"Human Anatomy Atlas 2018: Complete 3D Human Body\"],[\"ASCCP Mobile\"],[\"Paramedic Protocol Provider\"],[\"2017 EMRA Antibiotic Guide\"],[\"Essential Anatomy 3\"],[\"EMT PASS\"],[\"Block Buddy\"],[\"Language Therapy: Aphasia\"],[\"EMT Review Plus\"],[\"Journal Club: Medicine\"],[\"Pedi STAT\"],[\"AnatomyMapp\"],[\"Diabetes & Diet Tracker\"],[\"A Manual of Acupuncture\"],[\"PTA Content Master\"],[\"Muscle Premium - Human Anatomy, Kinesiology, Bones\"],[\"Cardiac diagnosis (heart rate, arrhythmia)\"],[\"LTC AS Legal\"],[\"Medical ID - In Case of Emergency (ICE)\"],[\"IBM Micromedex Drug Info\"],[\"Advanced Comprehension Therapy\"],[\"Hospitalist Handbook\"],[\"Visualmed\"],[\"ABG Master\"],[\"OrthoFlow\"],[\"Be the Expert in Phlebotomy - Professional Nursing\"],[\"EMT Tutor NREMT-B Study Guide\"],[\"Cardio Z\"],[\"AF-STROKE\"],[\"Gravidez ao Vivo\"],[\"BG Monitor Diabetes Pro\"],[\"iBP Blood Pressure\"],[\"Blood Pressure Companion\"],[\"bpresso PRO\"],[\"CE Genius Nurses Edition\"],[\"Squeezy CF\"],[\"Emergency Brain CT\"],[\"Abdominal CT Sectional Walker\"],[\"Interactive CT and MRI Anatomy\"],[\"CT and XR Dose Calculator\"],[\"Chest CT Sectional Walker\"],[\"Radiological Anatomy For FRCR1\"],[\"Differential Dx\"],[\"Human Anatomy Atlas 2018: Complete 3D Human Body\"],[\"EP Calipers\"],[\"EP Coding\"],[\"EP Cook Book\"]],\"hovertemplate\":\"Category=MEDICAL\\u003cbr\\u003eNumber of Installs=%{x}\\u003cbr\\u003eEstimated Revenue=%{y}\\u003cbr\\u003eApp=%{customdata[0]}\\u003cextra\\u003e\\u003c\\u002fextra\\u003e\",\"legendgroup\":\"MEDICAL\",\"marker\":{\"color\":\"#FECB52\",\"symbol\":\"circle\"},\"mode\":\"markers\",\"name\":\"MEDICAL\",\"orientation\":\"v\",\"showlegend\":true,\"x\":[100000.0,10000.0,10000.0,10000.0,10000.0,10000.0,5000.0,5000.0,100000.0,50000.0,1000.0,10000.0,50000.0,1000.0,1000.0,10000.0,1000.0,1000.0,1000.0,100.0,5000.0,5000.0,500.0,1000.0,10000.0,1000.0,100.0,1000.0,500.0,5000.0,1000.0,500.0,1000.0,5000.0,10000.0,1000.0,10000.0,100.0,1000.0,5000.0,10000.0,1000.0,1000.0,100.0,50000.0,1000.0,1000.0,5000.0,5000.0,1000.0,10000.0,50.0,1000.0,10000.0,1000.0,1000.0,500.0,500.0,1000.0,5000.0,1000.0,100000.0,100000.0,10000.0,10000.0,1000.0,50000.0,1000.0,1000.0,1000.0,10000.0,10000.0,10000.0,5000.0,1000.0,1000.0,1000.0,10000.0,100.0,100.0,5000.0,10000.0,100.0,1000.0,1.0,50.0,10.0,1.0,10000.0,100.0,100.0,1000.0,500.0,10000.0,1000.0,1000.0,1.0,10.0,10.0,100.0,1000.0,50.0,100.0,100.0,500.0,100000.0,100.0,50.0,0.0],\"xaxis\":\"x\",\"y\":[900000.0,9900.0,54900.0,99900.0,69900.0,100000.0,19950.0,29950.0,2499000.0,599500.0,79990.0,119900.0,149500.0,16990.0,3990.0,29900.000000000004,9990.0,3990.0,14990.0,299.0,19950.0,14950.000000000002,500.0,29990.0,29900.000000000004,2990.0,1299.0,4990.0,1495.0,74950.0,5990.0,1745.0,990.0,12450.000000000002,249899.99999999997,10990.0,19900.0,2499.0,4990.0,19950.0,29900.000000000004,7490.0,1500.0,299.0,199500.0,1990.0,9990.0,19950.0,19950.0,3990.0,79900.0,749.5,9990.0,39900.0,19990.0,29990.0,7995.0,495.0,33990.0,4950.0,79990.0,900000.0,2499000.0,99900.0,100000.0,16990.0,599500.0,29990.0,14990.0,74990.0,119900.0,69900.0,54900.0,74950.0,9990.0,33990.0,29990.0,249899.99999999997,1299.0,3999.0,29950.0,29900.000000000004,2499.0,19990.0,2.99,49.5,59.900000000000006,0.99,39900.0,599.0,500.0,2990.0,2995.0,9900.0,990.0,5490.0,3.99,29.900000000000002,9.9,999.0,15460.0,49.5,999.0,699.0,1995.0,2499000.0,99.0,49.5,0.0],\"yaxis\":\"y\",\"type\":\"scatter\"},{\"hovertemplate\":\"\\u003cb\\u003eOLS trendline\\u003c\\u002fb\\u003e\\u003cbr\\u003eRevenue = 16.9747 * Min Installs + -34310.9\\u003cbr\\u003eR\\u003csup\\u003e2\\u003c\\u002fsup\\u003e=0.774631\\u003cbr\\u003e\\u003cbr\\u003eCategory=MEDICAL\\u003cbr\\u003eNumber of Installs=%{x}\\u003cbr\\u003eEstimated Revenue=%{y} \\u003cb\\u003e(trend)\\u003c\\u002fb\\u003e\\u003cextra\\u003e\\u003c\\u002fextra\\u003e\",\"legendgroup\":\"MEDICAL\",\"marker\":{\"color\":\"#FECB52\",\"symbol\":\"circle\"},\"mode\":\"lines\",\"name\":\"MEDICAL\",\"showlegend\":false,\"x\":[0.0,1.0,1.0,1.0,10.0,10.0,10.0,50.0,50.0,50.0,50.0,100.0,100.0,100.0,100.0,100.0,100.0,100.0,100.0,100.0,100.0,100.0,100.0,100.0,500.0,500.0,500.0,500.0,500.0,500.0,500.0,1000.0,1000.0,1000.0,1000.0,1000.0,1000.0,1000.0,1000.0,1000.0,1000.0,1000.0,1000.0,1000.0,1000.0,1000.0,1000.0,1000.0,1000.0,1000.0,1000.0,1000.0,1000.0,1000.0,1000.0,1000.0,1000.0,1000.0,1000.0,1000.0,1000.0,1000.0,1000.0,1000.0,1000.0,1000.0,5000.0,5000.0,5000.0,5000.0,5000.0,5000.0,5000.0,5000.0,5000.0,5000.0,5000.0,5000.0,10000.0,10000.0,10000.0,10000.0,10000.0,10000.0,10000.0,10000.0,10000.0,10000.0,10000.0,10000.0,10000.0,10000.0,10000.0,10000.0,10000.0,10000.0,10000.0,10000.0,10000.0,10000.0,50000.0,50000.0,50000.0,50000.0,100000.0,100000.0,100000.0,100000.0,100000.0],\"xaxis\":\"x\",\"y\":[-34310.9116823512,-34293.937003058105,-34293.937003058105,-34293.937003058105,-34141.16488942022,-34141.16488942022,-34141.16488942022,-33462.177717696315,-33462.177717696315,-33462.177717696315,-33462.177717696315,-32613.443753041436,-32613.443753041436,-32613.443753041436,-32613.443753041436,-32613.443753041436,-32613.443753041436,-32613.443753041436,-32613.443753041436,-32613.443753041436,-32613.443753041436,-32613.443753041436,-32613.443753041436,-32613.443753041436,-25823.572035802372,-25823.572035802372,-25823.572035802372,-25823.572035802372,-25823.572035802372,-25823.572035802372,-25823.572035802372,-17336.232389253542,-17336.232389253542,-17336.232389253542,-17336.232389253542,-17336.232389253542,-17336.232389253542,-17336.232389253542,-17336.232389253542,-17336.232389253542,-17336.232389253542,-17336.232389253542,-17336.232389253542,-17336.232389253542,-17336.232389253542,-17336.232389253542,-17336.232389253542,-17336.232389253542,-17336.232389253542,-17336.232389253542,-17336.232389253542,-17336.232389253542,-17336.232389253542,-17336.232389253542,-17336.232389253542,-17336.232389253542,-17336.232389253542,-17336.232389253542,-17336.232389253542,-17336.232389253542,-17336.232389253542,-17336.232389253542,-17336.232389253542,-17336.232389253542,-17336.232389253542,-17336.232389253542,50562.484783137086,50562.484783137086,50562.484783137086,50562.484783137086,50562.484783137086,50562.484783137086,50562.484783137086,50562.484783137086,50562.484783137086,50562.484783137086,50562.484783137086,50562.484783137086,135435.88124862537,135435.88124862537,135435.88124862537,135435.88124862537,135435.88124862537,135435.88124862537,135435.88124862537,135435.88124862537,135435.88124862537,135435.88124862537,135435.88124862537,135435.88124862537,135435.88124862537,135435.88124862537,135435.88124862537,135435.88124862537,135435.88124862537,135435.88124862537,135435.88124862537,135435.88124862537,135435.88124862537,135435.88124862537,814423.0529725316,814423.0529725316,814423.0529725316,814423.0529725316,1663157.0176274145,1663157.0176274145,1663157.0176274145,1663157.0176274145,1663157.0176274145],\"yaxis\":\"y\",\"type\":\"scatter\"},{\"customdata\":[[\"Facetune - For Free\"],[\"Lapse It \\u2022 Time Lapse \\u2022 Pro\"],[\"Facetune - For Free\"],[\"Camera FV-5\"],[\"Facetune - For Free\"],[\"F-Stop Gallery Pro\"],[\"F Length Sim (no Ads)\"],[\"Arto: f.infrared photo\"],[\"Pocket AC\"],[\"NewTek NDI\"],[\"AI Draw | Art Filter for Selfie\"],[\"Ai-Ball AV Recorder\"],[\"BeFunky Photo Editor Pro\"],[\"BL 1-Click Camera\"],[\"Camera FV-5\"],[\"BlackCam Pro - B&W Camera\"],[\"LC-DB\"],[\"Guide to Nikon Df\"],[\"Cameringo+ Filters Camera\"],[\"LightMeter (noAds)\"],[\"PhotoFrame for Synology DS\"],[\"EF Lens Simulator\"]],\"hovertemplate\":\"Category=PHOTOGRAPHY\\u003cbr\\u003eNumber of Installs=%{x}\\u003cbr\\u003eEstimated Revenue=%{y}\\u003cbr\\u003eApp=%{customdata[0]}\\u003cextra\\u003e\\u003c\\u002fextra\\u003e\",\"legendgroup\":\"PHOTOGRAPHY\",\"marker\":{\"color\":\"#636efa\",\"symbol\":\"circle\"},\"mode\":\"markers\",\"name\":\"PHOTOGRAPHY\",\"orientation\":\"v\",\"showlegend\":true,\"x\":[1000000.0,100000.0,1000000.0,100000.0,1000000.0,10000.0,10.0,500.0,1000.0,1000.0,1000.0,5000.0,50000.0,100.0,100000.0,100000.0,10.0,10.0,500000.0,10000.0,10.0,100.0],\"xaxis\":\"x\",\"y\":[5990000.0,299000.0,5990000.0,395000.0,5990000.0,49900.0,20.0,745.0,9990.0,19990.0,2990.0,14950.000000000002,99500.0,399.0,395000.0,149000.0,34.900000000000006,299.9,1495000.0,19900.0,49.900000000000006,999.0],\"yaxis\":\"y\",\"type\":\"scatter\"},{\"hovertemplate\":\"\\u003cb\\u003eOLS trendline\\u003c\\u002fb\\u003e\\u003cbr\\u003eRevenue = 5.85394 * Min Installs + -107661\\u003cbr\\u003eR\\u003csup\\u003e2\\u003c\\u002fsup\\u003e=0.975276\\u003cbr\\u003e\\u003cbr\\u003eCategory=PHOTOGRAPHY\\u003cbr\\u003eNumber of Installs=%{x}\\u003cbr\\u003eEstimated Revenue=%{y} \\u003cb\\u003e(trend)\\u003c\\u002fb\\u003e\\u003cextra\\u003e\\u003c\\u002fextra\\u003e\",\"legendgroup\":\"PHOTOGRAPHY\",\"marker\":{\"color\":\"#636efa\",\"symbol\":\"circle\"},\"mode\":\"lines\",\"name\":\"PHOTOGRAPHY\",\"showlegend\":false,\"x\":[10.0,10.0,10.0,10.0,100.0,100.0,500.0,1000.0,1000.0,1000.0,5000.0,10000.0,10000.0,50000.0,100000.0,100000.0,100000.0,100000.0,500000.0,1000000.0,1000000.0,1000000.0],\"xaxis\":\"x\",\"y\":[-107602.38592416406,-107602.38592416406,-107602.38592416406,-107602.38592416406,-107075.53126033685,-107075.53126033685,-104733.95497666034,-101806.98462206472,-101806.98462206472,-101806.98462206472,-78391.22178529968,-49121.5182393434,-49121.5182393434,185036.11012830687,477733.1455878697,477733.1455878697,477733.1455878697,477733.1455878697,2819309.4292643727,5746279.783860001,5746279.783860001,5746279.783860001],\"yaxis\":\"y\",\"type\":\"scatter\"},{\"customdata\":[[\"Golfshot Plus: Golf GPS\"],[\"G-Force Driving Assistant\"],[\"O'Route Orienteering\"],[\"Mike V: Skateboard Party PRO\"],[\"True Skate\"],[\"Hunt Buddy BC\"],[\"iHunter BC\"],[\"iFish BC\"],[\"Basket Manager 2018 Pro\"],[\"Basket Manager 2016 Pro\"],[\"Basket Manager 2017 Pro\"],[\"BT Speed\"],[\"Dive-Store.ch\"],[\"Jetting for Honda CR dirt bike\"],[\"Absolute RC Heli Simulator\"],[\"Fodbold DK Pro\"],[\"Basketball Dynasty Manager 16\"],[\"PORTABLE SOCCER DX\"],[\"Active Soccer 2 DX\"],[\"LocaToWeb - Live GPS tracking\"],[\"FL SW Fishing Regulations\"],[\"FL Racing Manager 2015 Pro\"],[\"FL Racing Manager 2018 Pro\"],[\"Football Manager Mobile 2018\"]],\"hovertemplate\":\"Category=SPORTS\\u003cbr\\u003eNumber of Installs=%{x}\\u003cbr\\u003eEstimated Revenue=%{y}\\u003cbr\\u003eApp=%{customdata[0]}\\u003cextra\\u003e\\u003c\\u002fextra\\u003e\",\"legendgroup\":\"SPORTS\",\"marker\":{\"color\":\"#EF553B\",\"symbol\":\"circle\"},\"mode\":\"markers\",\"name\":\"SPORTS\",\"orientation\":\"v\",\"showlegend\":true,\"x\":[50000.0,100.0,100.0,50000.0,1000000.0,5000.0,1000.0,1000.0,1000.0,1000.0,1000.0,10.0,5.0,100.0,10000.0,1000.0,5000.0,5000.0,500.0,1000.0,1000.0,5000.0,5000.0,100000.0],\"xaxis\":\"x\",\"y\":[1499500.0,388.0,302.0,199500.0,1990000.0,14950.000000000002,4490.0,3990.0,2990.0,990.0,990.0,48.0,9.95,349.0,49900.0,2990.0,9950.0,5000.0,1495.0,2490.0,1990.0,4950.0,9950.0,899000.0],\"yaxis\":\"y\",\"type\":\"scatter\"},{\"hovertemplate\":\"\\u003cb\\u003eOLS trendline\\u003c\\u002fb\\u003e\\u003cbr\\u003eRevenue = 2.02119 * Min Installs + 91342.6\\u003cbr\\u003eR\\u003csup\\u003e2\\u003c\\u002fsup\\u003e=0.632923\\u003cbr\\u003e\\u003cbr\\u003eCategory=SPORTS\\u003cbr\\u003eNumber of Installs=%{x}\\u003cbr\\u003eEstimated Revenue=%{y} \\u003cb\\u003e(trend)\\u003c\\u002fb\\u003e\\u003cextra\\u003e\\u003c\\u002fextra\\u003e\",\"legendgroup\":\"SPORTS\",\"marker\":{\"color\":\"#EF553B\",\"symbol\":\"circle\"},\"mode\":\"lines\",\"name\":\"SPORTS\",\"showlegend\":false,\"x\":[5.0,10.0,100.0,100.0,100.0,500.0,1000.0,1000.0,1000.0,1000.0,1000.0,1000.0,1000.0,1000.0,5000.0,5000.0,5000.0,5000.0,5000.0,10000.0,50000.0,50000.0,100000.0,1000000.0],\"xaxis\":\"x\",\"y\":[91352.72864305058,91362.83460336467,91544.74188901832,91544.74188901832,91544.74188901832,92353.21871414562,93363.81474555477,93363.81474555477,93363.81474555477,93363.81474555477,93363.81474555477,93363.81474555477,93363.81474555477,93363.81474555477,101448.58299682791,101448.58299682791,101448.58299682791,101448.58299682791,101448.58299682791,111554.54331091933,192402.2258236507,192402.2258236507,293461.8289645649,2112534.6855010204],\"yaxis\":\"y\",\"type\":\"scatter\"},{\"customdata\":[[\"Beautiful Widgets Pro\"],[\"HD Widgets\"],[\"Kairo XP (for HD Widgets)\"],[\"BIG Launcher\"],[\"Smart Launcher Pro 3\"],[\"B-17 Flying Fortress WWII LWP\"],[\"Smart Launcher theme b. gold\"],[\"Next Launcher 3D Theme Hit-B\"],[\"C Locker Pro\"],[\"Neon Glow C - Icon Pack\"],[\"Koi Live Wallpaper\"],[\"F-1 watchface by Delta\"],[\"Next Launcher 3D Theme Hit-G\"],[\"Go\"],[\"G Theme 2 for LG V30, LG G6\"],[\"Dialer theme G Black Gold\"],[\"N Launcher Pro - Nougat 7.0\"],[\"Dark Infusion Substratum Theme for Android N & O\"],[\"Planet O - Icon Pack\"],[\"Prime Key for Nougat Launcher& O Launcher &KitKat\"],[\"Android P | Xperia\\u2122 Theme 4800+ icons\"],[\"Android P Home KLWP\"],[\"P-Home for KLWP\"],[\"[substratum] Vacuum: P\"],[\"[Sub\\u002fEMUI] P Pro - EMUI 8.1\\u002f8.0\\u002f5.X Theme\"],[\"Pacify Exceed (Android P) - Theme for Xperia\\u2122\"],[\"Theme Android P Design for LG V30\"],[\"Pistachio Launcher for Android P 9.0\"],[\"Theme Android P for LG G7 & V35\"],[\"Pacify (Android P theme) - Theme for Xperia\\u2122\"],[\"Popsicle Launcher for Android P 9.0 launcher\"],[\"Theme Android P Black design for LG V30\"],[\"Theme Android P Black for LG G7 & V35\"],[\"Pureness Pacify (Android P) - Theme for Xperia\\u2122\"],[\"Android P Style Icon Pack\"],[\"Pixel Oreo\\u002fP Dark White AMOLED UI - Icon Pack\"],[\"Neon-R (Red)\"],[\"S Launcher Pro for Galaxy\"],[\"PitchBlack S - Samsung Substratum Theme \\u201cFor Oreo\\u201d\"],[\"weather HD\"],[\"Light X - Icon Pack\"],[\"iLauncher OS 12 Pro - Phone X\"],[\"X Back - Icon Pack\"],[\"Space Z \\ud83c\\udf0f \\ud83d\\ude80Icon Pack Theme\"],[\"Watch Face Swiss AJ-6\"],[\"AJ Gray Icon Pack\"],[\"AJ Gray Dark Icon Pack\"],[\"AJ Blue Icon Pack\"],[\"AJ Turquoise Dark Icon Pack\"],[\"AJ Orange Icon Pack\"],[\"AP Themes for Kustom\\u002fKLWP\"],[\"Glanceable Ap Watch Face\"],[\"Ultimate Watch 2 watch face\"],[\"Pujie Black Watch Face for Android Wear OS\"],[\"AX Watch for WatchMaker\"],[\"Ay Y\\u0131ld\\u0131z - Xperia Live Theme\"],[\"SLANGY-Perfect BK World Theme\"],[\"BL Holo Theme\"],[\"Watch Face BW Inter\"],[\"Beautiful Widgets Pro\"],[\"HD Widgets\"],[\"Color Changer Pro [root]\"],[\"Lollipop Launcher Plus\"],[\"Next Launcher 3D Bold-CF Theme\"],[\"FAV KWGT\"],[\"Pixxy KWGT\"],[\"CI 174 Gray Icon Pack\"],[\"CM Launcher 3D Pro\\ud83d\\udc8e\"],[\"Swift Dark CM \\u002f CM13 Theme\"],[\"OMEGA Black UI Theme - CM 12+\"],[\"Asiimov Skin - CS GO Icon Pack\"],[\"DK Primrose for KLWP\"],[\"MultiPicture Live Wallpaper dn\"],[\"Day Night Live Wallpaper (All)\"],[\"RETRO Shocked DW-6000\"],[\"DX Glow - Clock Widget\"],[\"EM Launcher Pro\"],[\"EU Flags Live Wallpaper\"],[\"ADWLauncher 1 EX\"],[\"Device Info Ex Live Wallpaper\"],[\"GO Contacts EX Black & Grey\"],[\"Circle Colors Pack-FN Theme\"],[\"FO Bixby\"]],\"hovertemplate\":\"Category=PERSONALIZATION\\u003cbr\\u003eNumber of Installs=%{x}\\u003cbr\\u003eEstimated Revenue=%{y}\\u003cbr\\u003eApp=%{customdata[0]}\\u003cextra\\u003e\\u003c\\u002fextra\\u003e\",\"legendgroup\":\"PERSONALIZATION\",\"marker\":{\"color\":\"#00cc96\",\"symbol\":\"circle\"},\"mode\":\"markers\",\"name\":\"PERSONALIZATION\",\"orientation\":\"v\",\"showlegend\":true,\"x\":[1000000.0,1000000.0,10000.0,10000.0,100000.0,100.0,5000.0,1000.0,10000.0,10000.0,100000.0,10.0,1000.0,5000.0,500.0,500.0,100000.0,1000.0,10000.0,5000.0,100.0,5.0,100.0,1000.0,100.0,10.0,500.0,1.0,100.0,10.0,0.0,100.0,100.0,1.0,100.0,5000.0,100.0,1000.0,1000.0,10000.0,10000.0,50.0,10000.0,1000.0,100.0,50.0,10.0,50.0,10.0,10.0,500.0,5.0,10000.0,100000.0,1.0,10.0,50.0,500.0,1000.0,1000000.0,1000000.0,1000.0,1000.0,1000.0,1000.0,1000.0,10.0,100000.0,10000.0,100.0,100.0,1.0,10000.0,50000.0,100.0,50.0,1000.0,10000.0,500000.0,50000.0,500.0,50.0,100.0],\"xaxis\":\"x\",\"y\":[2490000.0,990000.0,9900.0,99900.0,449000.0,149.0,9950.0,1700.0,29900.000000000004,9900.0,99000.0,24.900000000000002,1700.0,4950.0,745.0,745.0,299000.0,2490.0,9900.0,34950.0,199.0,7.45,99.0,1490.0,99.0,14.9,745.0,1.49,149.0,9.9,0.0,149.0,149.0,1.49,99.0,7450.0,99.0,4990.0,1990.0,19900.0,9900.0,149.5,9900.0,1490.0,99.0,49.5,9.9,49.5,9.9,9.9,745.0,4.95,9900.0,199000.0,0.99,9.9,242.49999999999997,1000.0,990.0,2490000.0,990000.0,990.0,4990.0,990.0,990.0,990.0,9.9,499000.0,19900.0,99.0,249.00000000000003,0.99,19900.0,124500.00000000001,149.0,49.5,3990.0,9900.0,1245000.0,49500.0,495.0,49.5,99.0],\"yaxis\":\"y\",\"type\":\"scatter\"},{\"hovertemplate\":\"\\u003cb\\u003eOLS trendline\\u003c\\u002fb\\u003e\\u003cbr\\u003eRevenue = 1.78637 * Min Installs + 10636.1\\u003cbr\\u003eR\\u003csup\\u003e2\\u003c\\u002fsup\\u003e=0.830871\\u003cbr\\u003e\\u003cbr\\u003eCategory=PERSONALIZATION\\u003cbr\\u003eNumber of Installs=%{x}\\u003cbr\\u003eEstimated Revenue=%{y} \\u003cb\\u003e(trend)\\u003c\\u002fb\\u003e\\u003cextra\\u003e\\u003c\\u002fextra\\u003e\",\"legendgroup\":\"PERSONALIZATION\",\"marker\":{\"color\":\"#00cc96\",\"symbol\":\"circle\"},\"mode\":\"lines\",\"name\":\"PERSONALIZATION\",\"showlegend\":false,\"x\":[0.0,1.0,1.0,1.0,1.0,5.0,5.0,10.0,10.0,10.0,10.0,10.0,10.0,10.0,10.0,50.0,50.0,50.0,50.0,50.0,50.0,100.0,100.0,100.0,100.0,100.0,100.0,100.0,100.0,100.0,100.0,100.0,100.0,100.0,100.0,500.0,500.0,500.0,500.0,500.0,500.0,1000.0,1000.0,1000.0,1000.0,1000.0,1000.0,1000.0,1000.0,1000.0,1000.0,1000.0,1000.0,1000.0,1000.0,5000.0,5000.0,5000.0,5000.0,10000.0,10000.0,10000.0,10000.0,10000.0,10000.0,10000.0,10000.0,10000.0,10000.0,10000.0,10000.0,50000.0,50000.0,100000.0,100000.0,100000.0,100000.0,100000.0,500000.0,1000000.0,1000000.0,1000000.0,1000000.0],\"xaxis\":\"x\",\"y\":[10636.083211442372,10637.869581597479,10637.869581597479,10637.869581597479,10637.869581597479,10645.015062217903,10645.015062217903,10653.946912993431,10653.946912993431,10653.946912993431,10653.946912993431,10653.946912993431,10653.946912993431,10653.946912993431,10653.946912993431,10725.401719197669,10725.401719197669,10725.401719197669,10725.401719197669,10725.401719197669,10725.401719197669,10814.720226952968,10814.720226952968,10814.720226952968,10814.720226952968,10814.720226952968,10814.720226952968,10814.720226952968,10814.720226952968,10814.720226952968,10814.720226952968,10814.720226952968,10814.720226952968,10814.720226952968,10814.720226952968,11529.268288995352,11529.268288995352,11529.268288995352,11529.268288995352,11529.268288995352,11529.268288995352,12422.453366548332,12422.453366548332,12422.453366548332,12422.453366548332,12422.453366548332,12422.453366548332,12422.453366548332,12422.453366548332,12422.453366548332,12422.453366548332,12422.453366548332,12422.453366548332,12422.453366548332,12422.453366548332,19567.93398697217,19567.93398697217,19567.93398697217,19567.93398697217,28499.784762501968,28499.784762501968,28499.784762501968,28499.784762501968,28499.784762501968,28499.784762501968,28499.784762501968,28499.784762501968,28499.784762501968,28499.784762501968,28499.784762501968,28499.784762501968,99954.59096674035,99954.59096674035,189273.09872203832,189273.09872203832,189273.09872203832,189273.09872203832,189273.09872203832,903821.160764422,1797006.2383174018,1797006.2383174018,1797006.2383174018,1797006.2383174018],\"yaxis\":\"y\",\"type\":\"scatter\"},{\"customdata\":[[\"aCalendar+ Calendar & Tasks\"],[\"Ramfer - CNC Lathe G-code Tool\"],[\"m\\u003enotes notepad\"],[\"Ad Removal: thereisonlywe\"],[\"Ad Remove Plugin for App2SD\"],[\"F05WatchFace for Android Wear\"],[\"PROFESSOR SEE-BA LINGUAGENS E SUAS TECNOLOGIAS\"],[\"Business Calendar Pro\"],[\"BI Barcode Scanner\"],[\"QR Code Pro\"],[\"cronometra-br\"],[\"California Cop Assist CA Cop\"],[\"CI Attendance\"],[\"CamScanner (License)\"],[\"Pocket RxTx Pro\"],[\"ACCDB MDB DB Manager Pro - Editor for MS Access\"],[\"T\\u00e9cnico Legislativo C\\u00e2mara Legislativa DF\"],[\"Cargo de Pra\\u00e7a PM DF\"],[\"Dise\\u00f1o de columnas NTC - RSEE 2017\"],[\"DL Image Manager\"],[\"MC.Fitting\"],[\"myGrow\"],[\"Ability DS UNO\"],[\"Inventory & Barcode scanner & WIFI scanner\"],[\"ES File Explorer\\u002fManager PRO\"],[\"EX File Explorer File Manage Pro\"],[\"Organizer\"],[\"Police Field Interview FI Card\"]],\"hovertemplate\":\"Category=PRODUCTIVITY\\u003cbr\\u003eNumber of Installs=%{x}\\u003cbr\\u003eEstimated Revenue=%{y}\\u003cbr\\u003eApp=%{customdata[0]}\\u003cextra\\u003e\\u003c\\u002fextra\\u003e\",\"legendgroup\":\"PRODUCTIVITY\",\"marker\":{\"color\":\"#ab63fa\",\"symbol\":\"circle\"},\"mode\":\"markers\",\"name\":\"PRODUCTIVITY\",\"orientation\":\"v\",\"showlegend\":true,\"x\":[100000.0,100.0,1000.0,100.0,1000.0,1000.0,10.0,100000.0,10.0,100000.0,0.0,100.0,5.0,500000.0,5000.0,500.0,10.0,10.0,100.0,10.0,1000.0,1000.0,50.0,50000.0,500000.0,50.0,50000.0,1000.0],\"xaxis\":\"x\",\"y\":[599000.0,299.0,2990.0,649.0,1290.0,990.0,29.900000000000002,499000.0,9.9,449000.0,0.0,499.0,4.95,995000.0,19950.0,4495.0,29.900000000000002,29.900000000000002,99.0,9.9,8490.0,4290.0,130.0,74500.0,1495000.0,99.5,149500.0,7990.0],\"yaxis\":\"y\",\"type\":\"scatter\"},{\"hovertemplate\":\"\\u003cb\\u003eOLS trendline\\u003c\\u002fb\\u003e\\u003cbr\\u003eRevenue = 2.5732 * Min Installs + 24281.3\\u003cbr\\u003eR\\u003csup\\u003e2\\u003c\\u002fsup\\u003e=0.903678\\u003cbr\\u003e\\u003cbr\\u003eCategory=PRODUCTIVITY\\u003cbr\\u003eNumber of Installs=%{x}\\u003cbr\\u003eEstimated Revenue=%{y} \\u003cb\\u003e(trend)\\u003c\\u002fb\\u003e\\u003cextra\\u003e\\u003c\\u002fextra\\u003e\",\"legendgroup\":\"PRODUCTIVITY\",\"marker\":{\"color\":\"#ab63fa\",\"symbol\":\"circle\"},\"mode\":\"lines\",\"name\":\"PRODUCTIVITY\",\"showlegend\":false,\"x\":[0.0,5.0,10.0,10.0,10.0,10.0,10.0,50.0,50.0,100.0,100.0,100.0,100.0,500.0,1000.0,1000.0,1000.0,1000.0,1000.0,1000.0,5000.0,50000.0,50000.0,100000.0,100000.0,100000.0,500000.0,500000.0],\"xaxis\":\"x\",\"y\":[24281.336386191557,24294.20237771167,24307.068369231783,24307.068369231783,24307.068369231783,24307.068369231783,24307.068369231783,24409.996301392686,24409.996301392686,24538.656216593816,24538.656216593816,24538.656216593816,24538.656216593816,25567.93553820286,26854.53469021416,26854.53469021416,26854.53469021416,26854.53469021416,26854.53469021416,26854.53469021416,37147.32790630457,152941.25158732172,152941.25158732172,281601.1667884519,281601.1667884519,281601.1667884519,1310880.4883974933,1310880.4883974933],\"yaxis\":\"y\",\"type\":\"scatter\"},{\"customdata\":[[\"Weather Live Pro\"],[\"Weather Live\"],[\"W Pro - Weather Forecast & Animated Weather Maps\"],[\"MyRadar NOAA Weather Radar Ad Free\"],[\"Weather & Radar Pro - Ad-Free\"],[\"Weather Data CH\"],[\"Weather Forecast Pro\"],[\"Florida Tides & Weather\"]],\"hovertemplate\":\"Category=WEATHER\\u003cbr\\u003eNumber of Installs=%{x}\\u003cbr\\u003eEstimated Revenue=%{y}\\u003cbr\\u003eApp=%{customdata[0]}\\u003cextra\\u003e\\u003c\\u002fextra\\u003e\",\"legendgroup\":\"WEATHER\",\"marker\":{\"color\":\"#FFA15A\",\"symbol\":\"circle\"},\"mode\":\"markers\",\"name\":\"WEATHER\",\"orientation\":\"v\",\"showlegend\":true,\"x\":[100000.0,500000.0,500.0,10000.0,100000.0,500.0,100000.0,1000.0],\"xaxis\":\"x\",\"y\":[449000.0,2995000.0,995.0,29900.000000000004,299000.0,1495.0,399000.0,6990.0],\"yaxis\":\"y\",\"type\":\"scatter\"},{\"hovertemplate\":\"\\u003cb\\u003eOLS trendline\\u003c\\u002fb\\u003e\\u003cbr\\u003eRevenue = 6.0101 * Min Installs + -87352.4\\u003cbr\\u003eR\\u003csup\\u003e2\\u003c\\u002fsup\\u003e=0.986857\\u003cbr\\u003e\\u003cbr\\u003eCategory=WEATHER\\u003cbr\\u003eNumber of Installs=%{x}\\u003cbr\\u003eEstimated Revenue=%{y} \\u003cb\\u003e(trend)\\u003c\\u002fb\\u003e\\u003cextra\\u003e\\u003c\\u002fextra\\u003e\",\"legendgroup\":\"WEATHER\",\"marker\":{\"color\":\"#FFA15A\",\"symbol\":\"circle\"},\"mode\":\"lines\",\"name\":\"WEATHER\",\"showlegend\":false,\"x\":[500.0,500.0,1000.0,10000.0,100000.0,100000.0,100000.0,500000.0],\"xaxis\":\"x\",\"y\":[-84347.37603922431,-84347.37603922431,-81342.32714794102,-27251.44710484184,513657.3533261499,513657.3533261499,513657.3533261499,2917696.46635278],\"yaxis\":\"y\",\"type\":\"scatter\"},{\"customdata\":[[\"ADS-B Driver\"],[\"G Cloud Apps Backup Key * root\"],[\"G-Playlists\"],[\"G-NetTrack Pro\"],[\"G-NetReport Pro\"],[\"G-NetWiFi Pro\"],[\"Volume Slider Like Android P Volume Control\"],[\"Q-slope\"],[\"I Can't Wake Up!\"],[\"X-Plane to GPS\"],[\"Decibel X PRO - Sound Meter dBA, Noise Detector\"],[\"X Home Bar - Home Bar Gesture Pro\"],[\"ZArchiver Donate\"],[\"FVD Ad-Free\"],[\"Vpn Hosts (ad blocker & no root & support ipv6 )\"],[\"RAM Cleanup Ad-Free Option\"],[\"Easy Hotspot Ad Free\"],[\"AH Alarm Panel\"],[\"Message AI - Write Better Messages\"],[\"ap,wifi testing,iperf,ping,android,Bluetooth,tcp\"],[\"AV Tools Pro\"],[\"Analog Clock AW-7 PRO\"],[\"Analog and Digital Clock AW-7PRO\"],[\"Droid PRoCon BF3\"],[\"BusyBox Pro\"],[\"Power Widget\"],[\"BL File Explorer\"],[\"BL IP-Camera\"],[\"BL PowerPoint Remote\"],[\"BatControl Pro\"],[\"Sam.BN Pro\"],[\"BS Match Maker Premium\"],[\"Little Magnet BT Pro\"],[\"Battery Notifier Pro BT\"],[\"USB BT Wi-Fi Color Terminal Modem\"],[\"Bixby Button Remapper - bxActions Pro \\u002f Coffee\"],[\"Trinomial Factoring Wizard\"],[\"CB Frequencies\"],[\"Antenna Tool Premium\"],[\"Frequencies\"],[\"CF-Bench Pro\"],[\"Battery HD Pro\"],[\"Automagic * Automation\"],[\"FlashLight HD LED Pro\"],[\"UFO-CQ\"],[\"25WPM Amateur ham radio Koch CW Morse code trainer\"],[\"DCUO|CR Calculator Pro\"],[\"Servidor Privado CR y CoC - Royale Servers PRO\"],[\"CZ-Cyberon Voice Commander\"],[\"Scale Models DB\"],[\"ReDNAKET DB Normalization Tool\"],[\"db Meter - sound level meter with data logging\"],[\"Droidbug BusyBox Advance PRO\"],[\"Penny Puss\"],[\"Advanced Download Manager Pro\"],[\"DM Die Roller 9000\"],[\"Deep Sleep Battery Saver Pro\"],[\"iCam - Webcam Video Streaming\"],[\"DW Contacts widget\"],[\"KeePass DX Pro\"],[\"Electrician Calculator Pro\"],[\"EC music dictionary\"],[\"Silence Premium Do Not Disturb\"],[\"Trazado de tuberia El Tubero\"],[\"ai.type keyboard Plus + Emoji\"],[\"Tasker\"],[\"Advanced EX for HYUNDAI\"],[\"Advanced EX for MITSUBISHI\"],[\"Advanced EX for KIA\"],[\"Advanced EX for NISSAN\"],[\"Advanced EX for FIAT\"],[\"Advanced EX for RENAULT\"],[\"Volume Control Ex\"],[\"FiSwitch\"],[\"WiFi Monitor Pro - analyzer of Wi-Fi networks\"],[\"Wi-Fi Rabbit Unlock Key\"],[\"FJ Toolkit\"],[\"Kernel Manager for Franco Kernel \\u2728\"]],\"hovertemplate\":\"Category=TOOLS\\u003cbr\\u003eNumber of Installs=%{x}\\u003cbr\\u003eEstimated Revenue=%{y}\\u003cbr\\u003eApp=%{customdata[0]}\\u003cextra\\u003e\\u003c\\u002fextra\\u003e\",\"legendgroup\":\"TOOLS\",\"marker\":{\"color\":\"#19d3f3\",\"symbol\":\"circle\"},\"mode\":\"markers\",\"name\":\"TOOLS\",\"orientation\":\"v\",\"showlegend\":true,\"x\":[100.0,5000.0,1000.0,5000.0,10.0,100.0,10000.0,50.0,10000.0,5000.0,1000.0,10000.0,10000.0,10000.0,10000.0,10000.0,10.0,100.0,100.0,10.0,1000.0,1000.0,100.0,5000.0,100000.0,10000.0,50.0,100.0,500.0,500.0,10.0,10.0,1000.0,10000.0,5.0,10000.0,1000.0,100.0,500.0,500.0,1000.0,100000.0,10000.0,50000.0,10.0,10.0,500.0,100.0,1000.0,50.0,10.0,1.0,100.0,1000.0,50000.0,5.0,10000.0,10000.0,1000.0,100.0,1000.0,500.0,10000.0,10000.0,100000.0,1000000.0,5000.0,1000.0,5000.0,5000.0,5000.0,5000.0,100.0,10000.0,1000.0,5000.0,100.0,100000.0],\"xaxis\":\"x\",\"y\":[199.0,24950.0,1490.0,74950.0,259.9,599.0,9900.0,88.0,29900.000000000004,4950.0,3990.0,19900.0,25000.0,19900.0,29900.000000000004,29900.000000000004,9.9,499.0,299.0,29.900000000000002,2490.0,1990.0,199.0,4950.0,249000.00000000003,19900.0,99.5,399.0,1995.0,1995.0,9.9,9.9,990.0,25900.0,44.95,29900.000000000004,990.0,99.0,495.0,495.0,1490.0,399000.0,39000.0,149500.0,9.9,14.9,495.0,199.0,5990.0,149.5,9.9,1.49,399.0,4990.0,149500.0,4.95,32800.0,49900.0,990.0,599.0,14990.0,995.0,29500.0,19700.0,449000.0,2990000.0,24950.0,4990.0,24950.0,24950.0,24950.0,24950.0,149.0,19900.0,2990.0,5000.0,149.0,349000.0],\"yaxis\":\"y\",\"type\":\"scatter\"},{\"hovertemplate\":\"\\u003cb\\u003eOLS trendline\\u003c\\u002fb\\u003e\\u003cbr\\u003eRevenue = 3.00819 * Min Installs + 3440.43\\u003cbr\\u003eR\\u003csup\\u003e2\\u003c\\u002fsup\\u003e=0.995405\\u003cbr\\u003e\\u003cbr\\u003eCategory=TOOLS\\u003cbr\\u003eNumber of Installs=%{x}\\u003cbr\\u003eEstimated Revenue=%{y} \\u003cb\\u003e(trend)\\u003c\\u002fb\\u003e\\u003cextra\\u003e\\u003c\\u002fextra\\u003e\",\"legendgroup\":\"TOOLS\",\"marker\":{\"color\":\"#19d3f3\",\"symbol\":\"circle\"},\"mode\":\"lines\",\"name\":\"TOOLS\",\"showlegend\":false,\"x\":[1.0,5.0,5.0,10.0,10.0,10.0,10.0,10.0,10.0,10.0,10.0,50.0,50.0,50.0,100.0,100.0,100.0,100.0,100.0,100.0,100.0,100.0,100.0,100.0,100.0,100.0,500.0,500.0,500.0,500.0,500.0,500.0,1000.0,1000.0,1000.0,1000.0,1000.0,1000.0,1000.0,1000.0,1000.0,1000.0,1000.0,1000.0,1000.0,5000.0,5000.0,5000.0,5000.0,5000.0,5000.0,5000.0,5000.0,5000.0,5000.0,10000.0,10000.0,10000.0,10000.0,10000.0,10000.0,10000.0,10000.0,10000.0,10000.0,10000.0,10000.0,10000.0,10000.0,10000.0,10000.0,50000.0,50000.0,100000.0,100000.0,100000.0,100000.0,1000000.0],\"xaxis\":\"x\",\"y\":[3443.4349921874445,3455.4677442160787,3455.4677442160787,3470.5086842518713,3470.5086842518713,3470.5086842518713,3470.5086842518713,3470.5086842518713,3470.5086842518713,3470.5086842518713,3470.5086842518713,3590.8362045382128,3590.8362045382128,3590.8362045382128,3741.245604896139,3741.245604896139,3741.245604896139,3741.245604896139,3741.245604896139,3741.245604896139,3741.245604896139,3741.245604896139,3741.245604896139,3741.245604896139,3741.245604896139,3741.245604896139,4944.520807759551,4944.520807759551,4944.520807759551,4944.520807759551,4944.520807759551,4944.520807759551,6448.614811338814,6448.614811338814,6448.614811338814,6448.614811338814,6448.614811338814,6448.614811338814,6448.614811338814,6448.614811338814,6448.614811338814,6448.614811338814,6448.614811338814,6448.614811338814,6448.614811338814,18481.36683997293,18481.36683997293,18481.36683997293,18481.36683997293,18481.36683997293,18481.36683997293,18481.36683997293,18481.36683997293,18481.36683997293,18481.36683997293,33522.30687576557,33522.30687576557,33522.30687576557,33522.30687576557,33522.30687576557,33522.30687576557,33522.30687576557,33522.30687576557,33522.30687576557,33522.30687576557,33522.30687576557,33522.30687576557,33522.30687576557,33522.30687576557,33522.30687576557,33522.30687576557,153849.82716210673,153849.82716210673,304259.22752003314,304259.22752003314,304259.22752003314,304259.22752003314,3011628.433962709],\"yaxis\":\"y\",\"type\":\"scatter\"},{\"customdata\":[[\"Maps & GPS Navigation OsmAnd+\"],[\"Greater London A-Z 2016\"],[\"Es-Bg Offline Voice Translator\"],[\"Ultimate Public Campgrounds (Over 37,100 in US&CA)\"],[\"Navigator PRO - GPS Navigation with Offline Maps\"],[\"D.C. Driving\\u002fWalking Tours\"],[\"DC Metro Transit\"],[\"EG | Explore Folegandros\"],[\"Monastery of El Escorial\"],[\"YouCamp EU\"],[\"Campervan.Guide Pro\"],[\"XE Currency Pro\"]],\"hovertemplate\":\"Category=TRAVEL_AND_LOCAL\\u003cbr\\u003eNumber of Installs=%{x}\\u003cbr\\u003eEstimated Revenue=%{y}\\u003cbr\\u003eApp=%{customdata[0]}\\u003cextra\\u003e\\u003c\\u002fextra\\u003e\",\"legendgroup\":\"TRAVEL_AND_LOCAL\",\"marker\":{\"color\":\"#FF6692\",\"symbol\":\"circle\"},\"mode\":\"markers\",\"name\":\"TRAVEL_AND_LOCAL\",\"orientation\":\"v\",\"showlegend\":true,\"x\":[100000.0,1000.0,10.0,5000.0,50000.0,50.0,5000.0,0.0,1000.0,1000.0,10000.0,10000.0],\"xaxis\":\"x\",\"y\":[899000.0,8490.0,14.9,19950.0,124500.00000000001,249.5,14950.000000000002,0.0,1990.0,2560.0,59900.0,19900.0],\"yaxis\":\"y\",\"type\":\"scatter\"},{\"hovertemplate\":\"\\u003cb\\u003eOLS trendline\\u003c\\u002fb\\u003e\\u003cbr\\u003eRevenue = 7.98604 * Min Installs + -25868.4\\u003cbr\\u003eR\\u003csup\\u003e2\\u003c\\u002fsup\\u003e=0.884874\\u003cbr\\u003e\\u003cbr\\u003eCategory=TRAVEL_AND_LOCAL\\u003cbr\\u003eNumber of Installs=%{x}\\u003cbr\\u003eEstimated Revenue=%{y} \\u003cb\\u003e(trend)\\u003c\\u002fb\\u003e\\u003cextra\\u003e\\u003c\\u002fextra\\u003e\",\"legendgroup\":\"TRAVEL_AND_LOCAL\",\"marker\":{\"color\":\"#FF6692\",\"symbol\":\"circle\"},\"mode\":\"lines\",\"name\":\"TRAVEL_AND_LOCAL\",\"showlegend\":false,\"x\":[0.0,10.0,50.0,1000.0,1000.0,1000.0,5000.0,5000.0,10000.0,10000.0,50000.0,100000.0],\"xaxis\":\"x\",\"y\":[-25868.374043387717,-25788.513621202605,-25469.07193246216,-17882.331824876557,-17882.331824876557,-17882.331824876557,14061.837049168076,14061.837049168076,53992.04814172387,53992.04814172387,373433.73688217025,772735.8478077282],\"yaxis\":\"y\",\"type\":\"scatter\"},{\"customdata\":[[\"A41 WatchFace for Android Wear Smart Watch\"],[\"H*nest Meditation\"],[\"\\ud83d\\udc8e I'm rich\"],[\"I'm Rich - Trump Edition\"],[\"Kicker U\"],[\"Alarmy (Sleep If U Can) - Pro\"],[\"I am rich\"],[\"I am rich VIP\"],[\"I am extremely Rich\"],[\"I am Rich Person\"],[\"I am Millionaire - Richest guy in the town\"],[\"Sleep as Android Unlock\"],[\"Lunar Calendar\"],[\"Board Game Stats: Play tracking for tabletop games\"],[\"CA Speakers\"],[\"My Movies Pro - Movie & TV Collection Library\"],[\"AC DC Power Monitor\"],[\"The Secret Daily Teachings\"],[\"I'm Rich\\u002fEu sou Rico\\u002f\\u0623\\u0646\\u0627 \\u063a\\u0646\\u064a\\u002f\\u6211\\u5f88\\u6709\\u9322\"]],\"hovertemplate\":\"Category=LIFESTYLE\\u003cbr\\u003eNumber of Installs=%{x}\\u003cbr\\u003eEstimated Revenue=%{y}\\u003cbr\\u003eApp=%{customdata[0]}\\u003cextra\\u003e\\u003c\\u002fextra\\u003e\",\"legendgroup\":\"LIFESTYLE\",\"marker\":{\"color\":\"#B6E880\",\"symbol\":\"circle\"},\"mode\":\"markers\",\"name\":\"LIFESTYLE\",\"orientation\":\"v\",\"showlegend\":true,\"x\":[5000.0,5000.0,10000.0,10000.0,5000.0,10000.0,100000.0,10000.0,1000.0,1000.0,5000.0,1000000.0,1000.0,5000.0,100.0,10000.0,10.0,1000.0,0.0],\"xaxis\":\"x\",\"y\":[4950.0,9950.0,3999900.0,4000000.0,19950.0,24900.000000000004,39999000.0,2999900.0,379990.0,37990.0,12450.000000000002,5990000.0,4990.0,14950.000000000002,99.0,79900.0,30.4,4990.0,0.0],\"yaxis\":\"y\",\"type\":\"scatter\"},{\"hovertemplate\":\"\\u003cb\\u003eOLS trendline\\u003c\\u002fb\\u003e\\u003cbr\\u003eRevenue = 6.96366 * Min Installs + 2.59858e+06\\u003cbr\\u003eR\\u003csup\\u003e2\\u003c\\u002fsup\\u003e=0.030257\\u003cbr\\u003e\\u003cbr\\u003eCategory=LIFESTYLE\\u003cbr\\u003eNumber of Installs=%{x}\\u003cbr\\u003eEstimated Revenue=%{y} \\u003cb\\u003e(trend)\\u003c\\u002fb\\u003e\\u003cextra\\u003e\\u003c\\u002fextra\\u003e\",\"legendgroup\":\"LIFESTYLE\",\"marker\":{\"color\":\"#B6E880\",\"symbol\":\"circle\"},\"mode\":\"lines\",\"name\":\"LIFESTYLE\",\"showlegend\":false,\"x\":[0.0,10.0,100.0,1000.0,1000.0,1000.0,1000.0,5000.0,5000.0,5000.0,5000.0,5000.0,10000.0,10000.0,10000.0,10000.0,10000.0,100000.0,1000000.0],\"xaxis\":\"x\",\"y\":[2598580.1166731482,2598649.753239569,2599276.4823373533,2605543.7733152006,2605543.7733152006,2605543.7733152006,2605543.7733152006,2633398.3998834095,2633398.3998834095,2633398.3998834095,2633398.3998834095,2633398.3998834095,2668216.6830936703,2668216.6830936703,2668216.6830936703,2668216.6830936703,2668216.6830936703,3294945.78087837,9562236.758725367],\"yaxis\":\"y\",\"type\":\"scatter\"},{\"customdata\":[[\"Ulysse Speedometer Pro\"],[\"FORD V SERIES CALC - NO LIMIT\"],[\"\\u0411\\u0438\\u043b\\u0435\\u0442\\u044b \\u041f\\u0414\\u0414 CD 2019 PRO\"]],\"hovertemplate\":\"Category=AUTO_AND_VEHICLES\\u003cbr\\u003eNumber of Installs=%{x}\\u003cbr\\u003eEstimated Revenue=%{y}\\u003cbr\\u003eApp=%{customdata[0]}\\u003cextra\\u003e\\u003c\\u002fextra\\u003e\",\"legendgroup\":\"AUTO_AND_VEHICLES\",\"marker\":{\"color\":\"#FF97FF\",\"symbol\":\"circle\"},\"mode\":\"markers\",\"name\":\"AUTO_AND_VEHICLES\",\"orientation\":\"v\",\"showlegend\":true,\"x\":[50000.0,50.0,100.0],\"xaxis\":\"x\",\"y\":[99500.0,499.5,149.0],\"yaxis\":\"y\",\"type\":\"scatter\"},{\"hovertemplate\":\"\\u003cb\\u003eOLS trendline\\u003c\\u002fb\\u003e\\u003cbr\\u003eRevenue = 1.98649 * Min Installs + 175.376\\u003cbr\\u003eR\\u003csup\\u003e2\\u003c\\u002fsup\\u003e=0.999985\\u003cbr\\u003e\\u003cbr\\u003eCategory=AUTO_AND_VEHICLES\\u003cbr\\u003eNumber of Installs=%{x}\\u003cbr\\u003eEstimated Revenue=%{y} \\u003cb\\u003e(trend)\\u003c\\u002fb\\u003e\\u003cextra\\u003e\\u003c\\u002fextra\\u003e\",\"legendgroup\":\"AUTO_AND_VEHICLES\",\"marker\":{\"color\":\"#FF97FF\",\"symbol\":\"circle\"},\"mode\":\"lines\",\"name\":\"AUTO_AND_VEHICLES\",\"showlegend\":false,\"x\":[50.0,100.0,50000.0],\"xaxis\":\"x\",\"y\":[274.7004256757332,374.02482439870596,99499.77474992549],\"yaxis\":\"y\",\"type\":\"scatter\"},{\"customdata\":[[\"Q Alerts: QAnon Drop Notifications, Research +++\"],[\"\\u00c9galit\\u00e9 et R\\u00e9conciliation\"]],\"hovertemplate\":\"Category=NEWS_AND_MAGAZINES\\u003cbr\\u003eNumber of Installs=%{x}\\u003cbr\\u003eEstimated Revenue=%{y}\\u003cbr\\u003eApp=%{customdata[0]}\\u003cextra\\u003e\\u003c\\u002fextra\\u003e\",\"legendgroup\":\"NEWS_AND_MAGAZINES\",\"marker\":{\"color\":\"#FECB52\",\"symbol\":\"circle\"},\"mode\":\"markers\",\"name\":\"NEWS_AND_MAGAZINES\",\"orientation\":\"v\",\"showlegend\":true,\"x\":[5000.0,500.0],\"xaxis\":\"x\",\"y\":[4950.0,1495.0],\"yaxis\":\"y\",\"type\":\"scatter\"},{\"hovertemplate\":\"\\u003cb\\u003eOLS trendline\\u003c\\u002fb\\u003e\\u003cbr\\u003eRevenue = 0.767778 * Min Installs + 1111.11\\u003cbr\\u003eR\\u003csup\\u003e2\\u003c\\u002fsup\\u003e=1.000000\\u003cbr\\u003e\\u003cbr\\u003eCategory=NEWS_AND_MAGAZINES\\u003cbr\\u003eNumber of Installs=%{x}\\u003cbr\\u003eEstimated Revenue=%{y} \\u003cb\\u003e(trend)\\u003c\\u002fb\\u003e\\u003cextra\\u003e\\u003c\\u002fextra\\u003e\",\"legendgroup\":\"NEWS_AND_MAGAZINES\",\"marker\":{\"color\":\"#FECB52\",\"symbol\":\"circle\"},\"mode\":\"lines\",\"name\":\"NEWS_AND_MAGAZINES\",\"showlegend\":false,\"x\":[500.0,5000.0],\"xaxis\":\"x\",\"y\":[1494.9999999999995,4949.999999999999],\"yaxis\":\"y\",\"type\":\"scatter\"},{\"customdata\":[[\"Shopping List S PRO\"],[\"Penny Finder\"]],\"hovertemplate\":\"Category=SHOPPING\\u003cbr\\u003eNumber of Installs=%{x}\\u003cbr\\u003eEstimated Revenue=%{y}\\u003cbr\\u003eApp=%{customdata[0]}\\u003cextra\\u003e\\u003c\\u002fextra\\u003e\",\"legendgroup\":\"SHOPPING\",\"marker\":{\"color\":\"#636efa\",\"symbol\":\"circle\"},\"mode\":\"markers\",\"name\":\"SHOPPING\",\"orientation\":\"v\",\"showlegend\":true,\"x\":[100.0,10000.0],\"xaxis\":\"x\",\"y\":[249.00000000000003,29900.000000000004],\"yaxis\":\"y\",\"type\":\"scatter\"},{\"hovertemplate\":\"\\u003cb\\u003eOLS trendline\\u003c\\u002fb\\u003e\\u003cbr\\u003eRevenue = 2.99505 * Min Installs + -50.5051\\u003cbr\\u003eR\\u003csup\\u003e2\\u003c\\u002fsup\\u003e=1.000000\\u003cbr\\u003e\\u003cbr\\u003eCategory=SHOPPING\\u003cbr\\u003eNumber of Installs=%{x}\\u003cbr\\u003eEstimated Revenue=%{y} \\u003cb\\u003e(trend)\\u003c\\u002fb\\u003e\\u003cextra\\u003e\\u003c\\u002fextra\\u003e\",\"legendgroup\":\"SHOPPING\",\"marker\":{\"color\":\"#636efa\",\"symbol\":\"circle\"},\"mode\":\"lines\",\"name\":\"SHOPPING\",\"showlegend\":false,\"x\":[100.0,10000.0],\"xaxis\":\"x\",\"y\":[248.99999999999915,29900.000000000004],\"yaxis\":\"y\",\"type\":\"scatter\"},{\"customdata\":[[\"Don't Panic with Andrew J.\"],[\"Hey AJ! It's Saturday!\"],[\"Al'Quran Bahasa Indonesia PRO\"],[\"BC MVA Fines\"],[\"17th Edition Cable Sizer\"],[\"ch-mm Dict\"],[\"CZ-70 (CZ-50) pistol explained\"],[\"CZ-52 pistol explained\"],[\"CZ-27 pistol explained\"],[\"CZ-45 pistol explained\"],[\"Pistolet CZ-70 CZ-50 expliqu\\u00e9\"],[\"CZ-38 (vz 38) pistol explained\"],[\"Reksio cz. 1\"],[\"10,000 Quotes DB (Premium)\"],[\"Dungeons and Dragons DM Tools\"],[\"Cossack Dictionary (DN)\"],[\"Officiel du SCRABBLE LAROUSSE\"],[\"Schlaumeier\"],[\"O C\\u00e9u e o Inferno\"],[\"EU RCD Guide\"],[\"FN pistol Model 1906 explained\"],[\"FN pistol model 1903 explained\"],[\"The FN \\\"Baby\\\" pistol explained\"],[\"FN FAL rifle explained\"],[\"The FN HP pistol explained\"],[\"FN model 1900 pistol explained\"],[\"Pistolet FN GP35 expliqu\\u00e9\"],[\"Pistolet FN 1906 expliqu\\u00e9\"]],\"hovertemplate\":\"Category=BOOKS_AND_REFERENCE\\u003cbr\\u003eNumber of Installs=%{x}\\u003cbr\\u003eEstimated Revenue=%{y}\\u003cbr\\u003eApp=%{customdata[0]}\\u003cextra\\u003e\\u003c\\u002fextra\\u003e\",\"legendgroup\":\"BOOKS_AND_REFERENCE\",\"marker\":{\"color\":\"#EF553B\",\"symbol\":\"circle\"},\"mode\":\"markers\",\"name\":\"BOOKS_AND_REFERENCE\",\"orientation\":\"v\",\"showlegend\":true,\"x\":[5000.0,100.0,10000.0,50.0,1000.0,10.0,10.0,10.0,10.0,10.0,1.0,5.0,10.0,500.0,1000.0,10.0,5000.0,5.0,500.0,10.0,10.0,10.0,10.0,10.0,10.0,10.0,5.0,10.0],\"xaxis\":\"x\",\"y\":[14950.000000000002,399.0,44900.0,87.5,3080.0,19.6,59.900000000000006,59.900000000000006,59.900000000000006,54.900000000000006,5.99,29.950000000000003,9.9,495.0,1990.0,29.900000000000002,23000.0,4.95,495.0,36.1,54.900000000000006,64.9,59.900000000000006,64.9,64.9,64.9,29.950000000000003,54.900000000000006],\"yaxis\":\"y\",\"type\":\"scatter\"},{\"hovertemplate\":\"\\u003cb\\u003eOLS trendline\\u003c\\u002fb\\u003e\\u003cbr\\u003eRevenue = 4.27679 * Min Installs + -338.959\\u003cbr\\u003eR\\u003csup\\u003e2\\u003c\\u002fsup\\u003e=0.976957\\u003cbr\\u003e\\u003cbr\\u003eCategory=BOOKS_AND_REFERENCE\\u003cbr\\u003eNumber of Installs=%{x}\\u003cbr\\u003eEstimated Revenue=%{y} \\u003cb\\u003e(trend)\\u003c\\u002fb\\u003e\\u003cextra\\u003e\\u003c\\u002fextra\\u003e\",\"legendgroup\":\"BOOKS_AND_REFERENCE\",\"marker\":{\"color\":\"#EF553B\",\"symbol\":\"circle\"},\"mode\":\"lines\",\"name\":\"BOOKS_AND_REFERENCE\",\"showlegend\":false,\"x\":[1.0,5.0,5.0,5.0,10.0,10.0,10.0,10.0,10.0,10.0,10.0,10.0,10.0,10.0,10.0,10.0,10.0,10.0,10.0,50.0,100.0,500.0,500.0,1000.0,1000.0,5000.0,5000.0,10000.0],\"xaxis\":\"x\",\"y\":[-334.68207217779917,-317.57492033633946,-317.57492033633946,-317.57492033633946,-296.19098053451484,-296.19098053451484,-296.19098053451484,-296.19098053451484,-296.19098053451484,-296.19098053451484,-296.19098053451484,-296.19098053451484,-296.19098053451484,-296.19098053451484,-296.19098053451484,-296.19098053451484,-296.19098053451484,-296.19098053451484,-296.19098053451484,-125.11946211991778,88.71993589832852,1799.435120044299,1799.435120044299,3937.829100226762,3937.829100226762,21044.980941686463,21044.980941686463,42428.920743511095],\"yaxis\":\"y\",\"type\":\"scatter\"},{\"customdata\":[[\"W-History Standalone\"],[\"WhatsFake Pro (Ad free)\"],[\"Ak Parti Yard\\u0131m Toplama\"]],\"hovertemplate\":\"Category=SOCIAL\\u003cbr\\u003eNumber of Installs=%{x}\\u003cbr\\u003eEstimated Revenue=%{y}\\u003cbr\\u003eApp=%{customdata[0]}\\u003cextra\\u003e\\u003c\\u002fextra\\u003e\",\"legendgroup\":\"SOCIAL\",\"marker\":{\"color\":\"#00cc96\",\"symbol\":\"circle\"},\"mode\":\"markers\",\"name\":\"SOCIAL\",\"orientation\":\"v\",\"showlegend\":true,\"x\":[1000.0,5000.0,0.0],\"xaxis\":\"x\",\"y\":[990.0,4950.0,0.0],\"yaxis\":\"y\",\"type\":\"scatter\"},{\"hovertemplate\":\"\\u003cb\\u003eOLS trendline\\u003c\\u002fb\\u003e\\u003cbr\\u003eRevenue = 0.99 * Min Installs + -1.87378e-13\\u003cbr\\u003eR\\u003csup\\u003e2\\u003c\\u002fsup\\u003e=1.000000\\u003cbr\\u003e\\u003cbr\\u003eCategory=SOCIAL\\u003cbr\\u003eNumber of Installs=%{x}\\u003cbr\\u003eEstimated Revenue=%{y} \\u003cb\\u003e(trend)\\u003c\\u002fb\\u003e\\u003cextra\\u003e\\u003c\\u002fextra\\u003e\",\"legendgroup\":\"SOCIAL\",\"marker\":{\"color\":\"#00cc96\",\"symbol\":\"circle\"},\"mode\":\"lines\",\"name\":\"SOCIAL\",\"showlegend\":false,\"x\":[0.0,1000.0,5000.0],\"xaxis\":\"x\",\"y\":[-1.873778909811108e-13,990.0,4950.000000000001],\"yaxis\":\"y\",\"type\":\"scatter\"},{\"customdata\":[[\"X Launcher Pro: PhoneX Theme, OS11 Control Center\"],[\"X Launcher Pro - IOS Style Theme & Control Center\"],[\"X Launcher Prime: With OS Style Theme & No Ads\"]],\"hovertemplate\":\"Category=ART_AND_DESIGN\\u003cbr\\u003eNumber of Installs=%{x}\\u003cbr\\u003eEstimated Revenue=%{y}\\u003cbr\\u003eApp=%{customdata[0]}\\u003cextra\\u003e\\u003c\\u002fextra\\u003e\",\"legendgroup\":\"ART_AND_DESIGN\",\"marker\":{\"color\":\"#ab63fa\",\"symbol\":\"circle\"},\"mode\":\"markers\",\"name\":\"ART_AND_DESIGN\",\"orientation\":\"v\",\"showlegend\":true,\"x\":[5000.0,10000.0,1000.0],\"xaxis\":\"x\",\"y\":[9950.0,19900.0,1990.0],\"yaxis\":\"y\",\"type\":\"scatter\"},{\"hovertemplate\":\"\\u003cb\\u003eOLS trendline\\u003c\\u002fb\\u003e\\u003cbr\\u003eRevenue = 1.99 * Min Installs + -1.85185e-13\\u003cbr\\u003eR\\u003csup\\u003e2\\u003c\\u002fsup\\u003e=1.000000\\u003cbr\\u003e\\u003cbr\\u003eCategory=ART_AND_DESIGN\\u003cbr\\u003eNumber of Installs=%{x}\\u003cbr\\u003eEstimated Revenue=%{y} \\u003cb\\u003e(trend)\\u003c\\u002fb\\u003e\\u003cextra\\u003e\\u003c\\u002fextra\\u003e\",\"legendgroup\":\"ART_AND_DESIGN\",\"marker\":{\"color\":\"#ab63fa\",\"symbol\":\"circle\"},\"mode\":\"lines\",\"name\":\"ART_AND_DESIGN\",\"showlegend\":false,\"x\":[1000.0,5000.0,10000.0],\"xaxis\":\"x\",\"y\":[1990.0,9950.000000000002,19900.000000000004],\"yaxis\":\"y\",\"type\":\"scatter\"},{\"customdata\":[[\"Flud (Ad free)\"],[\"tTorrent - ad free\"],[\"BSPlayer\"],[\"Online TV CZ\\u002fSK PRO\"]],\"hovertemplate\":\"Category=VIDEO_PLAYERS\\u003cbr\\u003eNumber of Installs=%{x}\\u003cbr\\u003eEstimated Revenue=%{y}\\u003cbr\\u003eApp=%{customdata[0]}\\u003cextra\\u003e\\u003c\\u002fextra\\u003e\",\"legendgroup\":\"VIDEO_PLAYERS\",\"marker\":{\"color\":\"#FFA15A\",\"symbol\":\"circle\"},\"mode\":\"markers\",\"name\":\"VIDEO_PLAYERS\",\"orientation\":\"v\",\"showlegend\":true,\"x\":[10000.0,10000.0,50000.0,1000.0],\"xaxis\":\"x\",\"y\":[14900.0,19900.0,299500.0,990.0],\"yaxis\":\"y\",\"type\":\"scatter\"},{\"hovertemplate\":\"\\u003cb\\u003eOLS trendline\\u003c\\u002fb\\u003e\\u003cbr\\u003eRevenue = 6.50536 * Min Installs + -31647.6\\u003cbr\\u003eR\\u003csup\\u003e2\\u003c\\u002fsup\\u003e=0.980031\\u003cbr\\u003e\\u003cbr\\u003eCategory=VIDEO_PLAYERS\\u003cbr\\u003eNumber of Installs=%{x}\\u003cbr\\u003eEstimated Revenue=%{y} \\u003cb\\u003e(trend)\\u003c\\u002fb\\u003e\\u003cextra\\u003e\\u003c\\u002fextra\\u003e\",\"legendgroup\":\"VIDEO_PLAYERS\",\"marker\":{\"color\":\"#FFA15A\",\"symbol\":\"circle\"},\"mode\":\"lines\",\"name\":\"VIDEO_PLAYERS\",\"showlegend\":false,\"x\":[1000.0,10000.0,10000.0,50000.0],\"xaxis\":\"x\",\"y\":[-25142.22280062465,33405.98646538265,33405.98646538265,293620.24986985954],\"yaxis\":\"y\",\"type\":\"scatter\"},{\"customdata\":[[\"I Am Rich Premium\"],[\"I am Rich!\"],[\"I am rich(premium)\"],[\"I am Rich Premium Plus\"],[\"I am rich (Most expensive app)\"],[\"I am Rich\"],[\"I AM RICH PRO PLUS\"],[\"Ba Financial Calculator plus\"],[\"Financial Calculator BA Chien.\"],[\"BA Pro Financial Calculator\"],[\"My Budget Book\"],[\"Bitcoin BX Thailand PRO\"],[\"amm dz\"],[\"Dz kayas\"],[\"Eu sou Rico\"],[\"Eu Sou Rico\"],[\"Ray Financial Calculator Pro\"]],\"hovertemplate\":\"Category=FINANCE\\u003cbr\\u003eNumber of Installs=%{x}\\u003cbr\\u003eEstimated Revenue=%{y}\\u003cbr\\u003eApp=%{customdata[0]}\\u003cextra\\u003e\\u003c\\u002fextra\\u003e\",\"legendgroup\":\"FINANCE\",\"marker\":{\"color\":\"#19d3f3\",\"symbol\":\"circle\"},\"mode\":\"markers\",\"name\":\"FINANCE\",\"orientation\":\"v\",\"showlegend\":true,\"x\":[50000.0,1000.0,5000.0,10000.0,1000.0,5000.0,1000.0,1000.0,500.0,1000.0,100000.0,100.0,1.0,1.0,0.0,0.0,10000.0],\"xaxis\":\"x\",\"y\":[19999500.0,399990.0,1999950.0,189899.99999999997,399990.0,1999950.0,399990.0,3990.0,1995.0,1990.0,299000.0,499.0,5.99,28.99,0.0,0.0,29900.000000000004],\"yaxis\":\"y\",\"type\":\"scatter\"},{\"hovertemplate\":\"\\u003cb\\u003eOLS trendline\\u003c\\u002fb\\u003e\\u003cbr\\u003eRevenue = 71.9926 * Min Installs + 727336\\u003cbr\\u003eR\\u003csup\\u003e2\\u003c\\u002fsup\\u003e=0.150431\\u003cbr\\u003e\\u003cbr\\u003eCategory=FINANCE\\u003cbr\\u003eNumber of Installs=%{x}\\u003cbr\\u003eEstimated Revenue=%{y} \\u003cb\\u003e(trend)\\u003c\\u002fb\\u003e\\u003cextra\\u003e\\u003c\\u002fextra\\u003e\",\"legendgroup\":\"FINANCE\",\"marker\":{\"color\":\"#19d3f3\",\"symbol\":\"circle\"},\"mode\":\"lines\",\"name\":\"FINANCE\",\"showlegend\":false,\"x\":[0.0,0.0,1.0,1.0,100.0,500.0,1000.0,1000.0,1000.0,1000.0,1000.0,5000.0,5000.0,10000.0,10000.0,50000.0,100000.0],\"xaxis\":\"x\",\"y\":[727335.5980906676,727335.5980906676,727407.5907082713,727407.5907082713,734534.859851025,763331.906892455,799328.2156942423,799328.2156942423,799328.2156942423,799328.2156942423,799328.2156942423,1087298.6861085407,1087298.6861085407,1447261.7741264137,1447261.7741264137,4326966.478269398,7926597.358448129],\"yaxis\":\"y\",\"type\":\"scatter\"},{\"customdata\":[[\"BringGo AU & NZ\"],[\"BackCountry Navigator TOPO GPS PRO\"],[\"CE Map - Interactive Conan Exiles Map\"],[\"Paris ci la Sortie du M\\u00e9tro\"],[\"Jeppesen CR Flight Computer\"]],\"hovertemplate\":\"Category=MAPS_AND_NAVIGATION\\u003cbr\\u003eNumber of Installs=%{x}\\u003cbr\\u003eEstimated Revenue=%{y}\\u003cbr\\u003eApp=%{customdata[0]}\\u003cextra\\u003e\\u003c\\u002fextra\\u003e\",\"legendgroup\":\"MAPS_AND_NAVIGATION\",\"marker\":{\"color\":\"#FF6692\",\"symbol\":\"circle\"},\"mode\":\"markers\",\"name\":\"MAPS_AND_NAVIGATION\",\"orientation\":\"v\",\"showlegend\":true,\"x\":[10000.0,100000.0,1000.0,10000.0,100.0],\"xaxis\":\"x\",\"y\":[9900.0,1199000.0,990.0,29900.000000000004,999.0],\"yaxis\":\"y\",\"type\":\"scatter\"},{\"hovertemplate\":\"\\u003cb\\u003eOLS trendline\\u003c\\u002fb\\u003e\\u003cbr\\u003eRevenue = 12.4171 * Min Installs + -52584.7\\u003cbr\\u003eR\\u003csup\\u003e2\\u003c\\u002fsup\\u003e=0.991090\\u003cbr\\u003e\\u003cbr\\u003eCategory=MAPS_AND_NAVIGATION\\u003cbr\\u003eNumber of Installs=%{x}\\u003cbr\\u003eEstimated Revenue=%{y} \\u003cb\\u003e(trend)\\u003c\\u002fb\\u003e\\u003cextra\\u003e\\u003c\\u002fextra\\u003e\",\"legendgroup\":\"MAPS_AND_NAVIGATION\",\"marker\":{\"color\":\"#FF6692\",\"symbol\":\"circle\"},\"mode\":\"lines\",\"name\":\"MAPS_AND_NAVIGATION\",\"showlegend\":false,\"x\":[100.0,1000.0,10000.0,10000.0,100000.0],\"xaxis\":\"x\",\"y\":[-51342.96683309561,-40167.56508559204,71586.45238944366,71586.45238944366,1189126.6271398005],\"yaxis\":\"y\",\"type\":\"scatter\"},{\"customdata\":[[\"Baby Connect (activity log)\"],[\"SharedCare\\u2122 Co-parenting\"]],\"hovertemplate\":\"Category=PARENTING\\u003cbr\\u003eNumber of Installs=%{x}\\u003cbr\\u003eEstimated Revenue=%{y}\\u003cbr\\u003eApp=%{customdata[0]}\\u003cextra\\u003e\\u003c\\u002fextra\\u003e\",\"legendgroup\":\"PARENTING\",\"marker\":{\"color\":\"#B6E880\",\"symbol\":\"circle\"},\"mode\":\"markers\",\"name\":\"PARENTING\",\"orientation\":\"v\",\"showlegend\":true,\"x\":[50000.0,100.0],\"xaxis\":\"x\",\"y\":[249500.0,459.0],\"yaxis\":\"y\",\"type\":\"scatter\"},{\"hovertemplate\":\"\\u003cb\\u003eOLS trendline\\u003c\\u002fb\\u003e\\u003cbr\\u003eRevenue = 4.9908 * Min Installs + -40.0802\\u003cbr\\u003eR\\u003csup\\u003e2\\u003c\\u002fsup\\u003e=1.000000\\u003cbr\\u003e\\u003cbr\\u003eCategory=PARENTING\\u003cbr\\u003eNumber of Installs=%{x}\\u003cbr\\u003eEstimated Revenue=%{y} \\u003cb\\u003e(trend)\\u003c\\u002fb\\u003e\\u003cextra\\u003e\\u003c\\u002fextra\\u003e\",\"legendgroup\":\"PARENTING\",\"marker\":{\"color\":\"#B6E880\",\"symbol\":\"circle\"},\"mode\":\"lines\",\"name\":\"PARENTING\",\"showlegend\":false,\"x\":[100.0,50000.0],\"xaxis\":\"x\",\"y\":[458.99999999998806,249500.0000000001],\"yaxis\":\"y\",\"type\":\"scatter\"},{\"customdata\":[[\"Socle Commun BO du 23-04-2015\"]],\"hovertemplate\":\"Category=LIBRARIES_AND_DEMO\\u003cbr\\u003eNumber of Installs=%{x}\\u003cbr\\u003eEstimated Revenue=%{y}\\u003cbr\\u003eApp=%{customdata[0]}\\u003cextra\\u003e\\u003c\\u002fextra\\u003e\",\"legendgroup\":\"LIBRARIES_AND_DEMO\",\"marker\":{\"color\":\"#FF97FF\",\"symbol\":\"circle\"},\"mode\":\"markers\",\"name\":\"LIBRARIES_AND_DEMO\",\"orientation\":\"v\",\"showlegend\":true,\"x\":[100.0],\"xaxis\":\"x\",\"y\":[99.0],\"yaxis\":\"y\",\"type\":\"scatter\"},{\"hovertemplate\":\"Category=LIBRARIES_AND_DEMO\\u003cextra\\u003e\\u003c\\u002fextra\\u003e\",\"legendgroup\":\"LIBRARIES_AND_DEMO\",\"marker\":{\"color\":\"#FF97FF\",\"symbol\":\"circle\"},\"mode\":\"lines\",\"name\":\"LIBRARIES_AND_DEMO\",\"showlegend\":false,\"xaxis\":\"x\",\"yaxis\":\"y\",\"type\":\"scatter\"},{\"customdata\":[[\"BP Fitness Lead Scanner\"]],\"hovertemplate\":\"Category=EVENTS\\u003cbr\\u003eNumber of Installs=%{x}\\u003cbr\\u003eEstimated Revenue=%{y}\\u003cbr\\u003eApp=%{customdata[0]}\\u003cextra\\u003e\\u003c\\u002fextra\\u003e\",\"legendgroup\":\"EVENTS\",\"marker\":{\"color\":\"#FECB52\",\"symbol\":\"circle\"},\"mode\":\"markers\",\"name\":\"EVENTS\",\"orientation\":\"v\",\"showlegend\":true,\"x\":[1.0],\"xaxis\":\"x\",\"y\":[109.99],\"yaxis\":\"y\",\"type\":\"scatter\"},{\"hovertemplate\":\"Category=EVENTS\\u003cextra\\u003e\\u003c\\u002fextra\\u003e\",\"legendgroup\":\"EVENTS\",\"marker\":{\"color\":\"#FECB52\",\"symbol\":\"circle\"},\"mode\":\"lines\",\"name\":\"EVENTS\",\"showlegend\":false,\"xaxis\":\"x\",\"yaxis\":\"y\",\"type\":\"scatter\"}],                        {\"template\":{\"data\":{\"histogram2dcontour\":[{\"type\":\"histogram2dcontour\",\"colorbar\":{\"outlinewidth\":0,\"ticks\":\"\"},\"colorscale\":[[0.0,\"#0d0887\"],[0.1111111111111111,\"#46039f\"],[0.2222222222222222,\"#7201a8\"],[0.3333333333333333,\"#9c179e\"],[0.4444444444444444,\"#bd3786\"],[0.5555555555555556,\"#d8576b\"],[0.6666666666666666,\"#ed7953\"],[0.7777777777777778,\"#fb9f3a\"],[0.8888888888888888,\"#fdca26\"],[1.0,\"#f0f921\"]]}],\"choropleth\":[{\"type\":\"choropleth\",\"colorbar\":{\"outlinewidth\":0,\"ticks\":\"\"}}],\"histogram2d\":[{\"type\":\"histogram2d\",\"colorbar\":{\"outlinewidth\":0,\"ticks\":\"\"},\"colorscale\":[[0.0,\"#0d0887\"],[0.1111111111111111,\"#46039f\"],[0.2222222222222222,\"#7201a8\"],[0.3333333333333333,\"#9c179e\"],[0.4444444444444444,\"#bd3786\"],[0.5555555555555556,\"#d8576b\"],[0.6666666666666666,\"#ed7953\"],[0.7777777777777778,\"#fb9f3a\"],[0.8888888888888888,\"#fdca26\"],[1.0,\"#f0f921\"]]}],\"heatmap\":[{\"type\":\"heatmap\",\"colorbar\":{\"outlinewidth\":0,\"ticks\":\"\"},\"colorscale\":[[0.0,\"#0d0887\"],[0.1111111111111111,\"#46039f\"],[0.2222222222222222,\"#7201a8\"],[0.3333333333333333,\"#9c179e\"],[0.4444444444444444,\"#bd3786\"],[0.5555555555555556,\"#d8576b\"],[0.6666666666666666,\"#ed7953\"],[0.7777777777777778,\"#fb9f3a\"],[0.8888888888888888,\"#fdca26\"],[1.0,\"#f0f921\"]]}],\"heatmapgl\":[{\"type\":\"heatmapgl\",\"colorbar\":{\"outlinewidth\":0,\"ticks\":\"\"},\"colorscale\":[[0.0,\"#0d0887\"],[0.1111111111111111,\"#46039f\"],[0.2222222222222222,\"#7201a8\"],[0.3333333333333333,\"#9c179e\"],[0.4444444444444444,\"#bd3786\"],[0.5555555555555556,\"#d8576b\"],[0.6666666666666666,\"#ed7953\"],[0.7777777777777778,\"#fb9f3a\"],[0.8888888888888888,\"#fdca26\"],[1.0,\"#f0f921\"]]}],\"contourcarpet\":[{\"type\":\"contourcarpet\",\"colorbar\":{\"outlinewidth\":0,\"ticks\":\"\"}}],\"contour\":[{\"type\":\"contour\",\"colorbar\":{\"outlinewidth\":0,\"ticks\":\"\"},\"colorscale\":[[0.0,\"#0d0887\"],[0.1111111111111111,\"#46039f\"],[0.2222222222222222,\"#7201a8\"],[0.3333333333333333,\"#9c179e\"],[0.4444444444444444,\"#bd3786\"],[0.5555555555555556,\"#d8576b\"],[0.6666666666666666,\"#ed7953\"],[0.7777777777777778,\"#fb9f3a\"],[0.8888888888888888,\"#fdca26\"],[1.0,\"#f0f921\"]]}],\"surface\":[{\"type\":\"surface\",\"colorbar\":{\"outlinewidth\":0,\"ticks\":\"\"},\"colorscale\":[[0.0,\"#0d0887\"],[0.1111111111111111,\"#46039f\"],[0.2222222222222222,\"#7201a8\"],[0.3333333333333333,\"#9c179e\"],[0.4444444444444444,\"#bd3786\"],[0.5555555555555556,\"#d8576b\"],[0.6666666666666666,\"#ed7953\"],[0.7777777777777778,\"#fb9f3a\"],[0.8888888888888888,\"#fdca26\"],[1.0,\"#f0f921\"]]}],\"mesh3d\":[{\"type\":\"mesh3d\",\"colorbar\":{\"outlinewidth\":0,\"ticks\":\"\"}}],\"scatter\":[{\"fillpattern\":{\"fillmode\":\"overlay\",\"size\":10,\"solidity\":0.2},\"type\":\"scatter\"}],\"parcoords\":[{\"type\":\"parcoords\",\"line\":{\"colorbar\":{\"outlinewidth\":0,\"ticks\":\"\"}}}],\"scatterpolargl\":[{\"type\":\"scatterpolargl\",\"marker\":{\"colorbar\":{\"outlinewidth\":0,\"ticks\":\"\"}}}],\"bar\":[{\"error_x\":{\"color\":\"#2a3f5f\"},\"error_y\":{\"color\":\"#2a3f5f\"},\"marker\":{\"line\":{\"color\":\"#E5ECF6\",\"width\":0.5},\"pattern\":{\"fillmode\":\"overlay\",\"size\":10,\"solidity\":0.2}},\"type\":\"bar\"}],\"scattergeo\":[{\"type\":\"scattergeo\",\"marker\":{\"colorbar\":{\"outlinewidth\":0,\"ticks\":\"\"}}}],\"scatterpolar\":[{\"type\":\"scatterpolar\",\"marker\":{\"colorbar\":{\"outlinewidth\":0,\"ticks\":\"\"}}}],\"histogram\":[{\"marker\":{\"pattern\":{\"fillmode\":\"overlay\",\"size\":10,\"solidity\":0.2}},\"type\":\"histogram\"}],\"scattergl\":[{\"type\":\"scattergl\",\"marker\":{\"colorbar\":{\"outlinewidth\":0,\"ticks\":\"\"}}}],\"scatter3d\":[{\"type\":\"scatter3d\",\"line\":{\"colorbar\":{\"outlinewidth\":0,\"ticks\":\"\"}},\"marker\":{\"colorbar\":{\"outlinewidth\":0,\"ticks\":\"\"}}}],\"scattermapbox\":[{\"type\":\"scattermapbox\",\"marker\":{\"colorbar\":{\"outlinewidth\":0,\"ticks\":\"\"}}}],\"scatterternary\":[{\"type\":\"scatterternary\",\"marker\":{\"colorbar\":{\"outlinewidth\":0,\"ticks\":\"\"}}}],\"scattercarpet\":[{\"type\":\"scattercarpet\",\"marker\":{\"colorbar\":{\"outlinewidth\":0,\"ticks\":\"\"}}}],\"carpet\":[{\"aaxis\":{\"endlinecolor\":\"#2a3f5f\",\"gridcolor\":\"white\",\"linecolor\":\"white\",\"minorgridcolor\":\"white\",\"startlinecolor\":\"#2a3f5f\"},\"baxis\":{\"endlinecolor\":\"#2a3f5f\",\"gridcolor\":\"white\",\"linecolor\":\"white\",\"minorgridcolor\":\"white\",\"startlinecolor\":\"#2a3f5f\"},\"type\":\"carpet\"}],\"table\":[{\"cells\":{\"fill\":{\"color\":\"#EBF0F8\"},\"line\":{\"color\":\"white\"}},\"header\":{\"fill\":{\"color\":\"#C8D4E3\"},\"line\":{\"color\":\"white\"}},\"type\":\"table\"}],\"barpolar\":[{\"marker\":{\"line\":{\"color\":\"#E5ECF6\",\"width\":0.5},\"pattern\":{\"fillmode\":\"overlay\",\"size\":10,\"solidity\":0.2}},\"type\":\"barpolar\"}],\"pie\":[{\"automargin\":true,\"type\":\"pie\"}]},\"layout\":{\"autotypenumbers\":\"strict\",\"colorway\":[\"#636efa\",\"#EF553B\",\"#00cc96\",\"#ab63fa\",\"#FFA15A\",\"#19d3f3\",\"#FF6692\",\"#B6E880\",\"#FF97FF\",\"#FECB52\"],\"font\":{\"color\":\"#2a3f5f\"},\"hovermode\":\"closest\",\"hoverlabel\":{\"align\":\"left\"},\"paper_bgcolor\":\"white\",\"plot_bgcolor\":\"#E5ECF6\",\"polar\":{\"bgcolor\":\"#E5ECF6\",\"angularaxis\":{\"gridcolor\":\"white\",\"linecolor\":\"white\",\"ticks\":\"\"},\"radialaxis\":{\"gridcolor\":\"white\",\"linecolor\":\"white\",\"ticks\":\"\"}},\"ternary\":{\"bgcolor\":\"#E5ECF6\",\"aaxis\":{\"gridcolor\":\"white\",\"linecolor\":\"white\",\"ticks\":\"\"},\"baxis\":{\"gridcolor\":\"white\",\"linecolor\":\"white\",\"ticks\":\"\"},\"caxis\":{\"gridcolor\":\"white\",\"linecolor\":\"white\",\"ticks\":\"\"}},\"coloraxis\":{\"colorbar\":{\"outlinewidth\":0,\"ticks\":\"\"}},\"colorscale\":{\"sequential\":[[0.0,\"#0d0887\"],[0.1111111111111111,\"#46039f\"],[0.2222222222222222,\"#7201a8\"],[0.3333333333333333,\"#9c179e\"],[0.4444444444444444,\"#bd3786\"],[0.5555555555555556,\"#d8576b\"],[0.6666666666666666,\"#ed7953\"],[0.7777777777777778,\"#fb9f3a\"],[0.8888888888888888,\"#fdca26\"],[1.0,\"#f0f921\"]],\"sequentialminus\":[[0.0,\"#0d0887\"],[0.1111111111111111,\"#46039f\"],[0.2222222222222222,\"#7201a8\"],[0.3333333333333333,\"#9c179e\"],[0.4444444444444444,\"#bd3786\"],[0.5555555555555556,\"#d8576b\"],[0.6666666666666666,\"#ed7953\"],[0.7777777777777778,\"#fb9f3a\"],[0.8888888888888888,\"#fdca26\"],[1.0,\"#f0f921\"]],\"diverging\":[[0,\"#8e0152\"],[0.1,\"#c51b7d\"],[0.2,\"#de77ae\"],[0.3,\"#f1b6da\"],[0.4,\"#fde0ef\"],[0.5,\"#f7f7f7\"],[0.6,\"#e6f5d0\"],[0.7,\"#b8e186\"],[0.8,\"#7fbc41\"],[0.9,\"#4d9221\"],[1,\"#276419\"]]},\"xaxis\":{\"gridcolor\":\"white\",\"linecolor\":\"white\",\"ticks\":\"\",\"title\":{\"standoff\":15},\"zerolinecolor\":\"white\",\"automargin\":true,\"zerolinewidth\":2},\"yaxis\":{\"gridcolor\":\"white\",\"linecolor\":\"white\",\"ticks\":\"\",\"title\":{\"standoff\":15},\"zerolinecolor\":\"white\",\"automargin\":true,\"zerolinewidth\":2},\"scene\":{\"xaxis\":{\"backgroundcolor\":\"#E5ECF6\",\"gridcolor\":\"white\",\"linecolor\":\"white\",\"showbackground\":true,\"ticks\":\"\",\"zerolinecolor\":\"white\",\"gridwidth\":2},\"yaxis\":{\"backgroundcolor\":\"#E5ECF6\",\"gridcolor\":\"white\",\"linecolor\":\"white\",\"showbackground\":true,\"ticks\":\"\",\"zerolinecolor\":\"white\",\"gridwidth\":2},\"zaxis\":{\"backgroundcolor\":\"#E5ECF6\",\"gridcolor\":\"white\",\"linecolor\":\"white\",\"showbackground\":true,\"ticks\":\"\",\"zerolinecolor\":\"white\",\"gridwidth\":2}},\"shapedefaults\":{\"line\":{\"color\":\"#2a3f5f\"}},\"annotationdefaults\":{\"arrowcolor\":\"#2a3f5f\",\"arrowhead\":0,\"arrowwidth\":1},\"geo\":{\"bgcolor\":\"white\",\"landcolor\":\"#E5ECF6\",\"subunitcolor\":\"white\",\"showland\":true,\"showlakes\":true,\"lakecolor\":\"white\"},\"title\":{\"x\":0.05},\"mapbox\":{\"style\":\"light\"}}},\"xaxis\":{\"anchor\":\"y\",\"domain\":[0.0,1.0],\"title\":{\"text\":\"Number of Installs\"}},\"yaxis\":{\"anchor\":\"x\",\"domain\":[0.0,1.0],\"title\":{\"text\":\"Estimated Revenue\"}},\"legend\":{\"title\":{\"text\":\"Category\"},\"tracegroupgap\":0},\"title\":{\"text\":\"Revenue vs. Installs for Paid Apps\"}},                        {\"responsive\": true}                    ).then(function(){\n",
       "                            \n",
       "var gd = document.getElementById('99ea1279-1137-42b6-8e4f-e50198efba58');\n",
       "var x = new MutationObserver(function (mutations, observer) {{\n",
       "        var display = window.getComputedStyle(gd).display;\n",
       "        if (!display || display === 'none') {{\n",
       "            console.log([gd, 'removed!']);\n",
       "            Plotly.purge(gd);\n",
       "            observer.disconnect();\n",
       "        }}\n",
       "}});\n",
       "\n",
       "// Listen for the removal of the full notebook cells\n",
       "var notebookContainer = gd.closest('#notebook-container');\n",
       "if (notebookContainer) {{\n",
       "    x.observe(notebookContainer, {childList: true});\n",
       "}}\n",
       "\n",
       "// Listen for the clearing of the current output cell\n",
       "var outputEl = gd.closest('.output');\n",
       "if (outputEl) {{\n",
       "    x.observe(outputEl, {childList: true});\n",
       "}}\n",
       "\n",
       "                        })                };                });            </script>        </div>"
      ]
     },
     "metadata": {},
     "output_type": "display_data"
    }
   ],
   "source": [
    "fig.show()\n"
   ]
  },
  {
   "cell_type": "code",
   "execution_count": null,
   "id": "4966906e-1078-4f32-9c48-025d1bacef51",
   "metadata": {},
   "outputs": [],
   "source": []
  },
  {
   "cell_type": "code",
   "execution_count": null,
   "id": "80ce3ad9-0418-4229-a9a3-0413c2bbb6bf",
   "metadata": {},
   "outputs": [],
   "source": []
  }
 ],
 "metadata": {
  "kernelspec": {
   "display_name": "Python 3 (ipykernel)",
   "language": "python",
   "name": "python3"
  },
  "language_info": {
   "codemirror_mode": {
    "name": "ipython",
    "version": 3
   },
   "file_extension": ".py",
   "mimetype": "text/x-python",
   "name": "python",
   "nbconvert_exporter": "python",
   "pygments_lexer": "ipython3",
   "version": "3.13.1"
  }
 },
 "nbformat": 4,
 "nbformat_minor": 5
}
