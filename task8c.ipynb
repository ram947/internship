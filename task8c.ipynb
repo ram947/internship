{
 "cells": [
  {
   "cell_type": "code",
   "execution_count": 5,
   "id": "a4de1192-eab7-42e7-a830-ad808e264855",
   "metadata": {},
   "outputs": [
    {
     "name": "stdout",
     "output_type": "stream",
     "text": [
      " graph  works only between 6 PM IST to 9 PM .\n"
     ]
    }
   ],
   "source": [
    "import pandas as pd\n",
    "import plotly.express as px\n",
    "from datetime import datetime\n",
    "\n",
    "\n",
    "df = pd.read_csv(\"play store data.csv\")\n",
    "\n",
    "\n",
    "df[\"Installs\"] = df[\"Installs\"].fillna(\"0\")\n",
    "\n",
    "\n",
    "df[\"Installs\"] = df[\"Installs\"].astype(str).str.replace(r\"[^\\d]\", \"\", regex=True)\n",
    "\n",
    "\n",
    "df[\"Installs\"] = pd.to_numeric(df[\"Installs\"], errors=\"coerce\").fillna(0).astype(int)\n",
    "\n",
    "\n",
    "df[\"Last Updated\"] = df[\"Last Updated\"].astype(str)\n",
    "\n",
    "\n",
    "\n",
    "\n",
    "df = df[df[\"Last Updated\"].str.contains(r\"\\d{4}\", na=False)]\n",
    "\n",
    "\n",
    "df[\"Last Updated\"] = pd.to_datetime(df[\"Last Updated\"], errors=\"coerce\")\n",
    "\n",
    "\n",
    "df = df.dropna(subset=[\"Last Updated\"])\n",
    "\n",
    "\n",
    "df = df[\n",
    "    (df[\"Content Rating\"] == \"Teen\") &\n",
    "    (df[\"App\"].str.startswith(\"E\")) &\n",
    "    (df[\"Installs\"] > 10_000)\n",
    "]\n",
    "\n",
    "df[\"Month\"] = df[\"Last Updated\"].dt.to_period(\"M\")\n",
    "df_grouped = df.groupby([\"Month\", \"Category\"])[\"Installs\"].sum().reset_index()\n",
    "\n",
    "\n",
    "df_grouped[\"Previous Month Installs\"] = df_grouped.groupby(\"Category\")[\"Installs\"].shift(1)\n",
    "df_grouped[\"Growth Rate\"] = ((df_grouped[\"Installs\"] - df_grouped[\"Previous Month Installs\"]) /\n",
    "                             df_grouped[\"Previous Month Installs\"]) * 100\n",
    "\n",
    "\n",
    "df_grouped[\"Significant Growth\"] = df_grouped[\"Growth Rate\"] > 20\n",
    "df_grouped[\"Month\"] = df_grouped[\"Month\"].astype(str) \n",
    "\n",
    "\n",
    "current_time = datetime.now().time()\n",
    "start_time = datetime.strptime(\"18:00:00\", \"%H:%M:%S\").time()\n",
    "end_time = datetime.strptime(\"21:00:00\", \"%H:%M:%S\").time()\n",
    "\n",
    "if start_time <= current_time <= end_time:\n",
    "    fig = px.line(\n",
    "        df_grouped,\n",
    "        x=\"Month\",\n",
    "        y=\"Installs\",\n",
    "        color=\"Category\",\n",
    "        title=\"Total Installs Trend Over Time (Segmented by Category)\",\n",
    "        labels={\"Month\": \"Month\", \"Installs\": \"Total Installs\", \"Category\": \"App Category\"},\n",
    "        line_group=\"Category\"\n",
    "    )\n",
    "\n",
    "    for category in df_grouped[\"Category\"].unique():\n",
    "        df_cat = df_grouped[df_grouped[\"Category\"] == category]\n",
    "        fig.add_scatter(\n",
    "            x=df_cat.loc[df_cat[\"Significant Growth\"], \"Month\"],\n",
    "            y=df_cat.loc[df_cat[\"Significant Growth\"], \"Installs\"],\n",
    "            fill=\"tozeroy\",\n",
    "            mode=\"none\",\n",
    "            fillcolor=\"rgba(255, 0, 0, 0.2)\",\n",
    "            name=f\"Significant Growth ({category})\"\n",
    "        )\n",
    "\n",
    "    fig.show()\n",
    "else:\n",
    "    print(\" graph  works only between 6 PM IST to 9 PM .\")\n"
   ]
  },
  {
   "cell_type": "code",
   "execution_count": null,
   "id": "54db4d77-dfc8-4cd3-9824-24b0e401c976",
   "metadata": {},
   "outputs": [],
   "source": []
  },
  {
   "cell_type": "code",
   "execution_count": null,
   "id": "831784ed-422e-490d-ad79-09f5094e4166",
   "metadata": {},
   "outputs": [],
   "source": []
  }
 ],
 "metadata": {
  "kernelspec": {
   "display_name": "Python 3 (ipykernel)",
   "language": "python",
   "name": "python3"
  },
  "language_info": {
   "codemirror_mode": {
    "name": "ipython",
    "version": 3
   },
   "file_extension": ".py",
   "mimetype": "text/x-python",
   "name": "python",
   "nbconvert_exporter": "python",
   "pygments_lexer": "ipython3",
   "version": "3.13.1"
  }
 },
 "nbformat": 4,
 "nbformat_minor": 5
}
