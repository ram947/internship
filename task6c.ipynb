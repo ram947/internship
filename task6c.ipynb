{
 "cells": [
  {
   "cell_type": "code",
   "execution_count": 4,
   "id": "02a5e0a2-7895-44a5-b41c-7c1731318b44",
   "metadata": {},
   "outputs": [
    {
     "name": "stdout",
     "output_type": "stream",
     "text": [
      "graph works only between 4 PM IST to 6 PM .\n"
     ]
    }
   ],
   "source": [
    "import pandas as pd\n",
    "import plotly.express as px\n",
    "from datetime import datetime\n",
    "import pytz\n",
    "\n",
    "\n",
    "df = pd.read_csv('play store data.csv')  \n",
    "\n",
    "\n",
    "df[\"Reviews\"] = pd.to_numeric(df[\"Reviews\"], errors=\"coerce\")\n",
    "df[\"Rating\"] = pd.to_numeric(df[\"Rating\"], errors=\"coerce\")\n",
    "\n",
    "\n",
    "df = df[(df[\"Reviews\"] >= 10) & (df[\"Rating\"] < 4.0)]\n",
    "df = df[df[\"App\"].str.contains(\"C\", case=False, na=False)] \n",
    "\n",
    "\n",
    "category_counts = df[\"Category\"].value_counts()\n",
    "valid_categories = category_counts[category_counts > 50].index\n",
    "df = df[df[\"Category\"].isin(valid_categories)]\n",
    "\n",
    "ist = pytz.timezone(\"Asia/Kolkata\")\n",
    "current_time = datetime.now(ist).time()\n",
    "start_time = datetime.strptime(\"16:00:00\", \"%H:%M:%S\").time()\n",
    "end_time = datetime.strptime(\"18:00:00\", \"%H:%M:%S\").time()\n",
    "\n",
    "if start_time <= current_time <= end_time:\n",
    "  \n",
    "    fig = px.violin(df, x=\"Category\", y=\"Rating\", box=True, points=\"all\",\n",
    "                    title=\"Distribution of Ratings by Category\",\n",
    "                    labels={\"Rating\": \"App Ratings\", \"Category\": \"App Category\"})\n",
    "    fig.show()\n",
    "else:\n",
    "    print(\"graph works only between 4 PM IST to 6 PM .\")\n"
   ]
  },
  {
   "cell_type": "code",
   "execution_count": null,
   "id": "74bfbad6-2d0d-4cc3-8cae-d0f90bdfdfef",
   "metadata": {},
   "outputs": [],
   "source": []
  }
 ],
 "metadata": {
  "kernelspec": {
   "display_name": "Python 3 (ipykernel)",
   "language": "python",
   "name": "python3"
  },
  "language_info": {
   "codemirror_mode": {
    "name": "ipython",
    "version": 3
   },
   "file_extension": ".py",
   "mimetype": "text/x-python",
   "name": "python",
   "nbconvert_exporter": "python",
   "pygments_lexer": "ipython3",
   "version": "3.13.1"
  }
 },
 "nbformat": 4,
 "nbformat_minor": 5
}
