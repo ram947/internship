{
 "cells": [
  {
   "cell_type": "code",
   "execution_count": 3,
   "id": "1f4db325-e240-4dbf-8f88-3f475093d06c",
   "metadata": {},
   "outputs": [
    {
     "name": "stdout",
     "output_type": "stream",
     "text": [
      " The bubble chart is only visible between 5 PM and 7 PM IST.\n"
     ]
    }
   ],
   "source": [
    "import pandas as pd\n",
    "import plotly.express as px\n",
    "from datetime import datetime\n",
    "import pytz\n",
    "\n",
    "\n",
    "df = pd.read_csv(\"play store data.csv\")\n",
    "\n",
    "def convert_size(size):\n",
    "    if isinstance(size, str):\n",
    "        if \"M\" in size:\n",
    "            return float(size.replace(\"M\", \"\"))\n",
    "        elif \"K\" in size:\n",
    "            return float(size.replace(\"K\", \"\")) / 1024  \n",
    "    return None  \n",
    "\n",
    "df[\"Size\"] = df[\"Size\"].astype(str).apply(convert_size)\n",
    "\n",
    "\n",
    "df[\"Installs\"] = (\n",
    "    df[\"Installs\"]\n",
    "    .astype(str)\n",
    "    .str.replace(r\"[+,]\", \"\", regex=True) \n",
    "    .str.extract(r\"(\\d+)\")  \n",
    "    .dropna()  \n",
    "    .astype(float) \n",
    ")\n",
    "\n",
    "\n",
    "df[\"Rating\"] = pd.to_numeric(df[\"Rating\"], errors=\"coerce\")\n",
    "\n",
    "\n",
    "df_filtered = df[\n",
    "    (df[\"Category\"] == \"Games\") &\n",
    "    (df[\"Rating\"] > 3.5) &\n",
    "    (df[\"Installs\"] > 50000)\n",
    "]\n",
    "\n",
    "\n",
    "ist = pytz.timezone(\"Asia/Kolkata\")\n",
    "current_time = datetime.now(ist).time()\n",
    "\n",
    "\n",
    "start_time = datetime.strptime(\"17:00:00\", \"%H:%M:%S\").time()\n",
    "end_time = datetime.strptime(\"19:00:00\", \"%H:%M:%S\").time()\n",
    "\n",
    "\n",
    "if start_time <= current_time <= end_time:\n",
    "    fig = px.scatter(\n",
    "        df_filtered,\n",
    "        x=\"Size\",\n",
    "        y=\"Rating\",\n",
    "        size=\"Installs\",\n",
    "        hover_name=\"App\",  \n",
    "        title=\"App Size vs. Average Rating (Bubble Chart)\",\n",
    "        labels={\"Size\": \"App Size (MB)\", \"Rating\": \"Average Rating\", \"Installs\": \"Number of Installs\"},\n",
    "    )\n",
    "    fig.show()\n",
    "else:\n",
    "    print(\" The bubble chart is only visible between 5 PM and 7 PM IST.\")\n"
   ]
  },
  {
   "cell_type": "code",
   "execution_count": null,
   "id": "d3e707c2-f2ec-41fd-a4b3-57d3d2b5ab11",
   "metadata": {},
   "outputs": [],
   "source": []
  },
  {
   "cell_type": "code",
   "execution_count": null,
   "id": "c4b3fc0c-f5a7-4cc7-9aef-b712f40bcf0b",
   "metadata": {},
   "outputs": [],
   "source": []
  }
 ],
 "metadata": {
  "kernelspec": {
   "display_name": "Python 3 (ipykernel)",
   "language": "python",
   "name": "python3"
  },
  "language_info": {
   "codemirror_mode": {
    "name": "ipython",
    "version": 3
   },
   "file_extension": ".py",
   "mimetype": "text/x-python",
   "name": "python",
   "nbconvert_exporter": "python",
   "pygments_lexer": "ipython3",
   "version": "3.13.1"
  }
 },
 "nbformat": 4,
 "nbformat_minor": 5
}
