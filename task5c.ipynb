{
 "cells": [
  {
   "cell_type": "code",
   "execution_count": 5,
   "id": "7ed1481f-ac15-482f-929e-a3287d2c2fb9",
   "metadata": {},
   "outputs": [
    {
     "name": "stdout",
     "output_type": "stream",
     "text": [
      "graph works only between 3PM IST to 5 PM \n"
     ]
    }
   ],
   "source": [
    "import pandas as pd\n",
    "import plotly.express as px\n",
    "from datetime import datetime\n",
    "import pytz\n",
    "\n",
    "df = pd.read_csv('play store data.csv')  \n",
    "\n",
    "\n",
    "df[\"Last Updated\"] = pd.to_datetime(df[\"Last Updated\"], errors=\"coerce\")\n",
    "df = df[df[\"Last Updated\"].dt.month == 1]\n",
    "\n",
    "\n",
    "def convert_size(size):\n",
    "    if isinstance(size, str):\n",
    "        if \"M\" in size:\n",
    "            return float(size.replace(\"M\", \"\"))\n",
    "        elif \"K\" in size:\n",
    "            return float(size.replace(\"K\", \"\")) / 1024\n",
    "        elif \"G\" in size:\n",
    "            return float(size.replace(\"G\", \"\")) * 1024\n",
    "    return None\n",
    "\n",
    "df[\"Size\"] = df[\"Size\"].apply(convert_size)\n",
    "\n",
    "\n",
    "df = df[(df[\"Size\"] >= 10) & (df[\"Rating\"] >= 4.0)]\n",
    "\n",
    "\n",
    "df[\"Installs\"] = df[\"Installs\"].str.replace(r\"[+,]\", \"\", regex=True).astype(float)\n",
    "df[\"Reviews\"] = pd.to_numeric(df[\"Reviews\"], errors=\"coerce\")\n",
    "\n",
    "\n",
    "df_grouped = df.groupby(\"Category\").agg({\"Installs\": \"sum\", \"Rating\": \"mean\", \"Reviews\": \"sum\"}).reset_index()\n",
    "\n",
    "\n",
    "df_grouped = df_grouped.nlargest(10, \"Installs\")\n",
    "\n",
    "\n",
    "ist = pytz.timezone(\"Asia/Kolkata\")\n",
    "current_time = datetime.now(ist).time()\n",
    "start_time = datetime.strptime(\"15:00:00\", \"%H:%M:%S\").time()\n",
    "end_time = datetime.strptime(\"17:00:00\", \"%H:%M:%S\").time()\n",
    "\n",
    "if start_time <= current_time <= end_time:\n",
    "    # Create grouped bar chart\n",
    "    fig = px.bar(\n",
    "        df_grouped, \n",
    "        x=\"Category\", \n",
    "        y=[\"Rating\", \"Reviews\"],\n",
    "        title=\"Average Rating & Total Reviews for Top 10 Categories\",\n",
    "        labels={\"value\": \"Count\", \"variable\": \"Metric\"},\n",
    "        barmode=\"group\"\n",
    "    )\n",
    "    fig.show()\n",
    "else:\n",
    "    print(\"graph works only between 3PM IST to 5 PM \")\n"
   ]
  },
  {
   "cell_type": "code",
   "execution_count": null,
   "id": "84c236e3-82c5-48b7-963d-dca0c5411dd2",
   "metadata": {},
   "outputs": [],
   "source": []
  }
 ],
 "metadata": {
  "kernelspec": {
   "display_name": "Python 3 (ipykernel)",
   "language": "python",
   "name": "python3"
  },
  "language_info": {
   "codemirror_mode": {
    "name": "ipython",
    "version": 3
   },
   "file_extension": ".py",
   "mimetype": "text/x-python",
   "name": "python",
   "nbconvert_exporter": "python",
   "pygments_lexer": "ipython3",
   "version": "3.13.1"
  }
 },
 "nbformat": 4,
 "nbformat_minor": 5
}
