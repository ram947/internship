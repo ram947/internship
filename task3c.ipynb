{
 "cells": [
  {
   "cell_type": "code",
   "execution_count": 1,
   "id": "be56bb11-c84c-418b-81f7-79e3cda129e7",
   "metadata": {},
   "outputs": [
    {
     "name": "stdout",
     "output_type": "stream",
     "text": [
      "Graph not available outside 6 PM - 8 PM IST\n"
     ]
    }
   ],
   "source": [
    "import pandas as pd\n",
    "import plotly.express as px\n",
    "from datetime import datetime\n",
    "import pytz\n",
    "\n",
    "df = pd.read_csv('play store data.csv')\n",
    "\n",
    "df['Installs'] = pd.to_numeric(df['Installs'], errors='coerce')\n",
    "\n",
    "df = df[~df['Category'].str.startswith(('A', 'C', 'G', 'S'))]\n",
    "\n",
    "\n",
    "top_categories = df.groupby('Category', as_index=False)['Installs'].sum().nlargest(5, 'Installs')\n",
    "\n",
    "df_filtered = df[df['Category'].isin(top_categories['Category'])].copy()\n",
    "\n",
    "\n",
    "ist = pytz.timezone('Asia/Kolkata')\n",
    "current_time = datetime.now(ist)\n",
    "hour = current_time.hour\n",
    "\n",
    "\n",
    "if 16 <= hour < 20:\n",
    "    fig = px.choropleth(\n",
    "        df_filtered, locations=\"Category\", locationmode=\"ISO-3\",\n",
    "        color=\"Installs\", hover_name=\"Category\",\n",
    "        title=\"Global Installs by Category (Filtered)\",\n",
    "        color_continuous_scale=\"Blues\"\n",
    "    )\n",
    "    \n",
    "    fig.show()\n",
    "else:\n",
    "    print(\"Graph not available outside 6 PM - 8 PM IST\")"
   ]
  },
  {
   "cell_type": "code",
   "execution_count": 1,
   "id": "088430b1-fbf7-41b5-a499-efc20165faa7",
   "metadata": {},
   "outputs": [],
   "source": [
    "import pandas as pd\n",
    "import plotly.express as px\n",
    "from datetime import datetime\n",
    "import pytz\n"
   ]
  },
  {
   "cell_type": "code",
   "execution_count": 2,
   "id": "0ebe2f17-a528-468a-a37b-b20d3a358744",
   "metadata": {},
   "outputs": [],
   "source": [
    "df = pd.read_csv('play store data.csv')"
   ]
  },
  {
   "cell_type": "code",
   "execution_count": 3,
   "id": "902bd839-503d-43cd-bce2-bf7e5e16d95b",
   "metadata": {},
   "outputs": [],
   "source": [
    "df['Installs'] = pd.to_numeric(df['Installs'], errors='coerce')"
   ]
  },
  {
   "cell_type": "code",
   "execution_count": 4,
   "id": "83015e05-ad34-400e-bf5e-687bcfc592b5",
   "metadata": {},
   "outputs": [],
   "source": [
    "df = df[~df['Category'].str.startswith(('A', 'C', 'G', 'S'))]"
   ]
  },
  {
   "cell_type": "code",
   "execution_count": 5,
   "id": "943ef674-18a0-464e-a299-605e68bc2299",
   "metadata": {},
   "outputs": [],
   "source": [
    "top_categories = df.groupby('Category', as_index=False)['Installs'].sum().nlargest(5, 'Installs')\n"
   ]
  },
  {
   "cell_type": "code",
   "execution_count": 6,
   "id": "ab40233b-0acf-4881-9ccb-4a40d3fab8ef",
   "metadata": {},
   "outputs": [],
   "source": [
    "df_filtered = df[df['Category'].isin(top_categories['Category'])].copy()"
   ]
  },
  {
   "cell_type": "code",
   "execution_count": 7,
   "id": "98e84dd1-1ae2-49e3-b115-b305bf20feab",
   "metadata": {},
   "outputs": [],
   "source": [
    "ist = pytz.timezone('Asia/Kolkata')\n",
    "current_time = datetime.now(ist)\n",
    "hour = current_time.hour"
   ]
  },
  {
   "cell_type": "code",
   "execution_count": 11,
   "id": "bf183de9-609e-4eb4-b1ff-1ee420b3f2b1",
   "metadata": {},
   "outputs": [
    {
     "name": "stdout",
     "output_type": "stream",
     "text": [
      "Graph not available outside 6 PM - 8 PM IST\n"
     ]
    }
   ],
   "source": [
    "if 16 <= hour < 20:\n",
    "    fig = px.choropleth(\n",
    "        df_filtered, locations=\"Category\", locationmode=\"ISO-3\",\n",
    "        color=\"Installs\", hover_name=\"Category\",\n",
    "        title=\"Global Installs by Category (Filtered)\",\n",
    "        color_continuous_scale=\"Blues\"\n",
    "    )\n",
    "    fig.show()\n",
    "else:\n",
    "    print(\"Graph not available outside 6 PM - 8 PM IST\")"
   ]
  },
  {
   "cell_type": "code",
   "execution_count": null,
   "id": "19de0a05-fc73-4a61-b42d-36e71d8c83a8",
   "metadata": {},
   "outputs": [],
   "source": []
  }
 ],
 "metadata": {
  "kernelspec": {
   "display_name": "Python 3 (ipykernel)",
   "language": "python",
   "name": "python3"
  },
  "language_info": {
   "codemirror_mode": {
    "name": "ipython",
    "version": 3
   },
   "file_extension": ".py",
   "mimetype": "text/x-python",
   "name": "python",
   "nbconvert_exporter": "python",
   "pygments_lexer": "ipython3",
   "version": "3.13.1"
  }
 },
 "nbformat": 4,
 "nbformat_minor": 5
}
