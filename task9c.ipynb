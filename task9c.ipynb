{
 "cells": [
  {
   "cell_type": "code",
   "execution_count": 6,
   "id": "5d6a3a29-6c37-4317-b006-329209fc5494",
   "metadata": {},
   "outputs": [
    {
     "name": "stdout",
     "output_type": "stream",
     "text": [
      "Total rows before processing: 10841\n",
      "Rows after removing invalid dates: 10840\n",
      "Rows after filtering last 1 year updates: 0\n",
      "Rows after filtering installs & reviews: 0\n",
      "Rows after filtering genres: 0\n",
      "No data available after applying filters.\n"
     ]
    }
   ],
   "source": [
    "import pandas as pd\n",
    "import numpy as np\n",
    "import seaborn as sns\n",
    "import matplotlib.pyplot as plt\n",
    "from datetime import datetime\n",
    "import pytz\n",
    "\n",
    "df = pd.read_csv(\"play store data.csv\")\n",
    "\n",
    "print(f\"Total rows before processing: {len(df)}\")\n",
    "\n",
    "\n",
    "df[\"Installs\"] = (\n",
    "    df[\"Installs\"]\n",
    "    .astype(str)\n",
    "    .str.replace(r\"[^\\d]\", \"\", regex=True)  \n",
    "    .replace(\"\", np.nan)  \n",
    "    .astype(float)  \n",
    "    .fillna(0)\n",
    "    .astype(int)  \n",
    ")\n",
    "\n",
    "\n",
    "df[\"Reviews\"] = pd.to_numeric(df[\"Reviews\"], errors=\"coerce\").fillna(0).astype(int)\n",
    "\n",
    "\n",
    "df[\"Last Updated\"] = pd.to_datetime(df[\"Last Updated\"], errors=\"coerce\")\n",
    "\n",
    "df = df.dropna(subset=[\"Last Updated\"])\n",
    "print(f\"Rows after removing invalid dates: {len(df)}\")\n",
    "\n",
    "\n",
    "one_year_ago = pd.Timestamp.now() - pd.DateOffset(years=1)\n",
    "df = df[df[\"Last Updated\"] >= one_year_ago]\n",
    "print(f\"Rows after filtering last 1 year updates: {len(df)}\")\n",
    "\n",
    "\n",
    "df = df[(df[\"Installs\"] >= 100_000) & (df[\"Reviews\"] > 1_000)]\n",
    "print(f\"Rows after filtering installs & reviews: {len(df)}\")\n",
    "\n",
    "\n",
    "df = df[~df[\"Genres\"].astype(str).str.startswith((\"A\", \"F\", \"E\", \"G\", \"I\", \"K\"))]\n",
    "print(f\"Rows after filtering genres: {len(df)}\")\n",
    "\n",
    "\n",
    "ist = pytz.timezone(\"Asia/Kolkata\")\n",
    "current_time = datetime.now(ist).time()\n",
    "\n",
    "\n",
    "start_time = datetime.strptime(\"14:00\", \"%H:%M\").time()\n",
    "end_time = datetime.strptime(\"16:00\", \"%H:%M\").time()\n",
    "\n",
    "\n",
    "if start_time <= current_time <= end_time:\n",
    "    if df.empty:\n",
    "        print(\"No data available after applying filters.\")\n",
    "    else:\n",
    "      \n",
    "        correlation_data = df[[\"Installs\", \"Rating\", \"Reviews\"]].dropna()\n",
    "        correlation_matrix = correlation_data.corr()\n",
    "\n",
    "        if correlation_matrix.isnull().values.all():\n",
    "            print(\"Correlation matrix contains only NaN values. No valid data to display.\")\n",
    "        else:\n",
    "           \n",
    "            plt.figure(figsize=(8, 6))\n",
    "            sns.heatmap(correlation_matrix, annot=True, cmap=\"coolwarm\", fmt=\".2f\", linewidths=0.5)\n",
    "            plt.title(\"Correlation Matrix of Installs, Ratings, and Reviews\")\n",
    "            plt.show()\n",
    "else:\n",
    "    print(\"graph works only between 2 PM IST to 4 PM.\")\n"
   ]
  },
  {
   "cell_type": "code",
   "execution_count": null,
   "id": "7ded60d5-4f7a-46dc-ab0c-1f810af2bafd",
   "metadata": {},
   "outputs": [],
   "source": []
  }
 ],
 "metadata": {
  "kernelspec": {
   "display_name": "Python 3 (ipykernel)",
   "language": "python",
   "name": "python3"
  },
  "language_info": {
   "codemirror_mode": {
    "name": "ipython",
    "version": 3
   },
   "file_extension": ".py",
   "mimetype": "text/x-python",
   "name": "python",
   "nbconvert_exporter": "python",
   "pygments_lexer": "ipython3",
   "version": "3.13.1"
  }
 },
 "nbformat": 4,
 "nbformat_minor": 5
}
