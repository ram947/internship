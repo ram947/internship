{
 "cells": [
  {
   "cell_type": "code",
   "execution_count": 1,
   "id": "80401e0c-4b75-4a90-be9f-40d73fa9ccb2",
   "metadata": {},
   "outputs": [],
   "source": [
    "import pandas as pd\n",
    "import plotly.graph_objects as go\n",
    "from datetime import datetime\n",
    "import pytz"
   ]
  },
  {
   "cell_type": "code",
   "execution_count": 2,
   "id": "21622f8a-d2ad-4fe0-bcea-e49f6ba59612",
   "metadata": {},
   "outputs": [],
   "source": [
    "file_path = \"Play Store Data.csv\"  \n",
    "df = pd.read_csv(file_path)\n"
   ]
  },
  {
   "cell_type": "code",
   "execution_count": 3,
   "id": "f459cd7e-e886-4c82-850e-4ed1b7848ba7",
   "metadata": {},
   "outputs": [],
   "source": [
    "ist = pytz.timezone(\"Asia/Kolkata\")\n",
    "current_time = datetime.now(ist).time()"
   ]
  },
  {
   "cell_type": "code",
   "execution_count": 10,
   "id": "15c8d218-0d62-45f8-b988-247569f90f09",
   "metadata": {},
   "outputs": [],
   "source": [
    "start_time = datetime.strptime(\"12:00:00\", \"%H:%M:%S\").time()\n",
    "end_time = datetime.strptime(\"14:00:00\", \"%H:%M:%S\").time()"
   ]
  },
  {
   "cell_type": "code",
   "execution_count": 11,
   "id": "c554af93-a7ea-4235-9f54-72c8fe315312",
   "metadata": {},
   "outputs": [
    {
     "name": "stdout",
     "output_type": "stream",
     "text": [
      "The chart is only available between 1 PM IST and 2 PM IST.\n"
     ]
    }
   ],
   "source": [
    "if start_time <= current_time <= end_time:\n",
    "    \n",
    "    \n",
    "    df = df[df[\"Installs\"].str.contains(r\"^\\d\", na=False)]\n",
    "    df[\"Min Installs\"] = df[\"Installs\"].str.replace(r\"[+,]\", \"\", regex=True).astype(float)\n",
    "\n",
    "    \n",
    "    df[\"Price\"] = pd.to_numeric(df[\"Price\"].str.replace(\"$\", \"\", regex=False), errors=\"coerce\").fillna(0)\n",
    "\n",
    "    \n",
    "    df[\"Revenue\"] = df[\"Price\"] * df[\"Min Installs\"]\n",
    "\n",
    "    \n",
    "    df[\"Android Ver\"] = pd.to_numeric(df[\"Android Ver\"].str.extract(r\"(\\d+\\.\\d+)\")[0], errors=\"coerce\")\n",
    "\n",
    "\n",
    "    df[\"Size\"] = pd.to_numeric(df[\"Size\"].str.replace(\"M\", \"\", regex=True), errors=\"coerce\")\n",
    "\n",
    "    \n",
    "    df[\"App Name Length\"] = df[\"App\"].astype(str).apply(len)\n",
    "\n",
    "    filtered_apps = df[\n",
    "        (df[\"Min Installs\"] >= 10000) &\n",
    "        (df[\"Revenue\"] >= 10000) &\n",
    "        (df[\"Android Ver\"] > 4.0) &\n",
    "        (df[\"Size\"] > 15) &\n",
    "        (df[\"Content Rating\"] == \"Everyone\") &\n",
    "        (df[\"App Name Length\"] <= 30)\n",
    "    ]\n",
    "\n",
    "\n",
    "    top_categories = filtered_apps[\"Category\"].value_counts().nlargest(3).index\n",
    "    filtered_apps = filtered_apps[filtered_apps[\"Category\"].isin(top_categories)]\n",
    "\n",
    "   \n",
    "    filtered_apps[\"Payment Type\"] = filtered_apps[\"Price\"].apply(lambda x: \"Free\" if x == 0 else \"Paid\")\n",
    "\n",
    "   \n",
    "    category_stats = filtered_apps.groupby([\"Category\", \"Payment Type\"]).agg(\n",
    "        {\"Min Installs\": \"mean\", \"Revenue\": \"mean\"}).reset_index()\n",
    "\n",
    "  \n",
    "    fig = go.Figure()\n",
    "\n",
    "    fig.add_trace(go.Bar(\n",
    "        x=category_stats[\"Category\"] + \" (\" + category_stats[\"Payment Type\"] + \")\",\n",
    "        y=category_stats[\"Min Installs\"],\n",
    "        name=\"Avg Installs\",\n",
    "        marker_color=\"blue\",\n",
    "        yaxis=\"y1\"\n",
    "    ))\n",
    "\n",
    "   \n",
    "    fig.add_trace(go.Scatter(\n",
    "        x=category_stats[\"Category\"] + \" (\" + category_stats[\"Payment Type\"] + \")\",\n",
    "        y=category_stats[\"Revenue\"],\n",
    "        name=\"Avg Revenue\",\n",
    "        marker_color=\"red\",\n",
    "        mode=\"lines+markers\",\n",
    "        yaxis=\"y2\"\n",
    "    ))\n",
    "\n",
    "   \n",
    "    fig.update_layout(\n",
    "        title=\"Average Installs & Revenue for Free vs. Paid Apps (Top 3 Categories)\",\n",
    "        yaxis=dict(title=\"Avg Installs\", side=\"left\", showgrid=False),\n",
    "        yaxis2=dict(title=\"Avg Revenue\", side=\"right\", overlaying=\"y\", showgrid=False),\n",
    "        xaxis=dict(title=\"Category (Payment Type)\"),\n",
    "        legend=dict(x=0, y=1.1, orientation=\"h\")\n",
    "    )\n",
    "\n",
    "    fig.show()\n",
    "else:\n",
    "    print(\"The chart is only available between 1 PM IST and 2 PM IST.\")\n",
    "\n"
   ]
  },
  {
   "cell_type": "code",
   "execution_count": null,
   "id": "f8832ab4-59e9-4899-80a3-0aa06da72110",
   "metadata": {},
   "outputs": [],
   "source": []
  },
  {
   "cell_type": "code",
   "execution_count": null,
   "id": "bf954575-b425-48a8-8b05-6fc8d1473af4",
   "metadata": {},
   "outputs": [],
   "source": []
  },
  {
   "cell_type": "code",
   "execution_count": null,
   "id": "ec00a999-6615-4a7e-a49f-07db14cbf6a6",
   "metadata": {},
   "outputs": [],
   "source": []
  },
  {
   "cell_type": "code",
   "execution_count": null,
   "id": "e06f2120-56a5-4a9e-8986-88cfc3e56a1e",
   "metadata": {},
   "outputs": [],
   "source": []
  },
  {
   "cell_type": "code",
   "execution_count": null,
   "id": "a5097bc5-3c87-4ddc-a787-34b68a6fc054",
   "metadata": {},
   "outputs": [],
   "source": []
  }
 ],
 "metadata": {
  "kernelspec": {
   "display_name": "Python 3 (ipykernel)",
   "language": "python",
   "name": "python3"
  },
  "language_info": {
   "codemirror_mode": {
    "name": "ipython",
    "version": 3
   },
   "file_extension": ".py",
   "mimetype": "text/x-python",
   "name": "python",
   "nbconvert_exporter": "python",
   "pygments_lexer": "ipython3",
   "version": "3.13.1"
  }
 },
 "nbformat": 4,
 "nbformat_minor": 5
}
